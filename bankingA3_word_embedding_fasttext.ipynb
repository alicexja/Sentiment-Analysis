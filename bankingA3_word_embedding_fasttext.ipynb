{
  "nbformat": 4,
  "nbformat_minor": 0,
  "metadata": {
    "colab": {
      "name": "bankingA3_word_embedding_fasttext.ipynb",
      "provenance": [],
      "machine_shape": "hm"
    },
    "kernelspec": {
      "name": "python3",
      "display_name": "Python 3"
    },
    "accelerator": "GPU"
  },
  "cells": [
    {
      "cell_type": "code",
      "metadata": {
        "id": "No85b8ogpMef",
        "colab_type": "code",
        "outputId": "8d72d33e-f72f-4b2d-e10f-50755dd5d8ff",
        "colab": {
          "base_uri": "https://localhost:8080/",
          "height": 64
        }
      },
      "source": [
        "# General imports\n",
        "import string\n",
        "import numpy as np\n",
        "import pandas as pd\n",
        "import sklearn.feature_extraction as skprep\n",
        "from sklearn.metrics import roc_curve, auc\n",
        "from itertools import compress\n",
        "import matplotlib.pyplot as plt\n",
        "import seaborn as sns\n",
        "import random\n",
        "random.seed(20190124)\n",
        "%matplotlib inline\n",
        "\n",
        "# Keras imports\n",
        "import tensorflow as tf\n",
        "import tensorflow.keras as keras\n",
        "from tensorflow.keras.utils import to_categorical\n",
        "from tensorflow.keras.models import Sequential, Model\n",
        "from tensorflow.keras.layers import Input, Embedding, Reshape, MaxPooling1D\n",
        "from tensorflow.keras.layers import Activation\n",
        "from tensorflow.keras.layers import Flatten, Dense, Dropout, Lambda\n",
        "from tensorflow.keras.layers import BatchNormalization\n",
        "from tensorflow.keras.optimizers import SGD, RMSprop, Adam\n",
        "from tensorflow.keras.metrics import categorical_crossentropy, categorical_accuracy\n",
        "from tensorflow.keras.layers import *\n",
        "from tensorflow.keras.preprocessing import image, sequence\n",
        "from tensorflow.keras.preprocessing.text import Tokenizer\n",
        "from tensorflow.keras.preprocessing.sequence import pad_sequences\n",
        "\n",
        "import pandas as pd\n",
        "import seaborn as sns\n",
        "import numpy as np\n",
        "import string\n",
        "import pickle\n",
        "import codecs\n",
        "import fileinput\n",
        "import os\n",
        "import re\n",
        "from sklearn.metrics import roc_curve, auc\n",
        "from sklearn.model_selection import train_test_split\n",
        "import nltk\n",
        "from collections import Counter\n",
        "from nltk.corpus import stopwords\n",
        "from nltk.stem import PorterStemmer\n"
      ],
      "execution_count": 0,
      "outputs": [
        {
          "output_type": "display_data",
          "data": {
            "text/html": [
              "<p style=\"color: red;\">\n",
              "The default version of TensorFlow in Colab will soon switch to TensorFlow 2.x.<br>\n",
              "We recommend you <a href=\"https://www.tensorflow.org/guide/migrate\" target=\"_blank\">upgrade</a> now \n",
              "or ensure your notebook will continue to use TensorFlow 1.x via the <code>%tensorflow_version 1.x</code> magic:\n",
              "<a href=\"https://colab.research.google.com/notebooks/tensorflow_version.ipynb\" target=\"_blank\">more info</a>.</p>\n"
            ],
            "text/plain": [
              "<IPython.core.display.HTML object>"
            ]
          },
          "metadata": {
            "tags": []
          }
        }
      ]
    },
    {
      "cell_type": "code",
      "metadata": {
        "id": "TneCvbz0qGSG",
        "colab_type": "code",
        "outputId": "940b97b2-cbfb-40e1-b716-31b0878a3693",
        "colab": {
          "base_uri": "https://localhost:8080/",
          "height": 1000
        }
      },
      "source": [
        "## download fasttext library and make\n",
        "!wget https://github.com/facebookresearch/fastText/archive/v0.9.1.zip \n",
        "!unzip v0.9.1.zip\n",
        "%cd fastText-0.9.1\n",
        "!make\n",
        "# download the embedding vectors. use 2 million word vectors trained with subword information on Common Crawl (600B tokens).\n",
        "!wget https://dl.fbaipublicfiles.com/fasttext/vectors-english/crawl-300d-2M-subword.zip\n",
        "!unzip crawl-300d-2M-subword.zip\n",
        "!wget --no-check-certificate --output-document=data.zip 'https://drive.google.com/uc?export=download&id=1bsOWcjQFCylShsMslVtso6WDL2nquaPJ'\n",
        "!unzip data.zip"
      ],
      "execution_count": 0,
      "outputs": [
        {
          "output_type": "stream",
          "text": [
            "--2019-12-16 00:54:00--  https://github.com/facebookresearch/fastText/archive/v0.9.1.zip\n",
            "Resolving github.com (github.com)... 140.82.113.4\n",
            "Connecting to github.com (github.com)|140.82.113.4|:443... connected.\n",
            "HTTP request sent, awaiting response... 302 Found\n",
            "Location: https://codeload.github.com/facebookresearch/fastText/zip/v0.9.1 [following]\n",
            "--2019-12-16 00:54:00--  https://codeload.github.com/facebookresearch/fastText/zip/v0.9.1\n",
            "Resolving codeload.github.com (codeload.github.com)... 140.82.114.9\n",
            "Connecting to codeload.github.com (codeload.github.com)|140.82.114.9|:443... connected.\n",
            "HTTP request sent, awaiting response... 200 OK\n",
            "Length: unspecified [application/zip]\n",
            "Saving to: ‘v0.9.1.zip’\n",
            "\n",
            "v0.9.1.zip              [  <=>               ]   4.13M  15.7MB/s    in 0.3s    \n",
            "\n",
            "2019-12-16 00:54:00 (15.7 MB/s) - ‘v0.9.1.zip’ saved [4327207]\n",
            "\n",
            "Archive:  v0.9.1.zip\n",
            "b5b7d307274ce00ef52198fbc692ed3bd11d9856\n",
            "   creating: fastText-0.9.1/\n",
            "   creating: fastText-0.9.1/.circleci/\n",
            "  inflating: fastText-0.9.1/.circleci/cmake_test.sh  \n",
            "  inflating: fastText-0.9.1/.circleci/config.yml  \n",
            "  inflating: fastText-0.9.1/.circleci/gcc_test.sh  \n",
            "  inflating: fastText-0.9.1/.circleci/pip_test.sh  \n",
            "  inflating: fastText-0.9.1/.circleci/pull_data.sh  \n",
            "  inflating: fastText-0.9.1/.circleci/python_test.sh  \n",
            "  inflating: fastText-0.9.1/.circleci/run_locally.sh  \n",
            "  inflating: fastText-0.9.1/.circleci/setup_circleimg.sh  \n",
            "  inflating: fastText-0.9.1/.circleci/setup_debian.sh  \n",
            "  inflating: fastText-0.9.1/.gitignore  \n",
            "  inflating: fastText-0.9.1/CMakeLists.txt  \n",
            "  inflating: fastText-0.9.1/CODE_OF_CONDUCT.md  \n",
            "  inflating: fastText-0.9.1/CONTRIBUTING.md  \n",
            "  inflating: fastText-0.9.1/LICENSE  \n",
            "  inflating: fastText-0.9.1/MANIFEST.in  \n",
            "  inflating: fastText-0.9.1/Makefile  \n",
            "  inflating: fastText-0.9.1/README.md  \n",
            "   creating: fastText-0.9.1/alignment/\n",
            "  inflating: fastText-0.9.1/alignment/README.md  \n",
            "  inflating: fastText-0.9.1/alignment/align.py  \n",
            "  inflating: fastText-0.9.1/alignment/eval.py  \n",
            "  inflating: fastText-0.9.1/alignment/example.sh  \n",
            "  inflating: fastText-0.9.1/alignment/unsup_align.py  \n",
            "  inflating: fastText-0.9.1/alignment/utils.py  \n",
            "  inflating: fastText-0.9.1/classification-example.sh  \n",
            "  inflating: fastText-0.9.1/classification-results.sh  \n",
            "   creating: fastText-0.9.1/crawl/\n",
            "  inflating: fastText-0.9.1/crawl/README.md  \n",
            "  inflating: fastText-0.9.1/crawl/dedup.cc  \n",
            "  inflating: fastText-0.9.1/crawl/download_crawl.sh  \n",
            "  inflating: fastText-0.9.1/crawl/filter_dedup.sh  \n",
            "  inflating: fastText-0.9.1/crawl/filter_utf8.cc  \n",
            "  inflating: fastText-0.9.1/crawl/process_wet_file.sh  \n",
            "   creating: fastText-0.9.1/docs/\n",
            "  inflating: fastText-0.9.1/docs/aligned-vectors.md  \n",
            "  inflating: fastText-0.9.1/docs/api.md  \n",
            "  inflating: fastText-0.9.1/docs/cheatsheet.md  \n",
            "  inflating: fastText-0.9.1/docs/crawl-vectors.md  \n",
            "  inflating: fastText-0.9.1/docs/dataset.md  \n",
            "  inflating: fastText-0.9.1/docs/english-vectors.md  \n",
            "  inflating: fastText-0.9.1/docs/faqs.md  \n",
            "  inflating: fastText-0.9.1/docs/language-identification.md  \n",
            "  inflating: fastText-0.9.1/docs/options.md  \n",
            "  inflating: fastText-0.9.1/docs/pretrained-vectors.md  \n",
            "  inflating: fastText-0.9.1/docs/python-module.md  \n",
            "  inflating: fastText-0.9.1/docs/references.md  \n",
            "  inflating: fastText-0.9.1/docs/supervised-models.md  \n",
            "  inflating: fastText-0.9.1/docs/supervised-tutorial.md  \n",
            "  inflating: fastText-0.9.1/docs/support.md  \n",
            "  inflating: fastText-0.9.1/docs/unsupervised-tutorials.md  \n",
            "  inflating: fastText-0.9.1/eval.py  \n",
            "  inflating: fastText-0.9.1/get-wikimedia.sh  \n",
            "   creating: fastText-0.9.1/python/\n",
            "  inflating: fastText-0.9.1/python/README.md  \n",
            "  inflating: fastText-0.9.1/python/README.rst  \n",
            "   creating: fastText-0.9.1/python/benchmarks/\n",
            "  inflating: fastText-0.9.1/python/benchmarks/README.rst  \n",
            "  inflating: fastText-0.9.1/python/benchmarks/get_word_vector.py  \n",
            "   creating: fastText-0.9.1/python/doc/\n",
            "   creating: fastText-0.9.1/python/doc/examples/\n",
            "  inflating: fastText-0.9.1/python/doc/examples/FastTextEmbeddingBag.py  \n",
            "  inflating: fastText-0.9.1/python/doc/examples/bin_to_vec.py  \n",
            "  inflating: fastText-0.9.1/python/doc/examples/compute_accuracy.py  \n",
            "  inflating: fastText-0.9.1/python/doc/examples/get_vocab.py  \n",
            "  inflating: fastText-0.9.1/python/doc/examples/train_supervised.py  \n",
            "  inflating: fastText-0.9.1/python/doc/examples/train_unsupervised.py  \n",
            "   creating: fastText-0.9.1/python/fasttext_module/\n",
            "   creating: fastText-0.9.1/python/fasttext_module/fasttext/\n",
            "  inflating: fastText-0.9.1/python/fasttext_module/fasttext/FastText.py  \n",
            "  inflating: fastText-0.9.1/python/fasttext_module/fasttext/__init__.py  \n",
            "   creating: fastText-0.9.1/python/fasttext_module/fasttext/pybind/\n",
            "  inflating: fastText-0.9.1/python/fasttext_module/fasttext/pybind/fasttext_pybind.cc  \n",
            "   creating: fastText-0.9.1/python/fasttext_module/fasttext/tests/\n",
            "  inflating: fastText-0.9.1/python/fasttext_module/fasttext/tests/__init__.py  \n",
            "  inflating: fastText-0.9.1/python/fasttext_module/fasttext/tests/test_configurations.py  \n",
            "  inflating: fastText-0.9.1/python/fasttext_module/fasttext/tests/test_script.py  \n",
            "   creating: fastText-0.9.1/python/fasttext_module/fasttext/util/\n",
            "  inflating: fastText-0.9.1/python/fasttext_module/fasttext/util/__init__.py  \n",
            "  inflating: fastText-0.9.1/python/fasttext_module/fasttext/util/util.py  \n",
            "  inflating: fastText-0.9.1/quantization-example.sh  \n",
            "  inflating: fastText-0.9.1/runtests.py  \n",
            "   creating: fastText-0.9.1/scripts/\n",
            "   creating: fastText-0.9.1/scripts/kbcompletion/\n",
            "  inflating: fastText-0.9.1/scripts/kbcompletion/README.md  \n",
            "  inflating: fastText-0.9.1/scripts/kbcompletion/data.sh  \n",
            "  inflating: fastText-0.9.1/scripts/kbcompletion/eval.cpp  \n",
            "  inflating: fastText-0.9.1/scripts/kbcompletion/fb15k.sh  \n",
            "  inflating: fastText-0.9.1/scripts/kbcompletion/fb15k237.sh  \n",
            "  inflating: fastText-0.9.1/scripts/kbcompletion/svo.sh  \n",
            "  inflating: fastText-0.9.1/scripts/kbcompletion/wn18.sh  \n",
            "   creating: fastText-0.9.1/scripts/quantization/\n",
            "  inflating: fastText-0.9.1/scripts/quantization/quantization-results.sh  \n",
            " extracting: fastText-0.9.1/setup.cfg  \n",
            "  inflating: fastText-0.9.1/setup.py  \n",
            "   creating: fastText-0.9.1/src/\n",
            "  inflating: fastText-0.9.1/src/args.cc  \n",
            "  inflating: fastText-0.9.1/src/args.h  \n",
            "  inflating: fastText-0.9.1/src/densematrix.cc  \n",
            "  inflating: fastText-0.9.1/src/densematrix.h  \n",
            "  inflating: fastText-0.9.1/src/dictionary.cc  \n",
            "  inflating: fastText-0.9.1/src/dictionary.h  \n",
            "  inflating: fastText-0.9.1/src/fasttext.cc  \n",
            "  inflating: fastText-0.9.1/src/fasttext.h  \n",
            "  inflating: fastText-0.9.1/src/loss.cc  \n",
            "  inflating: fastText-0.9.1/src/loss.h  \n",
            "  inflating: fastText-0.9.1/src/main.cc  \n",
            "  inflating: fastText-0.9.1/src/matrix.cc  \n",
            "  inflating: fastText-0.9.1/src/matrix.h  \n",
            "  inflating: fastText-0.9.1/src/meter.cc  \n",
            "  inflating: fastText-0.9.1/src/meter.h  \n",
            "  inflating: fastText-0.9.1/src/model.cc  \n",
            "  inflating: fastText-0.9.1/src/model.h  \n",
            "  inflating: fastText-0.9.1/src/productquantizer.cc  \n",
            "  inflating: fastText-0.9.1/src/productquantizer.h  \n",
            "  inflating: fastText-0.9.1/src/quantmatrix.cc  \n",
            "  inflating: fastText-0.9.1/src/quantmatrix.h  \n",
            "  inflating: fastText-0.9.1/src/real.h  \n",
            "  inflating: fastText-0.9.1/src/utils.cc  \n",
            "  inflating: fastText-0.9.1/src/utils.h  \n",
            "  inflating: fastText-0.9.1/src/vector.cc  \n",
            "  inflating: fastText-0.9.1/src/vector.h  \n",
            "   creating: fastText-0.9.1/tests/\n",
            "  inflating: fastText-0.9.1/tests/fetch_test_data.sh  \n",
            "   creating: fastText-0.9.1/website/\n",
            "  inflating: fastText-0.9.1/website/README.md  \n",
            "   creating: fastText-0.9.1/website/blog/\n",
            "  inflating: fastText-0.9.1/website/blog/2016-08-18-blog-post.md  \n",
            "  inflating: fastText-0.9.1/website/blog/2017-05-02-blog-post.md  \n",
            "  inflating: fastText-0.9.1/website/blog/2017-10-02-blog-post.md  \n",
            "  inflating: fastText-0.9.1/website/blog/2019-06-25-blog-post.md  \n",
            "   creating: fastText-0.9.1/website/core/\n",
            "  inflating: fastText-0.9.1/website/core/Footer.js  \n",
            "  inflating: fastText-0.9.1/website/package.json  \n",
            "   creating: fastText-0.9.1/website/pages/\n",
            "   creating: fastText-0.9.1/website/pages/en/\n",
            "  inflating: fastText-0.9.1/website/pages/en/index.js  \n",
            "  inflating: fastText-0.9.1/website/sidebars.json  \n",
            "  inflating: fastText-0.9.1/website/siteConfig.js  \n",
            "   creating: fastText-0.9.1/website/static/\n",
            "   creating: fastText-0.9.1/website/static/docs/\n",
            "   creating: fastText-0.9.1/website/static/docs/en/\n",
            "   creating: fastText-0.9.1/website/static/docs/en/html/\n",
            " extracting: fastText-0.9.1/website/static/docs/en/html/.classfasttext_1_1QMatrix-members.html.i4eKqy  \n",
            "  inflating: fastText-0.9.1/website/static/docs/en/html/annotated.html  \n",
            "  inflating: fastText-0.9.1/website/static/docs/en/html/annotated_dup.js  \n",
            "  inflating: fastText-0.9.1/website/static/docs/en/html/args_8cc.html  \n",
            "  inflating: fastText-0.9.1/website/static/docs/en/html/args_8h.html  \n",
            "  inflating: fastText-0.9.1/website/static/docs/en/html/args_8h.js  \n",
            "  inflating: fastText-0.9.1/website/static/docs/en/html/args_8h_source.html  \n",
            " extracting: fastText-0.9.1/website/static/docs/en/html/bc_s.png  \n",
            "  inflating: fastText-0.9.1/website/static/docs/en/html/bdwn.png  \n",
            "  inflating: fastText-0.9.1/website/static/docs/en/html/classes.html  \n",
            "  inflating: fastText-0.9.1/website/static/docs/en/html/classfasttext_1_1Args-members.html  \n",
            "  inflating: fastText-0.9.1/website/static/docs/en/html/classfasttext_1_1Args.html  \n",
            "  inflating: fastText-0.9.1/website/static/docs/en/html/classfasttext_1_1Args.js  \n",
            "  inflating: fastText-0.9.1/website/static/docs/en/html/classfasttext_1_1Dictionary-members.html  \n",
            "  inflating: fastText-0.9.1/website/static/docs/en/html/classfasttext_1_1Dictionary.html  \n",
            "  inflating: fastText-0.9.1/website/static/docs/en/html/classfasttext_1_1Dictionary.js  \n",
            "  inflating: fastText-0.9.1/website/static/docs/en/html/classfasttext_1_1FastText-members.html  \n",
            "  inflating: fastText-0.9.1/website/static/docs/en/html/classfasttext_1_1FastText.html  \n",
            "  inflating: fastText-0.9.1/website/static/docs/en/html/classfasttext_1_1FastText.js  \n",
            "  inflating: fastText-0.9.1/website/static/docs/en/html/classfasttext_1_1Matrix-members.html  \n",
            "  inflating: fastText-0.9.1/website/static/docs/en/html/classfasttext_1_1Matrix.html  \n",
            "  inflating: fastText-0.9.1/website/static/docs/en/html/classfasttext_1_1Matrix.js  \n",
            "  inflating: fastText-0.9.1/website/static/docs/en/html/classfasttext_1_1Model-members.html  \n",
            "  inflating: fastText-0.9.1/website/static/docs/en/html/classfasttext_1_1Model.html  \n",
            "  inflating: fastText-0.9.1/website/static/docs/en/html/classfasttext_1_1Model.js  \n",
            "  inflating: fastText-0.9.1/website/static/docs/en/html/classfasttext_1_1ProductQuantizer-members.html  \n",
            "  inflating: fastText-0.9.1/website/static/docs/en/html/classfasttext_1_1ProductQuantizer.html  \n",
            "  inflating: fastText-0.9.1/website/static/docs/en/html/classfasttext_1_1ProductQuantizer.js  \n",
            "  inflating: fastText-0.9.1/website/static/docs/en/html/classfasttext_1_1QMatrix-members.html  \n",
            "  inflating: fastText-0.9.1/website/static/docs/en/html/classfasttext_1_1QMatrix.html  \n",
            "  inflating: fastText-0.9.1/website/static/docs/en/html/classfasttext_1_1QMatrix.js  \n",
            "  inflating: fastText-0.9.1/website/static/docs/en/html/classfasttext_1_1Vector-members.html  \n",
            "  inflating: fastText-0.9.1/website/static/docs/en/html/classfasttext_1_1Vector.html  \n",
            "  inflating: fastText-0.9.1/website/static/docs/en/html/classfasttext_1_1Vector.js  \n",
            "  inflating: fastText-0.9.1/website/static/docs/en/html/closed.png  \n",
            "  inflating: fastText-0.9.1/website/static/docs/en/html/dictionary_8cc.html  \n",
            "  inflating: fastText-0.9.1/website/static/docs/en/html/dictionary_8h.html  \n",
            "  inflating: fastText-0.9.1/website/static/docs/en/html/dictionary_8h.js  \n",
            "  inflating: fastText-0.9.1/website/static/docs/en/html/dictionary_8h_source.html  \n",
            "  inflating: fastText-0.9.1/website/static/docs/en/html/dir_68267d1309a1af8e8297ef4c3efbcdba.html  \n",
            "  inflating: fastText-0.9.1/website/static/docs/en/html/dir_68267d1309a1af8e8297ef4c3efbcdba.js  \n",
            " extracting: fastText-0.9.1/website/static/docs/en/html/doc.png  \n",
            "  inflating: fastText-0.9.1/website/static/docs/en/html/doxygen.css  \n",
            " extracting: fastText-0.9.1/website/static/docs/en/html/doxygen.png  \n",
            "  inflating: fastText-0.9.1/website/static/docs/en/html/dynsections.js  \n",
            "  inflating: fastText-0.9.1/website/static/docs/en/html/fasttext_8cc.html  \n",
            "  inflating: fastText-0.9.1/website/static/docs/en/html/fasttext_8h.html  \n",
            "  inflating: fastText-0.9.1/website/static/docs/en/html/fasttext_8h.js  \n",
            "  inflating: fastText-0.9.1/website/static/docs/en/html/fasttext_8h_source.html  \n",
            "  inflating: fastText-0.9.1/website/static/docs/en/html/favicon.png  \n",
            "  inflating: fastText-0.9.1/website/static/docs/en/html/files.html  \n",
            "  inflating: fastText-0.9.1/website/static/docs/en/html/files.js  \n",
            " extracting: fastText-0.9.1/website/static/docs/en/html/folderclosed.png  \n",
            " extracting: fastText-0.9.1/website/static/docs/en/html/folderopen.png  \n",
            "  inflating: fastText-0.9.1/website/static/docs/en/html/functions.html  \n",
            "  inflating: fastText-0.9.1/website/static/docs/en/html/functions_0x7e.html  \n",
            "  inflating: fastText-0.9.1/website/static/docs/en/html/functions_b.html  \n",
            "  inflating: fastText-0.9.1/website/static/docs/en/html/functions_c.html  \n",
            "  inflating: fastText-0.9.1/website/static/docs/en/html/functions_d.html  \n",
            "  inflating: fastText-0.9.1/website/static/docs/en/html/functions_dup.js  \n",
            "  inflating: fastText-0.9.1/website/static/docs/en/html/functions_e.html  \n",
            "  inflating: fastText-0.9.1/website/static/docs/en/html/functions_f.html  \n",
            "  inflating: fastText-0.9.1/website/static/docs/en/html/functions_func.html  \n",
            "  inflating: fastText-0.9.1/website/static/docs/en/html/functions_g.html  \n",
            "  inflating: fastText-0.9.1/website/static/docs/en/html/functions_h.html  \n",
            "  inflating: fastText-0.9.1/website/static/docs/en/html/functions_i.html  \n",
            "  inflating: fastText-0.9.1/website/static/docs/en/html/functions_k.html  \n",
            "  inflating: fastText-0.9.1/website/static/docs/en/html/functions_l.html  \n",
            "  inflating: fastText-0.9.1/website/static/docs/en/html/functions_m.html  \n",
            "  inflating: fastText-0.9.1/website/static/docs/en/html/functions_n.html  \n",
            "  inflating: fastText-0.9.1/website/static/docs/en/html/functions_o.html  \n",
            "  inflating: fastText-0.9.1/website/static/docs/en/html/functions_p.html  \n",
            "  inflating: fastText-0.9.1/website/static/docs/en/html/functions_q.html  \n",
            "  inflating: fastText-0.9.1/website/static/docs/en/html/functions_r.html  \n",
            "  inflating: fastText-0.9.1/website/static/docs/en/html/functions_s.html  \n",
            "  inflating: fastText-0.9.1/website/static/docs/en/html/functions_t.html  \n",
            "  inflating: fastText-0.9.1/website/static/docs/en/html/functions_u.html  \n",
            "  inflating: fastText-0.9.1/website/static/docs/en/html/functions_v.html  \n",
            "  inflating: fastText-0.9.1/website/static/docs/en/html/functions_vars.html  \n",
            "  inflating: fastText-0.9.1/website/static/docs/en/html/functions_w.html  \n",
            "  inflating: fastText-0.9.1/website/static/docs/en/html/functions_z.html  \n",
            "  inflating: fastText-0.9.1/website/static/docs/en/html/globals.html  \n",
            "  inflating: fastText-0.9.1/website/static/docs/en/html/globals_defs.html  \n",
            "  inflating: fastText-0.9.1/website/static/docs/en/html/globals_func.html  \n",
            "  inflating: fastText-0.9.1/website/static/docs/en/html/index.html  \n",
            "  inflating: fastText-0.9.1/website/static/docs/en/html/jquery.js  \n",
            "  inflating: fastText-0.9.1/website/static/docs/en/html/main_8cc.html  \n",
            "  inflating: fastText-0.9.1/website/static/docs/en/html/main_8cc.js  \n",
            "  inflating: fastText-0.9.1/website/static/docs/en/html/matrix_8cc.html  \n",
            "  inflating: fastText-0.9.1/website/static/docs/en/html/matrix_8h.html  \n",
            "  inflating: fastText-0.9.1/website/static/docs/en/html/matrix_8h_source.html  \n",
            "  inflating: fastText-0.9.1/website/static/docs/en/html/menu.js  \n",
            "  inflating: fastText-0.9.1/website/static/docs/en/html/menudata.js  \n",
            "  inflating: fastText-0.9.1/website/static/docs/en/html/model_8cc.html  \n",
            "  inflating: fastText-0.9.1/website/static/docs/en/html/model_8h.html  \n",
            "  inflating: fastText-0.9.1/website/static/docs/en/html/model_8h.js  \n",
            "  inflating: fastText-0.9.1/website/static/docs/en/html/model_8h_source.html  \n",
            "  inflating: fastText-0.9.1/website/static/docs/en/html/namespacefasttext.html  \n",
            "  inflating: fastText-0.9.1/website/static/docs/en/html/namespacefasttext.js  \n",
            "  inflating: fastText-0.9.1/website/static/docs/en/html/namespacefasttext_1_1utils.html  \n",
            "  inflating: fastText-0.9.1/website/static/docs/en/html/namespacemembers.html  \n",
            "  inflating: fastText-0.9.1/website/static/docs/en/html/namespacemembers_enum.html  \n",
            "  inflating: fastText-0.9.1/website/static/docs/en/html/namespacemembers_func.html  \n",
            "  inflating: fastText-0.9.1/website/static/docs/en/html/namespacemembers_type.html  \n",
            "  inflating: fastText-0.9.1/website/static/docs/en/html/namespaces.html  \n",
            "  inflating: fastText-0.9.1/website/static/docs/en/html/namespaces.js  \n",
            " extracting: fastText-0.9.1/website/static/docs/en/html/nav_f.png  \n",
            "  inflating: fastText-0.9.1/website/static/docs/en/html/nav_g.png  \n",
            "  inflating: fastText-0.9.1/website/static/docs/en/html/nav_h.png  \n",
            "  inflating: fastText-0.9.1/website/static/docs/en/html/navtree.css  \n",
            "  inflating: fastText-0.9.1/website/static/docs/en/html/navtree.js  \n",
            "  inflating: fastText-0.9.1/website/static/docs/en/html/navtreedata.js  \n",
            "  inflating: fastText-0.9.1/website/static/docs/en/html/navtreeindex0.js  \n",
            "  inflating: fastText-0.9.1/website/static/docs/en/html/navtreeindex1.js  \n",
            "  inflating: fastText-0.9.1/website/static/docs/en/html/open.png  \n",
            "  inflating: fastText-0.9.1/website/static/docs/en/html/productquantizer_8cc.html  \n",
            "  inflating: fastText-0.9.1/website/static/docs/en/html/productquantizer_8cc.js  \n",
            "  inflating: fastText-0.9.1/website/static/docs/en/html/productquantizer_8h.html  \n",
            "  inflating: fastText-0.9.1/website/static/docs/en/html/productquantizer_8h_source.html  \n",
            "  inflating: fastText-0.9.1/website/static/docs/en/html/qmatrix_8cc.html  \n",
            "  inflating: fastText-0.9.1/website/static/docs/en/html/qmatrix_8h.html  \n",
            "  inflating: fastText-0.9.1/website/static/docs/en/html/qmatrix_8h_source.html  \n",
            "  inflating: fastText-0.9.1/website/static/docs/en/html/real_8h.html  \n",
            "  inflating: fastText-0.9.1/website/static/docs/en/html/real_8h.js  \n",
            "  inflating: fastText-0.9.1/website/static/docs/en/html/real_8h_source.html  \n",
            "  inflating: fastText-0.9.1/website/static/docs/en/html/resize.js  \n",
            "   creating: fastText-0.9.1/website/static/docs/en/html/search/\n",
            " extracting: fastText-0.9.1/website/static/docs/en/html/search/.files_7.html.StRRNc  \n",
            " extracting: fastText-0.9.1/website/static/docs/en/html/search/.variables_a.html.1MGQ27  \n",
            "  inflating: fastText-0.9.1/website/static/docs/en/html/search/all_0.html  \n",
            "  inflating: fastText-0.9.1/website/static/docs/en/html/search/all_0.js  \n",
            "  inflating: fastText-0.9.1/website/static/docs/en/html/search/all_1.html  \n",
            "  inflating: fastText-0.9.1/website/static/docs/en/html/search/all_1.js  \n",
            "  inflating: fastText-0.9.1/website/static/docs/en/html/search/all_10.html  \n",
            "  inflating: fastText-0.9.1/website/static/docs/en/html/search/all_10.js  \n",
            "  inflating: fastText-0.9.1/website/static/docs/en/html/search/all_11.html  \n",
            "  inflating: fastText-0.9.1/website/static/docs/en/html/search/all_11.js  \n",
            "  inflating: fastText-0.9.1/website/static/docs/en/html/search/all_12.html  \n",
            "  inflating: fastText-0.9.1/website/static/docs/en/html/search/all_12.js  \n",
            "  inflating: fastText-0.9.1/website/static/docs/en/html/search/all_13.html  \n",
            "  inflating: fastText-0.9.1/website/static/docs/en/html/search/all_13.js  \n",
            "  inflating: fastText-0.9.1/website/static/docs/en/html/search/all_14.html  \n",
            "  inflating: fastText-0.9.1/website/static/docs/en/html/search/all_14.js  \n",
            "  inflating: fastText-0.9.1/website/static/docs/en/html/search/all_15.html  \n",
            "  inflating: fastText-0.9.1/website/static/docs/en/html/search/all_15.js  \n",
            "  inflating: fastText-0.9.1/website/static/docs/en/html/search/all_16.html  \n",
            "  inflating: fastText-0.9.1/website/static/docs/en/html/search/all_16.js  \n",
            "  inflating: fastText-0.9.1/website/static/docs/en/html/search/all_17.html  \n",
            "  inflating: fastText-0.9.1/website/static/docs/en/html/search/all_17.js  \n",
            "  inflating: fastText-0.9.1/website/static/docs/en/html/search/all_2.html  \n",
            "  inflating: fastText-0.9.1/website/static/docs/en/html/search/all_2.js  \n",
            "  inflating: fastText-0.9.1/website/static/docs/en/html/search/all_3.html  \n",
            "  inflating: fastText-0.9.1/website/static/docs/en/html/search/all_3.js  \n",
            "  inflating: fastText-0.9.1/website/static/docs/en/html/search/all_4.html  \n",
            "  inflating: fastText-0.9.1/website/static/docs/en/html/search/all_4.js  \n",
            "  inflating: fastText-0.9.1/website/static/docs/en/html/search/all_5.html  \n",
            "  inflating: fastText-0.9.1/website/static/docs/en/html/search/all_5.js  \n",
            "  inflating: fastText-0.9.1/website/static/docs/en/html/search/all_6.html  \n",
            "  inflating: fastText-0.9.1/website/static/docs/en/html/search/all_6.js  \n",
            "  inflating: fastText-0.9.1/website/static/docs/en/html/search/all_7.html  \n",
            "  inflating: fastText-0.9.1/website/static/docs/en/html/search/all_7.js  \n",
            "  inflating: fastText-0.9.1/website/static/docs/en/html/search/all_8.html  \n",
            "  inflating: fastText-0.9.1/website/static/docs/en/html/search/all_8.js  \n",
            "  inflating: fastText-0.9.1/website/static/docs/en/html/search/all_9.html  \n",
            "  inflating: fastText-0.9.1/website/static/docs/en/html/search/all_9.js  \n",
            "  inflating: fastText-0.9.1/website/static/docs/en/html/search/all_a.html  \n",
            "  inflating: fastText-0.9.1/website/static/docs/en/html/search/all_a.js  \n",
            "  inflating: fastText-0.9.1/website/static/docs/en/html/search/all_b.html  \n",
            "  inflating: fastText-0.9.1/website/static/docs/en/html/search/all_b.js  \n",
            "  inflating: fastText-0.9.1/website/static/docs/en/html/search/all_c.html  \n",
            "  inflating: fastText-0.9.1/website/static/docs/en/html/search/all_c.js  \n",
            "  inflating: fastText-0.9.1/website/static/docs/en/html/search/all_d.html  \n",
            "  inflating: fastText-0.9.1/website/static/docs/en/html/search/all_d.js  \n",
            "  inflating: fastText-0.9.1/website/static/docs/en/html/search/all_e.html  \n",
            "  inflating: fastText-0.9.1/website/static/docs/en/html/search/all_e.js  \n",
            "  inflating: fastText-0.9.1/website/static/docs/en/html/search/all_f.html  \n",
            "  inflating: fastText-0.9.1/website/static/docs/en/html/search/all_f.js  \n",
            "  inflating: fastText-0.9.1/website/static/docs/en/html/search/classes_0.html  \n",
            "  inflating: fastText-0.9.1/website/static/docs/en/html/search/classes_0.js  \n",
            "  inflating: fastText-0.9.1/website/static/docs/en/html/search/classes_1.html  \n",
            "  inflating: fastText-0.9.1/website/static/docs/en/html/search/classes_1.js  \n",
            "  inflating: fastText-0.9.1/website/static/docs/en/html/search/classes_2.html  \n",
            "  inflating: fastText-0.9.1/website/static/docs/en/html/search/classes_2.js  \n",
            "  inflating: fastText-0.9.1/website/static/docs/en/html/search/classes_3.html  \n",
            "  inflating: fastText-0.9.1/website/static/docs/en/html/search/classes_3.js  \n",
            "  inflating: fastText-0.9.1/website/static/docs/en/html/search/classes_4.html  \n",
            "  inflating: fastText-0.9.1/website/static/docs/en/html/search/classes_4.js  \n",
            "  inflating: fastText-0.9.1/website/static/docs/en/html/search/classes_5.html  \n",
            "  inflating: fastText-0.9.1/website/static/docs/en/html/search/classes_5.js  \n",
            "  inflating: fastText-0.9.1/website/static/docs/en/html/search/classes_6.html  \n",
            "  inflating: fastText-0.9.1/website/static/docs/en/html/search/classes_6.js  \n",
            "  inflating: fastText-0.9.1/website/static/docs/en/html/search/classes_7.html  \n",
            "  inflating: fastText-0.9.1/website/static/docs/en/html/search/classes_7.js  \n",
            "  inflating: fastText-0.9.1/website/static/docs/en/html/search/classes_8.html  \n",
            "  inflating: fastText-0.9.1/website/static/docs/en/html/search/classes_8.js  \n",
            " extracting: fastText-0.9.1/website/static/docs/en/html/search/close.png  \n",
            "  inflating: fastText-0.9.1/website/static/docs/en/html/search/defines_0.html  \n",
            "  inflating: fastText-0.9.1/website/static/docs/en/html/search/defines_0.js  \n",
            "  inflating: fastText-0.9.1/website/static/docs/en/html/search/defines_1.html  \n",
            "  inflating: fastText-0.9.1/website/static/docs/en/html/search/defines_1.js  \n",
            "  inflating: fastText-0.9.1/website/static/docs/en/html/search/defines_2.html  \n",
            "  inflating: fastText-0.9.1/website/static/docs/en/html/search/defines_2.js  \n",
            "  inflating: fastText-0.9.1/website/static/docs/en/html/search/defines_3.html  \n",
            "  inflating: fastText-0.9.1/website/static/docs/en/html/search/defines_3.js  \n",
            "  inflating: fastText-0.9.1/website/static/docs/en/html/search/enums_0.html  \n",
            "  inflating: fastText-0.9.1/website/static/docs/en/html/search/enums_0.js  \n",
            "  inflating: fastText-0.9.1/website/static/docs/en/html/search/enums_1.html  \n",
            "  inflating: fastText-0.9.1/website/static/docs/en/html/search/enums_1.js  \n",
            "  inflating: fastText-0.9.1/website/static/docs/en/html/search/enums_2.html  \n",
            "  inflating: fastText-0.9.1/website/static/docs/en/html/search/enums_2.js  \n",
            "  inflating: fastText-0.9.1/website/static/docs/en/html/search/enumvalues_0.html  \n",
            "  inflating: fastText-0.9.1/website/static/docs/en/html/search/enumvalues_0.js  \n",
            "  inflating: fastText-0.9.1/website/static/docs/en/html/search/enumvalues_1.html  \n",
            "  inflating: fastText-0.9.1/website/static/docs/en/html/search/enumvalues_1.js  \n",
            "  inflating: fastText-0.9.1/website/static/docs/en/html/search/enumvalues_2.html  \n",
            "  inflating: fastText-0.9.1/website/static/docs/en/html/search/enumvalues_2.js  \n",
            "  inflating: fastText-0.9.1/website/static/docs/en/html/search/enumvalues_3.html  \n",
            "  inflating: fastText-0.9.1/website/static/docs/en/html/search/enumvalues_3.js  \n",
            "  inflating: fastText-0.9.1/website/static/docs/en/html/search/enumvalues_4.html  \n",
            "  inflating: fastText-0.9.1/website/static/docs/en/html/search/enumvalues_4.js  \n",
            "  inflating: fastText-0.9.1/website/static/docs/en/html/search/enumvalues_5.html  \n",
            "  inflating: fastText-0.9.1/website/static/docs/en/html/search/enumvalues_5.js  \n",
            "  inflating: fastText-0.9.1/website/static/docs/en/html/search/files_0.html  \n",
            "  inflating: fastText-0.9.1/website/static/docs/en/html/search/files_0.js  \n",
            "  inflating: fastText-0.9.1/website/static/docs/en/html/search/files_1.html  \n",
            "  inflating: fastText-0.9.1/website/static/docs/en/html/search/files_1.js  \n",
            "  inflating: fastText-0.9.1/website/static/docs/en/html/search/files_2.html  \n",
            "  inflating: fastText-0.9.1/website/static/docs/en/html/search/files_2.js  \n",
            "  inflating: fastText-0.9.1/website/static/docs/en/html/search/files_3.html  \n",
            "  inflating: fastText-0.9.1/website/static/docs/en/html/search/files_3.js  \n",
            "  inflating: fastText-0.9.1/website/static/docs/en/html/search/files_4.html  \n",
            "  inflating: fastText-0.9.1/website/static/docs/en/html/search/files_4.js  \n",
            "  inflating: fastText-0.9.1/website/static/docs/en/html/search/files_5.html  \n",
            "  inflating: fastText-0.9.1/website/static/docs/en/html/search/files_5.js  \n",
            "  inflating: fastText-0.9.1/website/static/docs/en/html/search/files_6.html  \n",
            "  inflating: fastText-0.9.1/website/static/docs/en/html/search/files_6.js  \n",
            "  inflating: fastText-0.9.1/website/static/docs/en/html/search/files_7.html  \n",
            "  inflating: fastText-0.9.1/website/static/docs/en/html/search/files_7.js  \n",
            "  inflating: fastText-0.9.1/website/static/docs/en/html/search/files_8.html  \n",
            "  inflating: fastText-0.9.1/website/static/docs/en/html/search/files_8.js  \n",
            "  inflating: fastText-0.9.1/website/static/docs/en/html/search/functions_0.html  \n",
            "  inflating: fastText-0.9.1/website/static/docs/en/html/search/functions_0.js  \n",
            "  inflating: fastText-0.9.1/website/static/docs/en/html/search/functions_1.html  \n",
            "  inflating: fastText-0.9.1/website/static/docs/en/html/search/functions_1.js  \n",
            "  inflating: fastText-0.9.1/website/static/docs/en/html/search/functions_10.html  \n",
            "  inflating: fastText-0.9.1/website/static/docs/en/html/search/functions_10.js  \n",
            "  inflating: fastText-0.9.1/website/static/docs/en/html/search/functions_11.html  \n",
            "  inflating: fastText-0.9.1/website/static/docs/en/html/search/functions_11.js  \n",
            "  inflating: fastText-0.9.1/website/static/docs/en/html/search/functions_12.html  \n",
            "  inflating: fastText-0.9.1/website/static/docs/en/html/search/functions_12.js  \n",
            "  inflating: fastText-0.9.1/website/static/docs/en/html/search/functions_13.html  \n",
            "  inflating: fastText-0.9.1/website/static/docs/en/html/search/functions_13.js  \n",
            "  inflating: fastText-0.9.1/website/static/docs/en/html/search/functions_14.html  \n",
            "  inflating: fastText-0.9.1/website/static/docs/en/html/search/functions_14.js  \n",
            "  inflating: fastText-0.9.1/website/static/docs/en/html/search/functions_15.html  \n",
            "  inflating: fastText-0.9.1/website/static/docs/en/html/search/functions_15.js  \n",
            "  inflating: fastText-0.9.1/website/static/docs/en/html/search/functions_16.html  \n",
            "  inflating: fastText-0.9.1/website/static/docs/en/html/search/functions_16.js  \n",
            "  inflating: fastText-0.9.1/website/static/docs/en/html/search/functions_17.html  \n",
            "  inflating: fastText-0.9.1/website/static/docs/en/html/search/functions_17.js  \n",
            "  inflating: fastText-0.9.1/website/static/docs/en/html/search/functions_2.html  \n",
            "  inflating: fastText-0.9.1/website/static/docs/en/html/search/functions_2.js  \n",
            "  inflating: fastText-0.9.1/website/static/docs/en/html/search/functions_3.html  \n",
            "  inflating: fastText-0.9.1/website/static/docs/en/html/search/functions_3.js  \n",
            "  inflating: fastText-0.9.1/website/static/docs/en/html/search/functions_4.html  \n",
            "  inflating: fastText-0.9.1/website/static/docs/en/html/search/functions_4.js  \n",
            "  inflating: fastText-0.9.1/website/static/docs/en/html/search/functions_5.html  \n",
            "  inflating: fastText-0.9.1/website/static/docs/en/html/search/functions_5.js  \n",
            "  inflating: fastText-0.9.1/website/static/docs/en/html/search/functions_6.html  \n",
            "  inflating: fastText-0.9.1/website/static/docs/en/html/search/functions_6.js  \n",
            "  inflating: fastText-0.9.1/website/static/docs/en/html/search/functions_7.html  \n",
            "  inflating: fastText-0.9.1/website/static/docs/en/html/search/functions_7.js  \n",
            "  inflating: fastText-0.9.1/website/static/docs/en/html/search/functions_8.html  \n",
            "  inflating: fastText-0.9.1/website/static/docs/en/html/search/functions_8.js  \n",
            "  inflating: fastText-0.9.1/website/static/docs/en/html/search/functions_9.html  \n",
            "  inflating: fastText-0.9.1/website/static/docs/en/html/search/functions_9.js  \n",
            "  inflating: fastText-0.9.1/website/static/docs/en/html/search/functions_a.html  \n",
            "  inflating: fastText-0.9.1/website/static/docs/en/html/search/functions_a.js  \n",
            "  inflating: fastText-0.9.1/website/static/docs/en/html/search/functions_b.html  \n",
            "  inflating: fastText-0.9.1/website/static/docs/en/html/search/functions_b.js  \n",
            "  inflating: fastText-0.9.1/website/static/docs/en/html/search/functions_c.html  \n",
            "  inflating: fastText-0.9.1/website/static/docs/en/html/search/functions_c.js  \n",
            "  inflating: fastText-0.9.1/website/static/docs/en/html/search/functions_d.html  \n",
            "  inflating: fastText-0.9.1/website/static/docs/en/html/search/functions_d.js  \n",
            "  inflating: fastText-0.9.1/website/static/docs/en/html/search/functions_e.html  \n",
            "  inflating: fastText-0.9.1/website/static/docs/en/html/search/functions_e.js  \n",
            "  inflating: fastText-0.9.1/website/static/docs/en/html/search/functions_f.html  \n",
            "  inflating: fastText-0.9.1/website/static/docs/en/html/search/functions_f.js  \n",
            " extracting: fastText-0.9.1/website/static/docs/en/html/search/mag_sel.png  \n",
            "  inflating: fastText-0.9.1/website/static/docs/en/html/search/namespaces_0.html  \n",
            "  inflating: fastText-0.9.1/website/static/docs/en/html/search/namespaces_0.js  \n",
            "  inflating: fastText-0.9.1/website/static/docs/en/html/search/nomatches.html  \n",
            "  inflating: fastText-0.9.1/website/static/docs/en/html/search/search.css  \n",
            "  inflating: fastText-0.9.1/website/static/docs/en/html/search/search.js  \n",
            " extracting: fastText-0.9.1/website/static/docs/en/html/search/search_l.png  \n",
            "  inflating: fastText-0.9.1/website/static/docs/en/html/search/search_m.png  \n",
            " extracting: fastText-0.9.1/website/static/docs/en/html/search/search_r.png  \n",
            "  inflating: fastText-0.9.1/website/static/docs/en/html/search/searchdata.js  \n",
            "  inflating: fastText-0.9.1/website/static/docs/en/html/search/typedefs_0.html  \n",
            "  inflating: fastText-0.9.1/website/static/docs/en/html/search/typedefs_0.js  \n",
            "  inflating: fastText-0.9.1/website/static/docs/en/html/search/typedefs_1.html  \n",
            "  inflating: fastText-0.9.1/website/static/docs/en/html/search/typedefs_1.js  \n",
            "  inflating: fastText-0.9.1/website/static/docs/en/html/search/variables_0.html  \n",
            "  inflating: fastText-0.9.1/website/static/docs/en/html/search/variables_0.js  \n",
            "  inflating: fastText-0.9.1/website/static/docs/en/html/search/variables_1.html  \n",
            "  inflating: fastText-0.9.1/website/static/docs/en/html/search/variables_1.js  \n",
            "  inflating: fastText-0.9.1/website/static/docs/en/html/search/variables_10.html  \n",
            "  inflating: fastText-0.9.1/website/static/docs/en/html/search/variables_10.js  \n",
            "  inflating: fastText-0.9.1/website/static/docs/en/html/search/variables_11.html  \n",
            "  inflating: fastText-0.9.1/website/static/docs/en/html/search/variables_11.js  \n",
            "  inflating: fastText-0.9.1/website/static/docs/en/html/search/variables_12.html  \n",
            "  inflating: fastText-0.9.1/website/static/docs/en/html/search/variables_12.js  \n",
            "  inflating: fastText-0.9.1/website/static/docs/en/html/search/variables_13.html  \n",
            "  inflating: fastText-0.9.1/website/static/docs/en/html/search/variables_13.js  \n",
            "  inflating: fastText-0.9.1/website/static/docs/en/html/search/variables_2.html  \n",
            "  inflating: fastText-0.9.1/website/static/docs/en/html/search/variables_2.js  \n",
            "  inflating: fastText-0.9.1/website/static/docs/en/html/search/variables_3.html  \n",
            "  inflating: fastText-0.9.1/website/static/docs/en/html/search/variables_3.js  \n",
            "  inflating: fastText-0.9.1/website/static/docs/en/html/search/variables_4.html  \n",
            "  inflating: fastText-0.9.1/website/static/docs/en/html/search/variables_4.js  \n",
            "  inflating: fastText-0.9.1/website/static/docs/en/html/search/variables_5.html  \n",
            "  inflating: fastText-0.9.1/website/static/docs/en/html/search/variables_5.js  \n",
            "  inflating: fastText-0.9.1/website/static/docs/en/html/search/variables_6.html  \n",
            "  inflating: fastText-0.9.1/website/static/docs/en/html/search/variables_6.js  \n",
            "  inflating: fastText-0.9.1/website/static/docs/en/html/search/variables_7.html  \n",
            "  inflating: fastText-0.9.1/website/static/docs/en/html/search/variables_7.js  \n",
            "  inflating: fastText-0.9.1/website/static/docs/en/html/search/variables_8.html  \n",
            "  inflating: fastText-0.9.1/website/static/docs/en/html/search/variables_8.js  \n",
            "  inflating: fastText-0.9.1/website/static/docs/en/html/search/variables_9.html  \n",
            "  inflating: fastText-0.9.1/website/static/docs/en/html/search/variables_9.js  \n",
            "  inflating: fastText-0.9.1/website/static/docs/en/html/search/variables_a.html  \n",
            "  inflating: fastText-0.9.1/website/static/docs/en/html/search/variables_a.js  \n",
            "  inflating: fastText-0.9.1/website/static/docs/en/html/search/variables_b.html  \n",
            "  inflating: fastText-0.9.1/website/static/docs/en/html/search/variables_b.js  \n",
            "  inflating: fastText-0.9.1/website/static/docs/en/html/search/variables_c.html  \n",
            "  inflating: fastText-0.9.1/website/static/docs/en/html/search/variables_c.js  \n",
            "  inflating: fastText-0.9.1/website/static/docs/en/html/search/variables_d.html  \n",
            "  inflating: fastText-0.9.1/website/static/docs/en/html/search/variables_d.js  \n",
            "  inflating: fastText-0.9.1/website/static/docs/en/html/search/variables_e.html  \n",
            "  inflating: fastText-0.9.1/website/static/docs/en/html/search/variables_e.js  \n",
            "  inflating: fastText-0.9.1/website/static/docs/en/html/search/variables_f.html  \n",
            "  inflating: fastText-0.9.1/website/static/docs/en/html/search/variables_f.js  \n",
            "  inflating: fastText-0.9.1/website/static/docs/en/html/splitbar.png  \n",
            "  inflating: fastText-0.9.1/website/static/docs/en/html/structfasttext_1_1Node-members.html  \n",
            "  inflating: fastText-0.9.1/website/static/docs/en/html/structfasttext_1_1Node.html  \n",
            "  inflating: fastText-0.9.1/website/static/docs/en/html/structfasttext_1_1Node.js  \n",
            "  inflating: fastText-0.9.1/website/static/docs/en/html/structfasttext_1_1entry-members.html  \n",
            "  inflating: fastText-0.9.1/website/static/docs/en/html/structfasttext_1_1entry.html  \n",
            "  inflating: fastText-0.9.1/website/static/docs/en/html/structfasttext_1_1entry.js  \n",
            " extracting: fastText-0.9.1/website/static/docs/en/html/sync_off.png  \n",
            " extracting: fastText-0.9.1/website/static/docs/en/html/sync_on.png  \n",
            " extracting: fastText-0.9.1/website/static/docs/en/html/tab_a.png  \n",
            " extracting: fastText-0.9.1/website/static/docs/en/html/tab_b.png  \n",
            " extracting: fastText-0.9.1/website/static/docs/en/html/tab_h.png  \n",
            " extracting: fastText-0.9.1/website/static/docs/en/html/tab_s.png  \n",
            "  inflating: fastText-0.9.1/website/static/docs/en/html/tabs.css  \n",
            "  inflating: fastText-0.9.1/website/static/docs/en/html/utils_8cc.html  \n",
            "  inflating: fastText-0.9.1/website/static/docs/en/html/utils_8cc.js  \n",
            "  inflating: fastText-0.9.1/website/static/docs/en/html/utils_8h.html  \n",
            "  inflating: fastText-0.9.1/website/static/docs/en/html/utils_8h.js  \n",
            "  inflating: fastText-0.9.1/website/static/docs/en/html/utils_8h_source.html  \n",
            "  inflating: fastText-0.9.1/website/static/docs/en/html/vector_8cc.html  \n",
            "  inflating: fastText-0.9.1/website/static/docs/en/html/vector_8cc.js  \n",
            "  inflating: fastText-0.9.1/website/static/docs/en/html/vector_8h.html  \n",
            "  inflating: fastText-0.9.1/website/static/docs/en/html/vector_8h.js  \n",
            "  inflating: fastText-0.9.1/website/static/docs/en/html/vector_8h_source.html  \n",
            "  inflating: fastText-0.9.1/website/static/fasttext.css  \n",
            "   creating: fastText-0.9.1/website/static/img/\n",
            "   creating: fastText-0.9.1/website/static/img/authors/\n",
            "  inflating: fastText-0.9.1/website/static/img/authors/armand_joulin.jpg  \n",
            "  inflating: fastText-0.9.1/website/static/img/authors/christian_puhrsch.png  \n",
            "  inflating: fastText-0.9.1/website/static/img/authors/edouard_grave.jpeg  \n",
            "  inflating: fastText-0.9.1/website/static/img/authors/piotr_bojanowski.jpg  \n",
            "  inflating: fastText-0.9.1/website/static/img/authors/tomas_mikolov.jpg  \n",
            "   creating: fastText-0.9.1/website/static/img/blog/\n",
            "  inflating: fastText-0.9.1/website/static/img/blog/2016-08-18-blog-post-img1.png  \n",
            "  inflating: fastText-0.9.1/website/static/img/blog/2016-08-18-blog-post-img2.png  \n",
            "  inflating: fastText-0.9.1/website/static/img/blog/2017-05-02-blog-post-img1.jpg  \n",
            "  inflating: fastText-0.9.1/website/static/img/blog/2017-05-02-blog-post-img2.jpg  \n",
            "  inflating: fastText-0.9.1/website/static/img/blog/2017-10-02-blog-post-img1.png  \n",
            "  inflating: fastText-0.9.1/website/static/img/cbo_vs_skipgram.png  \n",
            "  inflating: fastText-0.9.1/website/static/img/fasttext-icon-api.png  \n",
            "  inflating: fastText-0.9.1/website/static/img/fasttext-icon-bg-web.png  \n",
            "  inflating: fastText-0.9.1/website/static/img/fasttext-icon-color-square.png  \n",
            "  inflating: fastText-0.9.1/website/static/img/fasttext-icon-color-web.png  \n",
            "  inflating: fastText-0.9.1/website/static/img/fasttext-icon-faq.png  \n",
            "  inflating: fastText-0.9.1/website/static/img/fasttext-icon-tutorial.png  \n",
            "  inflating: fastText-0.9.1/website/static/img/fasttext-icon-white-web.png  \n",
            "  inflating: fastText-0.9.1/website/static/img/fasttext-logo-color-web.png  \n",
            "  inflating: fastText-0.9.1/website/static/img/fasttext-logo-white-web.png  \n",
            "  inflating: fastText-0.9.1/website/static/img/logo-color.png  \n",
            "  inflating: fastText-0.9.1/website/static/img/model-black.png  \n",
            "  inflating: fastText-0.9.1/website/static/img/model-blue.png  \n",
            "  inflating: fastText-0.9.1/website/static/img/model-red.png  \n",
            "  inflating: fastText-0.9.1/website/static/img/ogimage.png  \n",
            "  inflating: fastText-0.9.1/website/static/img/oss_logo.png  \n",
            "  inflating: fastText-0.9.1/wikifil.pl  \n",
            "  inflating: fastText-0.9.1/word-vector-example.sh  \n",
            "/content/fastText-0.9.1\n",
            "c++ -pthread -std=c++0x -march=native -O3 -funroll-loops -DNDEBUG -c src/args.cc\n",
            "c++ -pthread -std=c++0x -march=native -O3 -funroll-loops -DNDEBUG -c src/matrix.cc\n",
            "c++ -pthread -std=c++0x -march=native -O3 -funroll-loops -DNDEBUG -c src/dictionary.cc\n",
            "c++ -pthread -std=c++0x -march=native -O3 -funroll-loops -DNDEBUG -c src/loss.cc\n",
            "c++ -pthread -std=c++0x -march=native -O3 -funroll-loops -DNDEBUG -c src/productquantizer.cc\n",
            "c++ -pthread -std=c++0x -march=native -O3 -funroll-loops -DNDEBUG -c src/densematrix.cc\n",
            "c++ -pthread -std=c++0x -march=native -O3 -funroll-loops -DNDEBUG -c src/quantmatrix.cc\n",
            "c++ -pthread -std=c++0x -march=native -O3 -funroll-loops -DNDEBUG -c src/vector.cc\n",
            "c++ -pthread -std=c++0x -march=native -O3 -funroll-loops -DNDEBUG -c src/model.cc\n",
            "c++ -pthread -std=c++0x -march=native -O3 -funroll-loops -DNDEBUG -c src/utils.cc\n",
            "c++ -pthread -std=c++0x -march=native -O3 -funroll-loops -DNDEBUG -c src/meter.cc\n",
            "c++ -pthread -std=c++0x -march=native -O3 -funroll-loops -DNDEBUG -c src/fasttext.cc\n",
            "\u001b[01m\u001b[Ksrc/fasttext.cc:\u001b[m\u001b[K In member function ‘\u001b[01m\u001b[Kvoid fasttext::FastText::quantize(const fasttext::Args&)\u001b[m\u001b[K’:\n",
            "\u001b[01m\u001b[Ksrc/fasttext.cc:323:45:\u001b[m\u001b[K \u001b[01;35m\u001b[Kwarning: \u001b[m\u001b[K‘\u001b[01m\u001b[Kstd::vector<int> fasttext::FastText::selectEmbeddings(int32_t) const\u001b[m\u001b[K’ is deprecated: selectEmbeddings is being deprecated. [\u001b[01;35m\u001b[K-Wdeprecated-declarations\u001b[m\u001b[K]\n",
            "     auto idx = selectEmbeddings(qargs.cutoff\u001b[01;35m\u001b[K)\u001b[m\u001b[K;\n",
            "                                             \u001b[01;35m\u001b[K^\u001b[m\u001b[K\n",
            "\u001b[01m\u001b[Ksrc/fasttext.cc:293:22:\u001b[m\u001b[K \u001b[01;36m\u001b[Knote: \u001b[m\u001b[Kdeclared here\n",
            " std::vector<int32_t> \u001b[01;36m\u001b[KFastText\u001b[m\u001b[K::selectEmbeddings(int32_t cutoff) const {\n",
            "                      \u001b[01;36m\u001b[K^~~~~~~~\u001b[m\u001b[K\n",
            "\u001b[01m\u001b[Ksrc/fasttext.cc:\u001b[m\u001b[K In member function ‘\u001b[01m\u001b[Kvoid fasttext::FastText::lazyComputeWordVectors()\u001b[m\u001b[K’:\n",
            "\u001b[01m\u001b[Ksrc/fasttext.cc:551:40:\u001b[m\u001b[K \u001b[01;35m\u001b[Kwarning: \u001b[m\u001b[K‘\u001b[01m\u001b[Kvoid fasttext::FastText::precomputeWordVectors(fasttext::DenseMatrix&)\u001b[m\u001b[K’ is deprecated: precomputeWordVectors is being deprecated. [\u001b[01;35m\u001b[K-Wdeprecated-declarations\u001b[m\u001b[K]\n",
            "     precomputeWordVectors(*wordVectors_\u001b[01;35m\u001b[K)\u001b[m\u001b[K;\n",
            "                                        \u001b[01;35m\u001b[K^\u001b[m\u001b[K\n",
            "\u001b[01m\u001b[Ksrc/fasttext.cc:534:6:\u001b[m\u001b[K \u001b[01;36m\u001b[Knote: \u001b[m\u001b[Kdeclared here\n",
            " void \u001b[01;36m\u001b[KFastText\u001b[m\u001b[K::precomputeWordVectors(DenseMatrix& wordVectors) {\n",
            "      \u001b[01;36m\u001b[K^~~~~~~~\u001b[m\u001b[K\n",
            "c++ -pthread -std=c++0x -march=native -O3 -funroll-loops -DNDEBUG args.o matrix.o dictionary.o loss.o productquantizer.o densematrix.o quantmatrix.o vector.o model.o utils.o meter.o fasttext.o src/main.cc -o fasttext\n",
            "--2019-12-16 00:54:19--  https://dl.fbaipublicfiles.com/fasttext/vectors-english/crawl-300d-2M-subword.zip\n",
            "Resolving dl.fbaipublicfiles.com (dl.fbaipublicfiles.com)... 104.20.6.166, 104.20.22.166, 2606:4700:10::6814:16a6, ...\n",
            "Connecting to dl.fbaipublicfiles.com (dl.fbaipublicfiles.com)|104.20.6.166|:443... connected.\n",
            "HTTP request sent, awaiting response... 200 OK\n",
            "Length: 5828358084 (5.4G) [application/zip]\n",
            "Saving to: ‘crawl-300d-2M-subword.zip’\n",
            "\n",
            "crawl-300d-2M-subwo 100%[===================>]   5.43G  11.0MB/s    in 4m 31s  \n",
            "\n",
            "2019-12-16 00:58:50 (20.5 MB/s) - ‘crawl-300d-2M-subword.zip’ saved [5828358084/5828358084]\n",
            "\n",
            "Archive:  crawl-300d-2M-subword.zip\n",
            "  inflating: crawl-300d-2M-subword.vec  \n",
            "  inflating: crawl-300d-2M-subword.bin  \n",
            "--2019-12-16 01:00:32--  https://drive.google.com/uc?export=download&id=1bsOWcjQFCylShsMslVtso6WDL2nquaPJ\n",
            "Resolving drive.google.com (drive.google.com)... 173.194.217.139, 173.194.217.100, 173.194.217.138, ...\n",
            "Connecting to drive.google.com (drive.google.com)|173.194.217.139|:443... connected.\n",
            "HTTP request sent, awaiting response... 302 Moved Temporarily\n",
            "Location: https://doc-08-40-docs.googleusercontent.com/docs/securesc/ha0ro937gcuc7l7deffksulhg5h7mbp1/eg29i8k1mbhggvdkj7in1vivlqidgqeq/1576454400000/15830086993846017441/*/1bsOWcjQFCylShsMslVtso6WDL2nquaPJ?e=download [following]\n",
            "Warning: wildcards not supported in HTTP.\n",
            "--2019-12-16 01:00:34--  https://doc-08-40-docs.googleusercontent.com/docs/securesc/ha0ro937gcuc7l7deffksulhg5h7mbp1/eg29i8k1mbhggvdkj7in1vivlqidgqeq/1576454400000/15830086993846017441/*/1bsOWcjQFCylShsMslVtso6WDL2nquaPJ?e=download\n",
            "Resolving doc-08-40-docs.googleusercontent.com (doc-08-40-docs.googleusercontent.com)... 172.217.204.132, 2607:f8b0:400c:c15::84\n",
            "Connecting to doc-08-40-docs.googleusercontent.com (doc-08-40-docs.googleusercontent.com)|172.217.204.132|:443... connected.\n",
            "HTTP request sent, awaiting response... 200 OK\n",
            "Length: unspecified [application/x-zip-compressed]\n",
            "Saving to: ‘data.zip’\n",
            "\n",
            "data.zip                [ <=>                ]  12.60M  --.-KB/s    in 0.05s   \n",
            "\n",
            "2019-12-16 01:00:34 (276 MB/s) - ‘data.zip’ saved [13214775]\n",
            "\n",
            "Archive:  data.zip\n",
            "  inflating: Full_Data.csv           \n"
          ],
          "name": "stdout"
        }
      ]
    },
    {
      "cell_type": "code",
      "metadata": {
        "id": "mbm4T0UPzYbl",
        "colab_type": "code",
        "outputId": "0450deb5-0e5a-4da7-8188-41f00cc3ff17",
        "colab": {
          "base_uri": "https://localhost:8080/",
          "height": 202
        }
      },
      "source": [
        "df = pd.read_csv(\"Full_Data.csv\",encoding='iso-8859-1')\n",
        "df.head()"
      ],
      "execution_count": 0,
      "outputs": [
        {
          "output_type": "execute_result",
          "data": {
            "text/html": [
              "<div>\n",
              "<style scoped>\n",
              "    .dataframe tbody tr th:only-of-type {\n",
              "        vertical-align: middle;\n",
              "    }\n",
              "\n",
              "    .dataframe tbody tr th {\n",
              "        vertical-align: top;\n",
              "    }\n",
              "\n",
              "    .dataframe thead th {\n",
              "        text-align: right;\n",
              "    }\n",
              "</style>\n",
              "<table border=\"1\" class=\"dataframe\">\n",
              "  <thead>\n",
              "    <tr style=\"text-align: right;\">\n",
              "      <th></th>\n",
              "      <th>text</th>\n",
              "      <th>sentiment</th>\n",
              "      <th>confidence</th>\n",
              "    </tr>\n",
              "  </thead>\n",
              "  <tbody>\n",
              "    <tr>\n",
              "      <th>0</th>\n",
              "      <td>trying to wait a patient as i can lol</td>\n",
              "      <td>1</td>\n",
              "      <td>0.3</td>\n",
              "    </tr>\n",
              "    <tr>\n",
              "      <th>1</th>\n",
              "      <td>Good morning Fotopro Team,  I noticed in some ...</td>\n",
              "      <td>1</td>\n",
              "      <td>0.6</td>\n",
              "    </tr>\n",
              "    <tr>\n",
              "      <th>2</th>\n",
              "      <td>these still on track? ahead? behind?</td>\n",
              "      <td>1</td>\n",
              "      <td>0.2</td>\n",
              "    </tr>\n",
              "    <tr>\n",
              "      <th>3</th>\n",
              "      <td>any update on delivery?</td>\n",
              "      <td>1</td>\n",
              "      <td>0.0</td>\n",
              "    </tr>\n",
              "    <tr>\n",
              "      <th>4</th>\n",
              "      <td>product so nice had to get it twice</td>\n",
              "      <td>1</td>\n",
              "      <td>0.5</td>\n",
              "    </tr>\n",
              "  </tbody>\n",
              "</table>\n",
              "</div>"
            ],
            "text/plain": [
              "                                                text  sentiment  confidence\n",
              "0              trying to wait a patient as i can lol          1         0.3\n",
              "1  Good morning Fotopro Team,  I noticed in some ...          1         0.6\n",
              "2               these still on track? ahead? behind?          1         0.2\n",
              "3                            any update on delivery?          1         0.0\n",
              "4                product so nice had to get it twice          1         0.5"
            ]
          },
          "metadata": {
            "tags": []
          },
          "execution_count": 3
        }
      ]
    },
    {
      "cell_type": "code",
      "metadata": {
        "id": "qWn5ZOWy0k2K",
        "colab_type": "code",
        "colab": {}
      },
      "source": [
        "# text cleaning for fasttext embedding: only remove punctuations because fasttext doesn't include punctuations.\n",
        "# Collect punctuation signs.\n",
        "table = str.maketrans(' ', ' ', string.punctuation)\n",
        "# Remove them from the text\n",
        "df.iloc[:,0] = [j.translate(table) for j in df.iloc[:,0]]\n",
        "df.iloc[:,0] = [j.replace('\\x96',' ') for j in df.iloc[:,0]]\n",
        "# Eliminate double spaces\n",
        "df.iloc[:,0] = [\" \".join(j.split()) for j in df.iloc[:,0]]"
      ],
      "execution_count": 0,
      "outputs": []
    },
    {
      "cell_type": "code",
      "metadata": {
        "colab_type": "code",
        "outputId": "b3c39819-d1be-4a2e-fac9-91f73621bbf5",
        "id": "3em9RsYVaMoo",
        "colab": {
          "base_uri": "https://localhost:8080/",
          "height": 390
        }
      },
      "source": [
        "# check percentage of stopwords\n",
        "# stop words include a,the,be. Doesn't contain much information.\n",
        "import nltk\n",
        "nltk.download('stopwords')\n",
        "stop = stopwords.words('english')\n",
        "df['word_count']=df['text'].apply(lambda x:len(x.split()))\n",
        "df['stopwords_percent'] = df['text'].apply(lambda x: len([x for x in x.split() if x in stop]))/df['word_count']\n",
        "df[['text','stopwords_percent']].head(10)\n",
        "# could see high percentage of stopwords in text. will remove them"
      ],
      "execution_count": 0,
      "outputs": [
        {
          "output_type": "stream",
          "text": [
            "[nltk_data] Downloading package stopwords to /root/nltk_data...\n",
            "[nltk_data]   Package stopwords is already up-to-date!\n"
          ],
          "name": "stdout"
        },
        {
          "output_type": "execute_result",
          "data": {
            "text/html": [
              "<div>\n",
              "<style scoped>\n",
              "    .dataframe tbody tr th:only-of-type {\n",
              "        vertical-align: middle;\n",
              "    }\n",
              "\n",
              "    .dataframe tbody tr th {\n",
              "        vertical-align: top;\n",
              "    }\n",
              "\n",
              "    .dataframe thead th {\n",
              "        text-align: right;\n",
              "    }\n",
              "</style>\n",
              "<table border=\"1\" class=\"dataframe\">\n",
              "  <thead>\n",
              "    <tr style=\"text-align: right;\">\n",
              "      <th></th>\n",
              "      <th>text</th>\n",
              "      <th>stopwords_percent</th>\n",
              "    </tr>\n",
              "  </thead>\n",
              "  <tbody>\n",
              "    <tr>\n",
              "      <th>0</th>\n",
              "      <td>trying to wait a patient as i can lol</td>\n",
              "      <td>0.555556</td>\n",
              "    </tr>\n",
              "    <tr>\n",
              "      <th>1</th>\n",
              "      <td>Good morning Fotopro Team I noticed in some of...</td>\n",
              "      <td>0.470588</td>\n",
              "    </tr>\n",
              "    <tr>\n",
              "      <th>2</th>\n",
              "      <td>these still on track ahead behind</td>\n",
              "      <td>0.333333</td>\n",
              "    </tr>\n",
              "    <tr>\n",
              "      <th>3</th>\n",
              "      <td>any update on delivery</td>\n",
              "      <td>0.500000</td>\n",
              "    </tr>\n",
              "    <tr>\n",
              "      <th>4</th>\n",
              "      <td>product so nice had to get it twice</td>\n",
              "      <td>0.500000</td>\n",
              "    </tr>\n",
              "    <tr>\n",
              "      <th>5</th>\n",
              "      <td>Just curious Will you have any extension goals...</td>\n",
              "      <td>0.523810</td>\n",
              "    </tr>\n",
              "    <tr>\n",
              "      <th>6</th>\n",
              "      <td>Got hands on this kit at the photoshow Birming...</td>\n",
              "      <td>0.428571</td>\n",
              "    </tr>\n",
              "    <tr>\n",
              "      <th>7</th>\n",
              "      <td>looking forward to the many uses of this produ...</td>\n",
              "      <td>0.545455</td>\n",
              "    </tr>\n",
              "    <tr>\n",
              "      <th>8</th>\n",
              "      <td>Hi Looking forward to getting this product Wha...</td>\n",
              "      <td>0.384615</td>\n",
              "    </tr>\n",
              "    <tr>\n",
              "      <th>9</th>\n",
              "      <td>Weâll post an update in the afternoon tomorr...</td>\n",
              "      <td>0.333333</td>\n",
              "    </tr>\n",
              "  </tbody>\n",
              "</table>\n",
              "</div>"
            ],
            "text/plain": [
              "                                                text  stopwords_percent\n",
              "0              trying to wait a patient as i can lol           0.555556\n",
              "1  Good morning Fotopro Team I noticed in some of...           0.470588\n",
              "2                  these still on track ahead behind           0.333333\n",
              "3                             any update on delivery           0.500000\n",
              "4                product so nice had to get it twice           0.500000\n",
              "5  Just curious Will you have any extension goals...           0.523810\n",
              "6  Got hands on this kit at the photoshow Birming...           0.428571\n",
              "7  looking forward to the many uses of this produ...           0.545455\n",
              "8  Hi Looking forward to getting this product Wha...           0.384615\n",
              "9  Weâll post an update in the afternoon tomorr...           0.333333"
            ]
          },
          "metadata": {
            "tags": []
          },
          "execution_count": 10
        }
      ]
    },
    {
      "cell_type": "code",
      "metadata": {
        "id": "nT4v0K5UaNR8",
        "colab_type": "code",
        "colab": {}
      },
      "source": [
        "# convert to lower case\n",
        "# replace contraction\n",
        "def replace_contraction(string):\n",
        "    contraction_dict = {\"ain't\": \"is not\", \"aren't\": \"are not\",\"can't\": \"cannot\", \"'cause\": \"because\", \"could've\": \"could have\", \n",
        "                        \"couldn't\": \"could not\", \"didn't\": \"did not\",  \"doesn't\": \"does not\", \"don't\": \"do not\", \"hadn't\": \"had not\", \n",
        "                        \"hasn't\": \"has not\", \"haven't\": \"have not\", \"he'd\": \"he would\",\"he'll\": \"he will\", \"he's\": \"he is\", \n",
        "                        \"how'd\": \"how did\", \"how'd'y\": \"how do you\", \"how'll\": \"how will\", \"how's\": \"how is\",  \n",
        "                        \"I'd\": \"I would\", \"I'd've\": \"I would have\", \"I'll\": \"I will\", \"I'll've\": \"I will have\",\"I'm\": \"I am\", \n",
        "                        \"I've\": \"I have\", \"i'd\": \"i would\", \"i'd've\": \"i would have\", \"i'll\": \"i will\",  \"i'll've\": \"i will have\",\n",
        "                        \"i'm\": \"i am\", \"i've\": \"i have\", \"isn't\": \"is not\", \"it'd\": \"it would\", \"it'd've\": \"it would have\", \n",
        "                        \"it'll\": \"it will\", \"it'll've\": \"it will have\",\"it's\": \"it is\", \"let's\": \"let us\", \"ma'am\": \"madam\", \n",
        "                        \"mayn't\": \"may not\", \"might've\": \"might have\",\"mightn't\": \"might not\",\"mightn't've\": \"might not have\", \n",
        "                        \"must've\": \"must have\", \"mustn't\": \"must not\", \"mustn't've\": \"must not have\", \"needn't\": \"need not\",\n",
        "                        \"needn't've\": \"need not have\",\"o'clock\": \"of the clock\", \"oughtn't\": \"ought not\", \n",
        "                        \"oughtn't've\": \"ought not have\", \"shan't\": \"shall not\", \"sha'n't\": \"shall not\", \"shan't've\": \"shall not have\", \n",
        "                        \"she'd\": \"she would\", \"she'd've\": \"she would have\", \"she'll\": \"she will\", \"she'll've\": \"she will have\", \n",
        "                        \"she's\": \"she is\", \"should've\": \"should have\", \"shouldn't\": \"should not\", \"shouldn't've\": \"should not have\", \n",
        "                        \"so've\": \"so have\",\"so's\": \"so as\", \"this's\": \"this is\",\"that'd\": \"that would\", \"that'd've\": \"that would have\", \n",
        "                        \"that's\": \"that is\", \"there'd\": \"there would\", \"there'd've\": \"there would have\", \"there's\": \"there is\", \n",
        "                        \"here's\": \"here is\",\"they'd\": \"they would\", \"they'd've\": \"they would have\", \"they'll\": \"they will\", \n",
        "                        \"they'll've\": \"they will have\", \"they're\": \"they are\", \"they've\": \"they have\", \"to've\": \"to have\", \n",
        "                        \"wasn't\": \"was not\", \"we'd\": \"we would\", \"we'd've\": \"we would have\", \"we'll\": \"we will\", \n",
        "                        \"we'll've\": \"we will have\", \"we're\": \"we are\", \"we've\": \"we have\", \"weren't\": \"were not\", \n",
        "                        \"what'll\": \"what will\", \"what'll've\": \"what will have\", \"what're\": \"what are\",  \"what's\": \"what is\", \n",
        "                        \"what've\": \"what have\", \"when's\": \"when is\", \"when've\": \"when have\", \"where'd\": \"where did\", \n",
        "                        \"where's\": \"where is\", \"where've\": \"where have\", \"who'll\": \"who will\", \"who'll've\": \"who will have\", \n",
        "                        \"who's\": \"who is\", \"who've\": \"who have\", \"why's\": \"why is\", \"why've\": \"why have\", \"will've\": \"will have\", \n",
        "                        \"won't\": \"will not\", \"won't've\": \"will not have\", \"would've\": \"would have\", \"wouldn't\": \"would not\", \n",
        "                        \"wouldn't've\": \"would not have\", \"y'all\": \"you all\", \"y'all'd\": \"you all would\",\"y'all'd've\": \"you all would have\",\n",
        "                        \"y'all're\": \"you all are\",\"y'all've\": \"you all have\",\"you'd\": \"you would\", \"you'd've\": \"you would have\", \n",
        "                        \"you'll\": \"you will\", \"you'll've\": \"you will have\", \"you're\": \"you are\", \"you've\": \"you have\"}\n",
        "    word_list = string.split()\n",
        "    for index,word in enumerate(word_list):\n",
        "        if word in contraction_dict.keys():\n",
        "            word_list[index] = contraction_dict[word]\n",
        "    new_string = ' '.join(word_list)\n",
        "    return new_string\n",
        "# remove \\r and \\n\n",
        "# remove weblinks\n",
        "# remove numbers\n",
        "# remove stopwords\n",
        "def remove_stop(s):\n",
        "  words=s.split()\n",
        "  lst=[]\n",
        "  for w in words:\n",
        "    if w not in stop:\n",
        "      lst.append(w)\n",
        "  return ' '.join(lst)\n",
        "# remove emoji\n",
        "def remove_emoji(s):\n",
        "  return s.encode('ascii', 'ignore').decode('ascii')\n",
        "\n",
        "def cleantext(s):\n",
        "  # convert to lower case\n",
        "  s=s.lower()\n",
        "  # replace contraction\n",
        "  s=replace_contraction(s)\n",
        "  # remove \\r and \\n\n",
        "  s=s.replace(\"\\r\",'')\n",
        "  s=s.replace(\"\\n\",'')\n",
        "  # remove numbers\n",
        "  s=re.sub(r'\\d+','',s)\n",
        "  # remove weblinks\n",
        "  s=re.sub(r\"http\\S+\", \"\",s)\n",
        "  # remove stopwords\n",
        "  s=remove_stop(s)\n",
        "  # remove emoji\n",
        "  s=remove_emoji(s)\n",
        "  return s\n",
        "# rigorous data cleaning for glove embedding.\n",
        "df['clean']=df['text'].apply(cleantext)"
      ],
      "execution_count": 0,
      "outputs": []
    },
    {
      "cell_type": "code",
      "metadata": {
        "id": "m1lACLoDfnBi",
        "colab_type": "code",
        "outputId": "8b1e7ece-1195-4318-9066-9e0c4d9a750a",
        "colab": {
          "base_uri": "https://localhost:8080/",
          "height": 202
        }
      },
      "source": [
        "# compare original text and cleaned text\n",
        "df[['text','clean']].head()"
      ],
      "execution_count": 0,
      "outputs": [
        {
          "output_type": "execute_result",
          "data": {
            "text/html": [
              "<div>\n",
              "<style scoped>\n",
              "    .dataframe tbody tr th:only-of-type {\n",
              "        vertical-align: middle;\n",
              "    }\n",
              "\n",
              "    .dataframe tbody tr th {\n",
              "        vertical-align: top;\n",
              "    }\n",
              "\n",
              "    .dataframe thead th {\n",
              "        text-align: right;\n",
              "    }\n",
              "</style>\n",
              "<table border=\"1\" class=\"dataframe\">\n",
              "  <thead>\n",
              "    <tr style=\"text-align: right;\">\n",
              "      <th></th>\n",
              "      <th>text</th>\n",
              "      <th>clean</th>\n",
              "    </tr>\n",
              "  </thead>\n",
              "  <tbody>\n",
              "    <tr>\n",
              "      <th>0</th>\n",
              "      <td>trying to wait a patient as i can lol</td>\n",
              "      <td>trying wait patient lol</td>\n",
              "    </tr>\n",
              "    <tr>\n",
              "      <th>1</th>\n",
              "      <td>Good morning Fotopro Team I noticed in some of...</td>\n",
              "      <td>good morning fotopro team noticed comments wou...</td>\n",
              "    </tr>\n",
              "    <tr>\n",
              "      <th>2</th>\n",
              "      <td>these still on track ahead behind</td>\n",
              "      <td>still track ahead behind</td>\n",
              "    </tr>\n",
              "    <tr>\n",
              "      <th>3</th>\n",
              "      <td>any update on delivery</td>\n",
              "      <td>update delivery</td>\n",
              "    </tr>\n",
              "    <tr>\n",
              "      <th>4</th>\n",
              "      <td>product so nice had to get it twice</td>\n",
              "      <td>product nice get twice</td>\n",
              "    </tr>\n",
              "  </tbody>\n",
              "</table>\n",
              "</div>"
            ],
            "text/plain": [
              "                                                text                                              clean\n",
              "0              trying to wait a patient as i can lol                            trying wait patient lol\n",
              "1  Good morning Fotopro Team I noticed in some of...  good morning fotopro team noticed comments wou...\n",
              "2                  these still on track ahead behind                           still track ahead behind\n",
              "3                             any update on delivery                                    update delivery\n",
              "4                product so nice had to get it twice                             product nice get twice"
            ]
          },
          "metadata": {
            "tags": []
          },
          "execution_count": 20
        }
      ]
    },
    {
      "cell_type": "code",
      "metadata": {
        "id": "04ztSHEN2Dag",
        "colab_type": "code",
        "outputId": "2343358f-419f-4a7f-f6c7-5166237d6cb2",
        "colab": {
          "base_uri": "https://localhost:8080/",
          "height": 297
        }
      },
      "source": [
        "## Q2 exploratory data analysis\n",
        "# distribution of comments\n",
        "sns.countplot(df.sentiment)\n",
        "# around 60000 negative and 140000 positive comments"
      ],
      "execution_count": 0,
      "outputs": [
        {
          "output_type": "execute_result",
          "data": {
            "text/plain": [
              "<matplotlib.axes._subplots.AxesSubplot at 0x7feb33ac2710>"
            ]
          },
          "metadata": {
            "tags": []
          },
          "execution_count": 21
        },
        {
          "output_type": "display_data",
          "data": {
            "image/png": "[encoded data removed]",
            "text/plain": [
              "<Figure size 432x288 with 1 Axes>"
            ]
          },
          "metadata": {
            "tags": []
          }
        }
      ]
    },
    {
      "cell_type": "code",
      "metadata": {
        "id": "pabQ8YuUSYkl",
        "colab_type": "code",
        "outputId": "2219dc28-bebe-4dd5-d31c-e31e67c8381d",
        "colab": {
          "base_uri": "https://localhost:8080/",
          "height": 297
        }
      },
      "source": [
        "sns.distplot(df['confidence'])"
      ],
      "execution_count": 0,
      "outputs": [
        {
          "output_type": "execute_result",
          "data": {
            "text/plain": [
              "<matplotlib.axes._subplots.AxesSubplot at 0x7feb3327bcc0>"
            ]
          },
          "metadata": {
            "tags": []
          },
          "execution_count": 22
        },
        {
          "output_type": "display_data",
          "data": {
            "image/png": "[encoded data removed]",
            "text/plain": [
              "<Figure size 432x288 with 1 Axes>"
            ]
          },
          "metadata": {
            "tags": []
          }
        }
      ]
    },
    {
      "cell_type": "code",
      "metadata": {
        "id": "00_2d1_R3NKD",
        "colab_type": "code",
        "outputId": "ea6cfabc-093d-4de5-f123-f11daac75f4d",
        "colab": {
          "base_uri": "https://localhost:8080/",
          "height": 35
        }
      },
      "source": [
        "# how many tokens before cleaning\n",
        "tokenizer = Tokenizer()\n",
        "tokenizer.fit_on_texts(df['text'])\n",
        "Vals = list(tokenizer.word_index.keys())\n",
        "len(Vals)\n",
        "# 113219 words appeared in the comments. There are 171476 words in current use according to Oxford dictionary."
      ],
      "execution_count": 0,
      "outputs": [
        {
          "output_type": "execute_result",
          "data": {
            "text/plain": [
              "113219"
            ]
          },
          "metadata": {
            "tags": []
          },
          "execution_count": 5
        }
      ]
    },
    {
      "cell_type": "code",
      "metadata": {
        "id": "CR0yBegoilSX",
        "colab_type": "code",
        "outputId": "4bbb57ec-7941-49a8-aa19-accd90911df5",
        "colab": {
          "base_uri": "https://localhost:8080/",
          "height": 35
        }
      },
      "source": [
        "# number of tokens after cleaning\n",
        "tokenizer = Tokenizer()\n",
        "tokenizer.fit_on_texts(df['clean'])\n",
        "Vals = list(tokenizer.word_index.keys())\n",
        "len(Vals)\n",
        "# 92763 tokens after cleaning"
      ],
      "execution_count": 0,
      "outputs": [
        {
          "output_type": "execute_result",
          "data": {
            "text/plain": [
              "92763"
            ]
          },
          "metadata": {
            "tags": []
          },
          "execution_count": 26
        }
      ]
    },
    {
      "cell_type": "code",
      "metadata": {
        "colab_type": "code",
        "id": "v0lnRC57dnZC",
        "colab": {}
      },
      "source": [
        "word_dictionary = pd.DataFrame(tokenizer.word_counts,columns=tokenizer.word_counts.keys(),index=[0])\n",
        "word_dictionary = word_dictionary.T.reset_index()\n",
        "word_dictionary.columns=['word','count']"
      ],
      "execution_count": 0,
      "outputs": []
    },
    {
      "cell_type": "code",
      "metadata": {
        "id": "tAdbPGNKeX4x",
        "colab_type": "code",
        "outputId": "53e59524-29a9-4901-c325-8b8682868fd7",
        "colab": {
          "base_uri": "https://localhost:8080/",
          "height": 697
        }
      },
      "source": [
        "# see what are the most frequent words\n",
        "word_dictionary.sort_index(by='count',ascending=False)[:20]"
      ],
      "execution_count": 0,
      "outputs": [
        {
          "output_type": "stream",
          "text": [
            "/usr/local/lib/python3.6/dist-packages/ipykernel_launcher.py:1: FutureWarning: by argument to sort_index is deprecated, please use .sort_values(by=...)\n",
            "  \"\"\"Entry point for launching an IPython kernel.\n"
          ],
          "name": "stderr"
        },
        {
          "output_type": "execute_result",
          "data": {
            "text/html": [
              "<div>\n",
              "<style scoped>\n",
              "    .dataframe tbody tr th:only-of-type {\n",
              "        vertical-align: middle;\n",
              "    }\n",
              "\n",
              "    .dataframe tbody tr th {\n",
              "        vertical-align: top;\n",
              "    }\n",
              "\n",
              "    .dataframe thead th {\n",
              "        text-align: right;\n",
              "    }\n",
              "</style>\n",
              "<table border=\"1\" class=\"dataframe\">\n",
              "  <thead>\n",
              "    <tr style=\"text-align: right;\">\n",
              "      <th></th>\n",
              "      <th>word</th>\n",
              "      <th>count</th>\n",
              "    </tr>\n",
              "  </thead>\n",
              "  <tbody>\n",
              "    <tr>\n",
              "      <th>17</th>\n",
              "      <td>the</td>\n",
              "      <td>285387</td>\n",
              "    </tr>\n",
              "    <tr>\n",
              "      <th>1</th>\n",
              "      <td>to</td>\n",
              "      <td>188774</td>\n",
              "    </tr>\n",
              "    <tr>\n",
              "      <th>6</th>\n",
              "      <td>i</td>\n",
              "      <td>162364</td>\n",
              "    </tr>\n",
              "    <tr>\n",
              "      <th>87</th>\n",
              "      <td>and</td>\n",
              "      <td>133487</td>\n",
              "    </tr>\n",
              "    <tr>\n",
              "      <th>3</th>\n",
              "      <td>a</td>\n",
              "      <td>123695</td>\n",
              "    </tr>\n",
              "    <tr>\n",
              "      <th>20</th>\n",
              "      <td>you</td>\n",
              "      <td>107691</td>\n",
              "    </tr>\n",
              "    <tr>\n",
              "      <th>59</th>\n",
              "      <td>for</td>\n",
              "      <td>87643</td>\n",
              "    </tr>\n",
              "    <tr>\n",
              "      <th>51</th>\n",
              "      <td>it</td>\n",
              "      <td>86135</td>\n",
              "    </tr>\n",
              "    <tr>\n",
              "      <th>16</th>\n",
              "      <td>of</td>\n",
              "      <td>80458</td>\n",
              "    </tr>\n",
              "    <tr>\n",
              "      <th>30</th>\n",
              "      <td>is</td>\n",
              "      <td>80209</td>\n",
              "    </tr>\n",
              "    <tr>\n",
              "      <th>14</th>\n",
              "      <td>in</td>\n",
              "      <td>69200</td>\n",
              "    </tr>\n",
              "    <tr>\n",
              "      <th>110</th>\n",
              "      <td>my</td>\n",
              "      <td>62892</td>\n",
              "    </tr>\n",
              "    <tr>\n",
              "      <th>56</th>\n",
              "      <td>have</td>\n",
              "      <td>59072</td>\n",
              "    </tr>\n",
              "    <tr>\n",
              "      <th>124</th>\n",
              "      <td>that</td>\n",
              "      <td>57821</td>\n",
              "    </tr>\n",
              "    <tr>\n",
              "      <th>34</th>\n",
              "      <td>on</td>\n",
              "      <td>57123</td>\n",
              "    </tr>\n",
              "    <tr>\n",
              "      <th>69</th>\n",
              "      <td>this</td>\n",
              "      <td>54363</td>\n",
              "    </tr>\n",
              "    <tr>\n",
              "      <th>36</th>\n",
              "      <td>we</td>\n",
              "      <td>51109</td>\n",
              "    </tr>\n",
              "    <tr>\n",
              "      <th>22</th>\n",
              "      <td>be</td>\n",
              "      <td>47103</td>\n",
              "    </tr>\n",
              "    <tr>\n",
              "      <th>119</th>\n",
              "      <td>with</td>\n",
              "      <td>45888</td>\n",
              "    </tr>\n",
              "    <tr>\n",
              "      <th>63</th>\n",
              "      <td>your</td>\n",
              "      <td>43899</td>\n",
              "    </tr>\n",
              "  </tbody>\n",
              "</table>\n",
              "</div>"
            ],
            "text/plain": [
              "     word   count\n",
              "17    the  285387\n",
              "1      to  188774\n",
              "6       i  162364\n",
              "87    and  133487\n",
              "3       a  123695\n",
              "20    you  107691\n",
              "59    for   87643\n",
              "51     it   86135\n",
              "16     of   80458\n",
              "30     is   80209\n",
              "14     in   69200\n",
              "110    my   62892\n",
              "56   have   59072\n",
              "124  that   57821\n",
              "34     on   57123\n",
              "69   this   54363\n",
              "36     we   51109\n",
              "22     be   47103\n",
              "119  with   45888\n",
              "63   your   43899"
            ]
          },
          "metadata": {
            "tags": []
          },
          "execution_count": 25
        }
      ]
    },
    {
      "cell_type": "code",
      "metadata": {
        "id": "dPO3x8O9j-z-",
        "colab_type": "code",
        "outputId": "a9d232d0-cf87-4fcf-cb61-22df8ca0af49",
        "colab": {
          "base_uri": "https://localhost:8080/",
          "height": 69
        }
      },
      "source": [
        "frequency_top200= sum(word_dictionary.sort_index(by='count',ascending=False)[:20]['count'])\n",
        "frequency_top200/sum(word_dictionary['count'])\n",
        "# top 200 most frequent words contitute 40.17% of all words shown up\n",
        "# top 20 most frequent words contitute 10.8% of all words shown up"
      ],
      "execution_count": 0,
      "outputs": [
        {
          "output_type": "stream",
          "text": [
            "/usr/local/lib/python3.6/dist-packages/ipykernel_launcher.py:1: FutureWarning: by argument to sort_index is deprecated, please use .sort_values(by=...)\n",
            "  \"\"\"Entry point for launching an IPython kernel.\n"
          ],
          "name": "stderr"
        },
        {
          "output_type": "execute_result",
          "data": {
            "text/plain": [
              "0.1083305681086719"
            ]
          },
          "metadata": {
            "tags": []
          },
          "execution_count": 34
        }
      ]
    },
    {
      "cell_type": "code",
      "metadata": {
        "id": "iyXCSuyj4Lju",
        "colab_type": "code",
        "colab": {}
      },
      "source": [
        "# Write CSV with the output.\n",
        "file = codecs.open('Words_In_Comments.csv', \"w\", \"utf-8\")\n",
        "for item in Vals:\n",
        "    file.write(\"%s\\r\\n\" % item)\n",
        "file.close()"
      ],
      "execution_count": 0,
      "outputs": []
    },
    {
      "cell_type": "code",
      "metadata": {
        "id": "TOzq0VTI4bm5",
        "colab_type": "code",
        "outputId": "1f45462f-9bf8-4ab3-ac37-70b5d6ea3301",
        "colab": {
          "base_uri": "https://localhost:8080/",
          "height": 72
        }
      },
      "source": [
        "!./fasttext print-sentence-vectors crawl-300d-2M-subword.bin < Words_In_Comments.csv > EmbeddingComments_fasttext.tsv"
      ],
      "execution_count": 0,
      "outputs": [
        {
          "output_type": "stream",
          "text": [
            "tcmalloc: large alloc 4800004096 bytes == 0x56390c552000 @  0x7efe36aad887 0x5638f93998cf 0x5638f93a43e4 0x5638f93a4ed1 0x5638f93b0873 0x5638f937bef8 0x7efe35b4ab97 0x5638f937bf8a\n",
            "tcmalloc: large alloc 2400002048 bytes == 0x563a2a6f6000 @  0x7efe36aad887 0x5638f93998cf 0x5638f93a4428 0x5638f93a4ed1 0x5638f93b0873 0x5638f937bef8 0x7efe35b4ab97 0x5638f937bf8a\n"
          ],
          "name": "stdout"
        }
      ]
    },
    {
      "cell_type": "code",
      "metadata": {
        "id": "bHJ8kqsz88Tk",
        "colab_type": "code",
        "outputId": "84351721-60f0-44cc-a941-3dccf4f46ff7",
        "colab": {
          "base_uri": "https://localhost:8080/",
          "height": 211
        }
      },
      "source": [
        "with fileinput.FileInput('EmbeddingComments_fasttext.tsv', inplace=True, backup='.bak') as file:\n",
        "    for line in file:\n",
        "        print(line.replace(' ', ','), end='')\n",
        "        import numpy as np\n",
        "# Create the first line to make it easy to read back\n",
        "firstLine = ','.join(['D'+str(i) for i in np.arange(1, 301)]) + '\\n'\n",
        "# Open as read only. Read the file\n",
        "with open('EmbeddingComments_fasttext.tsv', 'r') as original: \n",
        "  data = original.read()\n",
        "# Open to write and write the first line and the rest\n",
        "with open('EmbeddingComments_fasttext.csv', 'w') as modified: \n",
        "  modified.write(firstLine + data)\n",
        "\n",
        "!head EmbeddingComments_fasttext.csv"
      ],
      "execution_count": 0,
      "outputs": [
        {
          "output_type": "stream",
          "text": [
            "D1,D2,D3,D4,D5,D6,D7,D8,D9,D10,D11,D12,D13,D14,D15,D16,D17,D18,D19,D20,D21,D22,D23,D24,D25,D26,D27,D28,D29,D30,D31,D32,D33,D34,D35,D36,D37,D38,D39,D40,D41,D42,D43,D44,D45,D46,D47,D48,D49,D50,D51,D52,D53,D54,D55,D56,D57,D58,D59,D60,D61,D62,D63,D64,D65,D66,D67,D68,D69,D70,D71,D72,D73,D74,D75,D76,D77,D78,D79,D80,D81,D82,D83,D84,D85,D86,D87,D88,D89,D90,D91,D92,D93,D94,D95,D96,D97,D98,D99,D100,D101,D102,D103,D104,D105,D106,D107,D108,D109,D110,D111,D112,D113,D114,D115,D116,D117,D118,D119,D120,D121,D122,D123,D124,D125,D126,D127,D128,D129,D130,D131,D132,D133,D134,D135,D136,D137,D138,D139,D140,D141,D142,D143,D144,D145,D146,D147,D148,D149,D150,D151,D152,D153,D154,D155,D156,D157,D158,D159,D160,D161,D162,D163,D164,D165,D166,D167,D168,D169,D170,D171,D172,D173,D174,D175,D176,D177,D178,D179,D180,D181,D182,D183,D184,D185,D186,D187,D188,D189,D190,D191,D192,D193,D194,D195,D196,D197,D198,D199,D200,D201,D202,D203,D204,D205,D206,D207,D208,D209,D210,D211,D212,D213,D214,D215,D216,D217,D218,D219,D220,D221,D222,D223,D224,D225,D226,D227,D228,D229,D230,D231,D232,D233,D234,D235,D236,D237,D238,D239,D240,D241,D242,D243,D244,D245,D246,D247,D248,D249,D250,D251,D252,D253,D254,D255,D256,D257,D258,D259,D260,D261,D262,D263,D264,D265,D266,D267,D268,D269,D270,D271,D272,D273,D274,D275,D276,D277,D278,D279,D280,D281,D282,D283,D284,D285,D286,D287,D288,D289,D290,D291,D292,D293,D294,D295,D296,D297,D298,D299,D300\n",
            "0.0097295,-0.02177,0.091144,0.022483,0.0037395,0.02749,0.11349,0.0091194,-0.051302,0.051207,0.025621,0.010974,0.0022793,0.011745,-0.01897,-0.00010531,-0.00815,0.013045,-0.074338,0.17561,0.12122,-0.0065235,0.0021899,0.0011481,-0.015768,-0.0057924,-0.16129,-0.0042457,-0.0071102,0.0057798,-0.0046863,0.030398,0.0032984,-0.001111,-0.027984,0.006857,-0.0052239,-0.020723,-0.013365,0.0051135,-0.062614,-0.20103,-0.012372,-0.0083929,0.036241,0.066919,0.025492,-0.013267,0.060761,0.015117,0.00019021,-0.0073732,-0.0032039,0.008925,-0.12884,-0.0053215,0.12833,0.025399,0.19639,-0.00092319,0.0019067,0.051469,-0.064528,-0.003439,-0.019906,-0.0068467,0.013956,-0.092787,-0.0083015,0.021588,0.0086605,-0.017284,0.019553,0.021838,-0.004651,-0.00043748,-0.015166,-0.015376,0.033791,0.015779,-0.0086401,-0.02265,-0.14228,0.0089301,0.0018831,0.014086,-0.020959,0.020201,0.067656,-0.008276,-0.00042154,0.013857,0.034705,0.11001,0.0033892,0.22664,-0.025243,0.010622,0.0055869,0.017846,-0.015603,-0.01471,-0.012603,-0.013315,0.034047,-0.0029283,-0.01193,0.0021558,0.085116,-0.0089508,-0.046379,-0.0013511,0.0069172,0.069366,0.0029903,-0.0046829,-0.040467,-0.02911,-0.01677,-0.30878,0.014905,0.017998,-0.0033852,-0.0065168,-0.010138,0.00019687,0.013157,0.029439,-0.014814,-0.18458,0.0044091,0.001734,-0.044923,-0.044408,-0.0018175,0.020807,0.0038293,0.0020619,-0.039585,-0.03631,0.011529,-0.011682,0.17386,0.0046136,-0.063905,0.00096575,0.017722,-0.0050384,-0.012498,-0.012265,-0.0060898,-0.086383,-0.038903,0.0034389,0.019128,-0.0054886,-0.2611,-0.045787,0.079716,0.0026135,0.025422,0.14758,-0.039887,-0.0067418,0.016327,-0.071851,0.002223,-0.0052998,-0.0024321,0.023408,-0.0069689,0.013957,-0.0085397,-0.018898,0.032209,-0.0031631,-0.025154,-0.0049634,-0.025706,-0.009844,-0.030224,0.013355,0.0070284,-0.041793,-0.15371,-0.01262,0.0086751,0.016711,-0.010071,0.0025927,0.031592,-0.0086228,0.091111,8.0629e-05,-0.014277,0.0031065,0.014893,-0.02384,0.01222,-0.019873,-0.17709,0.0029986,-0.004557,0.0053633,0.02621,0.051427,0.00051161,0.012458,-0.0086215,-0.02715,-0.17711,-0.0095303,0.062042,-0.040082,-0.0012081,-0.0095891,-0.0009882,0.0015923,-0.033782,0.0069055,-0.004184,-0.0054268,-0.02845,-0.0083798,0.10555,0.022443,0.031119,0.22955,0.012785,-0.029135,-0.062994,-0.034968,-0.044989,-0.0078495,-0.0035701,-0.052696,-0.0010603,-0.02815,-0.025054,0.0093786,-0.038326,0.010612,-0.011068,-0.00079494,-0.0056183,0.026642,0.018912,-0.055017,-0.0038766,-0.010831,0.17688,-0.017793,0.0095746,0.035616,-0.029619,-0.061651,-0.016207,-0.012068,0.0061291,0.0068781,0.020748,-0.0052906,0.0083673,-0.016319,-0.015093,-0.0032184,0.0086758,0.0026398,-0.037737,0.018414,0.020256,0.0092594,-0.013766,0.0047072,0.011777,-0.020704,-0.024901,0.0042002,-0.025861,0.01707,-0.016456,0.0046461,0.021433,0.022107,-0.0043467,-0.0060669,-0.0095495,-0.095916,-0.010686,-0.026003,-0.041916,0.0026563,-0.27393,0.0074506,-0.022205,0.073152,0.047208,0.007524,-0.02738,-0.0074087,\n",
            "0.013324,-0.1306,0.10089,0.025241,-0.031174,-0.052941,0.2291,-0.0055041,-0.013075,0.049457,-0.0035893,0.014148,-0.00097902,0.0063522,-0.0078421,-0.011561,-0.016086,0.018366,0.004051,0.02082,0.092714,-0.09554,-0.0103,-0.0041418,0.04919,0.0017613,0.0016882,-0.016626,-0.0076617,0.026723,0.0073456,-0.079804,-0.0034426,0.006389,-0.0013871,-0.0094632,-0.022137,-0.024844,0.0023959,0.011971,-0.020029,-0.09232,-0.0071077,0.004426,-0.0079112,0.093186,-0.018445,-0.0033279,0.022548,0.022984,-0.006628,-0.022748,-0.0056298,0.0026354,-0.1252,-0.0126,-0.12405,0.004336,-0.11757,-0.0096475,0.00038372,0.013813,-0.079696,-0.0067076,-0.0096765,0.011567,0.001182,-0.030032,-0.0061246,-0.016456,-0.0099397,-9.6199e-05,0.017288,0.0040999,-0.00054837,0.0013195,0.015749,-0.0018237,0.0073431,0.0078969,0.0060136,-0.016609,-0.11345,0.0057591,0.0060974,0.0048712,-0.012233,0.014679,-0.0056956,-0.014219,-0.033288,0.0034843,-0.08232,-0.27775,0.0066647,0.28576,-0.024985,0.0062526,-3.966e-05,-0.013862,0.017896,-0.006573,0.0025954,-0.012716,-0.00076213,-0.011341,0.0016313,-0.0075669,0.0048829,-0.0032484,-0.0094299,0.013635,0.0058499,-0.00075793,-0.0013029,-0.010029,0.066306,-0.020487,0.031008,-0.30294,0.018664,0.0090541,-0.0026898,-0.0077199,-0.006343,-0.017338,0.012808,-0.039825,-0.010941,0.12904,0.0075865,-0.0094458,0.0062018,-0.09997,-0.012828,-0.00072328,0.01438,0.0018789,0.021657,-0.015438,0.013631,-0.00038349,-0.019552,0.053896,0.024979,-0.0023334,0.004042,0.063347,0.0013909,-0.0030632,0.017391,-0.029081,-0.022196,-0.040517,0.020827,-0.011795,-0.12727,0.053847,0.17094,0.0010288,-0.012788,-0.053229,-0.009528,-0.0010927,-0.10984,-0.0011523,0.018918,-0.034226,0.003486,0.011635,-0.01482,0.019521,0.010327,0.0083244,0.0049765,-0.0067101,0.01479,0.0028932,0.0068986,0.0023482,-0.002831,0.0098297,0.0089727,-0.050914,-0.28219,0.0033334,0.011214,0.14843,-0.0098057,0.0057015,0.0058158,0.0045934,-0.041236,-0.0014841,-0.01138,0.012669,0.22697,-0.033336,-0.0011727,-0.0090789,-0.16257,-0.004271,-0.012338,0.011297,-0.026156,-0.033242,0.008566,0.020421,-0.0080336,-0.0010931,-0.16549,-0.017164,-0.002781,-0.0028053,-0.0084379,0.0091651,0.0053387,-0.0053864,-0.063696,-0.0016991,-0.0061946,0.0017335,-0.017184,0.00026847,0.0072699,0.02466,0.02771,0.27928,0.0049207,-0.012519,-0.033263,-0.0029991,-0.033019,-0.021741,0.006437,-0.016139,-0.0096272,-0.00030482,-0.012714,0.00090303,0.096006,-0.0034719,-0.017525,0.0059111,-0.00079458,0.16285,0.014761,-0.0305,0.0073501,-0.050504,0.079041,-0.014998,-0.0022664,-0.013281,-0.037664,-0.056483,0.012838,-0.0073389,0.0074967,-0.0043862,0.011232,0.01429,-0.00070097,0.033104,-0.019589,-0.0068782,0.013378,0.0091435,0.012471,-0.0016926,-0.024382,0.016116,-0.030779,0.0052251,-0.0044828,0.002375,0.013924,-0.009362,-0.0044462,0.025111,0.15496,0.014369,0.0074491,0.0093897,0.0024654,-0.018919,0.015649,-0.12503,-0.0014337,-0.017752,-0.0081558,-0.024234,0.047925,0.0037845,0.0031924,0.039993,-0.11423,-0.010685,-0.027679,-0.0051621,\n",
            "0.018515,0.037727,-0.037647,-0.018836,-0.028652,0.043545,-0.030384,0.0056463,-0.055892,-0.020849,-0.017815,0.0050595,-0.0035742,0.021181,-0.033491,0.015327,0.015232,0.017131,-0.055853,0.057884,-0.027782,0.030735,-0.029555,0.056655,-0.036165,0.0024767,0.17513,-0.022459,0.035568,0.021659,-0.035267,0.02652,0.076035,0.0045169,0.0094958,-0.031279,0.020475,0.056861,0.025,0.0096693,-0.046519,0.073915,-0.0051212,-0.059595,0.0031767,-0.01224,-0.049278,0.010265,-0.091423,0.027489,-0.020392,-0.0037993,0.019315,0.083895,-0.071969,0.050647,0.00050342,-0.029988,0.017792,-0.028612,0.12855,-0.031431,-0.010962,0.015252,-0.034133,-0.035012,0.024947,-0.012201,0.019285,-0.083733,0.071543,-0.032141,-0.066946,0.011789,0.095391,0.038085,0.018671,-0.017046,-0.043015,-0.011832,0.043662,0.038214,-0.15316,-0.0041561,0.015247,-0.015126,-0.001815,-0.02779,-0.038934,-0.11076,0.02311,-0.035492,0.074457,0.057154,0.01657,0.12571,0.00035896,-0.030058,0.035588,0.010383,0.00089262,0.045677,-0.036284,0.042599,-0.010454,-0.01311,-0.043556,0.0047372,0.037535,-0.023921,-0.016652,-0.0073466,-0.0094929,0.018787,0.040325,0.023073,0.047195,0.070808,-0.0091631,-0.324,-0.0062816,0.045134,0.062279,0.024565,-0.0067295,-0.0074544,0.031925,0.016408,-0.05572,0.066407,0.023797,-0.017491,-0.0087582,-0.039996,0.0084899,0.05552,0.042754,0.044594,0.11064,0.01698,-0.0092503,-0.025016,-0.091033,-0.057608,-0.03746,-0.0016496,-0.0070708,-0.059514,-0.053059,0.055123,0.02118,0.0066845,-0.085653,-0.19399,-0.028969,0.023761,-0.011386,-0.021624,-0.05547,0.0073634,-0.022119,-0.0095462,-0.032001,-0.011192,-0.0039886,-0.075866,-0.0032887,0.012013,0.0052239,0.0066085,0.028076,0.084461,-0.028375,-0.039544,0.020199,0.034567,-0.1269,0.023252,0.0055738,0.022036,-0.06839,-0.014682,0.02641,-0.15938,0.01851,-0.0032438,-0.0073703,-0.023731,-0.024934,0.012675,-0.012794,0.031969,-0.16422,0.014245,0.022847,0.021577,-0.047856,-0.002779,-0.067224,0.012875,0.043966,-0.029774,-0.032976,0.018891,0.0020924,-0.040029,-0.012819,0.077463,0.045039,0.018284,-0.42595,0.0012379,0.075908,0.043809,-0.0087104,-0.019898,0.042802,-0.023635,0.001875,-0.023918,0.047033,0.065016,0.20224,-0.040201,-0.096924,0.023093,0.071994,-0.026691,-0.026319,-0.044295,0.068061,0.0090426,0.047386,0.020839,0.03168,-0.045514,-0.034753,0.016505,0.019641,-0.065947,-0.078379,0.031258,0.029339,-0.09321,0.0029952,-0.039277,-0.0055527,0.074447,0.013136,-0.023876,-0.0085764,-0.008867,0.013011,-0.022323,0.0057373,-0.16224,0.0021115,-0.016976,-0.0015917,-0.0073862,-0.028317,-0.0087827,0.040549,0.031838,0.033968,0.011288,0.001972,-0.007186,-0.017191,0.028027,-0.0033796,0.034774,0.027417,-0.020514,-0.0030807,-0.005509,0.010817,-0.054061,0.010285,0.051076,-0.0033182,-0.017643,0.032052,0.060248,-0.1207,-0.012521,-0.033719,-0.067299,0.038367,0.017821,0.005845,-0.023647,0.1521,-0.016582,0.10979,0.016581,-0.0053399,-0.0037811,0.02121,-0.0054264,\n",
            "0.020992,-0.045021,0.19249,0.014287,-0.029275,-0.084545,0.11691,-0.026814,0.1053,0.16388,0.019167,-0.0042134,0.010051,-0.008263,-0.0076513,-0.030292,-0.021165,0.0087893,0.058726,0.055953,-0.079614,-0.033688,-0.002913,0.013104,-0.036491,-2.4932e-05,-0.026383,0.012739,0.016124,0.013609,-0.013223,0.046474,0.0077601,-0.0018557,-0.015419,-0.015985,0.013339,-0.0099914,-0.0067686,0.026951,-0.092923,-0.10129,0.0039411,0.0055356,0.03891,0.064817,0.038367,-0.0031686,0.04693,-0.016956,-0.0042627,-0.026551,-0.0095222,-0.014648,-0.12613,0.016732,0.0053884,0.0094452,0.0079714,-0.015936,0.0027315,-0.006187,0.071863,-0.016089,-0.038179,-0.0006322,0.016006,0.041775,-0.016547,0.035218,-0.010635,0.016002,0.0034199,-0.01084,-0.010998,0.011615,0.0079817,0.0023906,0.039009,-0.0082297,0.016731,-0.016069,-0.25874,0.021134,0.025505,0.0096688,-0.039901,0.006804,-0.052267,-0.011922,-0.094474,0.006298,-0.049377,0.062966,0.0088179,0.35759,-0.0086671,-0.014401,0.02417,-0.021606,-0.040847,-0.022816,-0.030684,-0.0070945,0.076056,0.0045437,-0.012142,-0.0234,0.12136,-0.021185,-0.0053505,0.018627,0.031101,0.0085802,0.0051172,0.0027278,0.010314,-0.017032,-0.056452,-0.47142,0.013211,0.0001416,0.014427,-0.0013722,0.012393,1.5295e-05,0.023112,0.0036343,-0.039484,0.0028059,-0.0082173,-0.027251,0.02536,0.10867,0.019014,-0.0011366,-0.041342,0.014354,0.028884,-0.054113,0.010064,-0.016537,0.03278,-0.019413,0.085391,0.011403,0.0027452,0.0006747,0.0040994,-0.03068,-0.0022539,-0.044205,-0.040165,0.072999,0.023258,-0.015348,0.081894,-0.030489,0.11761,0.035624,0.03561,-0.035384,-0.039106,-0.046051,-0.10316,0.14787,0.023846,0.020011,0.025479,0.014003,0.013764,0.0060345,0.02915,-0.011029,0.021716,0.021002,-0.066201,0.00063788,-0.040907,0.022995,0.019767,0.0042981,0.019748,0.012134,-0.098092,-0.021628,0.0051295,0.070474,0.010808,0.0048242,-0.0021101,0.00157,-0.097381,-0.017332,-0.019678,0.023806,0.026567,-0.017088,-0.0079754,0.013223,-0.20772,0.013522,-0.018862,0.033167,0.022793,0.098636,-0.0061821,0.014288,-0.013781,-0.00043153,-0.23037,-0.016859,0.028684,-0.050376,0.014795,0.032847,0.023042,-0.0049337,-0.073895,0.0026957,-0.030048,0.01268,0.078041,-0.0042806,0.12578,0.079571,0.027635,0.07428,0.017335,-0.010462,-0.017602,-0.045439,0.037651,-0.020315,0.003838,0.010737,-0.025262,-0.011504,-0.0085905,0.011721,-0.027144,-0.013549,0.0027194,0.002464,-0.0088502,0.0527,-0.0072975,0.043853,-0.018751,0.055026,-0.003653,-0.027862,-0.0091557,0.038116,-0.031582,-0.028319,0.00049187,0.024297,0.025317,-0.0010576,-0.030901,-0.061226,-0.021263,-2.7335e-05,-0.01324,-0.0095596,-0.019101,-0.0027723,0.013578,-0.007782,-0.03264,0.026284,-0.001006,-0.025247,-0.013084,-0.028463,-0.00032692,-0.022584,-0.013811,0.005923,-0.013572,0.024491,-0.01033,0.02817,-0.015567,-0.032186,-0.017448,-0.10499,-0.0018878,0.010758,-0.01817,-0.027735,0.025026,0.025325,-0.0057986,0.037479,0.028894,-0.023576,-0.027352,-0.0144,\n",
            "-0.0005671,0.0237,-0.010935,0.0092161,-0.005919,0.063092,0.014024,0.010873,0.061753,-0.035653,-0.0068916,-0.001532,-0.0066,0.0067315,0.0086742,0.0034578,0.0016811,0.014911,-0.052973,-0.10542,0.017783,0.064909,-0.0093407,0.0037062,-0.016787,0.0099055,0.0059976,-0.011609,0.0061372,0.013784,-0.0084517,-0.034448,-0.0010178,0.0052844,-0.0053471,-0.012697,0.0059642,0.011547,0.0010727,0.020573,0.0019431,-0.0015069,0.0087829,0.0159,-0.051614,-0.036729,-0.036238,-0.0087272,-0.10573,0.013262,0.0090147,0.01161,0.018248,-0.0072675,-0.10222,0.0052051,0.012467,0.0042941,-0.087585,0.02104,0.0029074,-0.079962,-0.13062,0.010472,0.0070459,0.0055522,-0.0062019,0.023161,0.003449,0.038079,-0.0074089,-0.029543,-0.019187,-0.015677,0.0023848,-0.0034472,-0.0012005,-0.013143,-0.0087006,-0.006506,-0.03296,0.0011382,-0.2872,0.011519,0.0066665,0.014298,0.0047765,0.0052501,0.0082306,0.0088346,0.07838,-0.00037007,0.15215,0.014828,-0.017373,0.027039,-0.0058084,0.013126,0.0060874,-0.0063647,-0.027726,-0.00031912,0.016536,0.011456,0.020823,0.016495,0.027539,0.00032557,0.094846,0.0134,-0.017069,-0.0043922,0.0030689,-0.037148,-0.0034788,-0.0029366,-0.068276,-0.0090531,0.0066091,-0.4888,0.015519,0.0038832,0.0031504,-0.015219,0.018488,-0.002557,0.0087358,-0.0066134,0.0015925,0.031556,-0.0077381,-0.00014971,0.10081,-0.076179,0.0049608,0.0067323,-0.017323,0.00027359,0.20498,0.031604,0.0053923,-0.00087048,-0.056752,-0.0017219,-0.01457,-0.0089365,0.0051105,-0.05655,0.016342,0.0093778,-0.0096143,-0.019264,-0.017545,-0.18543,0.0030278,-0.00059889,0.050031,-0.069866,-0.078493,0.010859,-0.0066703,-0.15729,-0.00090688,-0.016417,-0.035211,-0.22597,0.015543,-0.0041605,0.0021111,-0.011236,0.0086124,0.0081414,-0.013592,-0.0027878,0.0064544,-0.0087898,-0.12464,0.0079339,-0.025974,0.018546,-0.020664,-0.0052402,-0.0089542,-0.00028857,-0.067382,-0.025162,-0.015694,0.048952,-0.0015181,0.01073,-0.00098019,0.0051204,0.065332,0.0032635,-0.0037113,0.021471,0.12575,-0.011842,-0.0029074,0.0070956,0.21541,0.0051819,0.011958,-0.0071669,0.015398,-0.0032377,0.015209,-0.00085202,-0.0079103,-0.0049617,-0.32054,0.015037,-0.11644,0.034067,-0.0033733,-0.001834,0.025065,-0.0041986,-0.037591,-0.0030409,-0.0039851,-0.0093657,0.16969,-0.015433,-0.068738,0.0078593,0.010182,0.032581,0.0048273,-0.0035207,-0.004659,0.032764,-0.026523,-0.025074,0.006776,0.0078891,-0.011811,0.013682,-0.0085373,0.01351,-0.00078986,0.0046843,0.0039665,-0.037617,0.014925,-0.10887,0.015208,0.01588,-0.016119,-0.014937,0.209,0.001631,-0.0090033,-0.021835,0.015109,-0.016052,-0.010942,0.0064234,-0.012527,-0.0058092,0.028095,-0.023368,0.037484,0.03602,0.02501,0.0073555,0.0043687,0.0051249,-0.0074989,0.031602,0.012874,0.0068943,-0.030638,0.0050835,0.0020422,0.0061937,-0.03838,-0.032702,-0.0039101,-0.008098,0.03586,0.0081339,0.0036229,-0.024796,0.010137,-0.010899,0.036104,0.043114,0.0023744,-0.00058946,-0.025538,-0.007833,-0.063786,-0.015908,0.019873,0.058115,-0.019475,-0.0063804,0.035822,-0.0026127,\n",
            "-0.0011453,-0.14067,0.10863,0.019816,0.039181,-0.08295,0.26816,0.032128,-0.053094,0.099946,-0.022146,0.038454,-0.020499,-0.036972,-0.068742,0.01757,-0.026393,-0.008723,-0.10798,0.12384,-0.060138,-0.11311,-0.018998,-0.012222,0.051429,0.026172,0.16388,0.0097942,0.037151,0.040974,-0.045063,-0.074723,0.020743,0.023008,0.01062,0.031862,0.029829,0.0003242,0.031746,-0.0085137,0.017005,-0.063461,-0.020093,0.010136,-0.0046934,0.081983,-0.034669,-0.033992,-0.042529,0.02273,0.046428,-0.038203,0.062903,0.059344,-0.15499,-0.019281,0.016988,-0.018042,0.090634,0.042538,0.028569,-0.061902,0.01287,0.006186,-0.0099481,0.013509,0.0010012,-0.06493,0.074216,0.020869,0.026752,-0.050013,-0.0058102,0.01516,0.062843,0.0395,-0.058563,-0.022656,-0.050442,-0.014325,0.020142,-0.03969,-0.027013,0.028271,0.014707,0.026598,0.018658,0.014042,0.032509,0.033066,-0.0046839,-0.0031548,-0.014645,0.034568,0.016902,0.28393,-0.023374,0.059688,0.030251,0.065823,-0.011263,-0.0054032,0.043868,0.010281,-0.063278,0.014523,0.049328,-0.003968,0.050457,0.063189,-0.0056794,0.0073895,0.023683,-0.04678,-0.065563,-0.025494,0.014086,-0.0034673,0.01761,-0.31554,-0.0029276,-0.061318,-0.0052061,-0.009115,-0.048992,0.067897,-0.030066,0.04605,0.01924,0.033034,-0.011669,0.013575,-0.093393,0.00909,0.0055211,-0.026065,-0.010762,-0.041291,-0.015195,0.00094745,0.03173,0.0075185,-0.013758,0.01327,-0.090703,-0.017601,0.015147,-0.0078682,0.032328,0.010807,0.0074411,-0.086757,0.10096,-0.013474,0.0093527,-0.045176,-0.093492,-0.00066617,0.038257,0.028232,0.022081,0.073236,-0.074365,-0.028662,-0.042915,0.0090174,0.015632,-0.041206,0.014771,-0.030523,0.011544,0.025388,0.020923,-0.014877,0.0039954,0.050122,0.050015,-0.044038,-0.041435,0.0169,-0.00090861,0.02565,0.0070006,-0.2114,-0.12155,0.0056718,-0.058168,0.0085314,0.046561,-0.0078866,0.079316,0.022384,-0.10349,-0.02974,0.0093767,0.021167,0.025564,0.041988,-0.020132,0.035695,-0.19852,-0.027873,-0.048538,0.019959,-0.0093604,-0.036923,-0.0007519,0.058741,-0.0053997,-0.0006191,-0.21355,0.040627,0.12388,0.042709,-0.018556,0.0069676,0.027685,-0.030898,0.0026933,-0.012095,0.0045459,-0.064821,0.026621,0.0067339,0.072262,-0.01345,-0.017781,0.15487,-0.0079433,0.012923,0.02471,-0.091031,0.041389,0.078562,0.029236,-0.046539,-0.012033,0.0033019,-0.03435,0.035894,-0.078566,0.0083696,-0.0082601,-0.0090087,0.01049,0.096882,0.020672,0.031802,-0.011834,0.029333,0.11885,-0.0059836,-0.032863,-0.045363,-0.030685,-0.01785,0.054809,0.03364,-0.038648,-0.01284,0.015233,-0.0038985,-0.02254,-0.027556,0.01319,7.7573e-05,-0.019648,-0.024791,-0.041468,-0.0039875,-0.064356,0.0036223,-0.11387,-0.019337,-0.028506,0.019278,-0.02361,-0.045617,-0.021479,-0.016803,0.093885,0.0061691,0.032337,-0.01603,-0.027369,-0.01946,0.048352,-0.066191,-0.0084241,-0.0040512,0.0015214,0.030035,0.080801,-0.012264,0.007914,-0.015278,0.065634,-0.04363,0.010488,-0.016025,\n",
            "0.0073127,-0.069766,0.20653,0.035071,-0.036842,0.014323,0.29432,0.0077156,0.096258,-0.036709,-0.00010876,0.025791,0.0058585,0.013431,-0.019479,-0.025808,-0.024926,0.013327,0.0112,0.017001,-0.097759,0.071488,-0.025922,7.4421e-05,0.032272,0.011636,-0.13094,0.010512,-0.0022292,0.023619,0.012605,0.017081,0.0063705,-0.006819,-0.061663,0.039996,0.014964,-0.021815,-0.019857,-0.044236,0.051055,-0.10311,-0.011627,0.0033463,0.022352,0.087537,0.069442,-0.0091571,-0.084681,0.016962,-0.01268,-0.013304,-0.011916,0.030223,0.076882,0.0094006,0.049782,-0.0042743,-0.0053714,-0.0069677,0.002501,-0.037035,-0.021097,-0.0034846,-0.056247,0.020134,-0.0011663,0.029057,-0.0014666,0.0087116,-0.0084471,0.001175,-0.0030948,-0.027241,-0.0067351,-0.013496,-0.0045196,0.0037434,-0.046547,-0.00062244,0.048644,-0.0091909,-0.23157,-0.0083317,0.003889,0.0089831,-0.01432,-0.010937,-0.09541,0.021011,0.048199,0.0058555,-0.049068,-0.0057928,-0.01438,0.25065,-0.0094495,0.006778,-0.0034025,0.065353,0.011459,0.0034583,0.00045083,0.0080231,-0.023861,-0.010255,-0.0012923,0.013962,0.060808,0.021824,-0.022215,0.028031,0.01164,0.012427,0.015398,-0.009115,-0.071783,-0.0027275,0.041056,-0.30033,0.0089107,0.0019922,-0.035429,-0.0057822,0.00074368,-0.064919,0.030116,-0.061476,-0.034977,-0.096373,0.0035527,-0.033362,0.052512,0.097615,-0.0032258,0.010203,0.031042,0.0074506,-0.020421,-0.034796,0.018695,0.0085592,0.028829,0.073709,0.062343,-0.010444,0.016299,0.042288,0.012096,-0.00023393,-0.026921,-0.061521,-0.023288,0.015746,0.013212,-0.01049,0.013752,-0.067775,0.14118,-0.0075723,0.0085859,-0.07086,-0.067897,-0.0031964,-0.0075089,-0.020121,0.0057711,0.017616,0.0047523,-0.041194,-0.0095095,0.016125,-0.026222,0.017007,0.059081,0.0064764,-0.011534,0.010163,0.026585,-0.024972,0.0043542,0.0065445,0.027247,-0.018103,-0.27944,-0.020748,0.013131,0.14772,-0.00080601,0.00060534,-0.015941,0.0042605,0.036904,-0.013006,-0.00812,-0.024184,0.085177,-0.0024787,-0.004752,0.037179,-0.22857,-0.0043132,0.011468,0.01639,0.0098657,0.0089903,0.012297,0.005891,0.0079402,0.022158,-0.14143,0.006386,0.034811,-0.0037498,-0.0019339,0.0031557,-0.0022793,0.00092615,0.015888,-0.002617,0.010568,0.0060497,0.01291,-0.013071,0.068671,-0.056647,0.040204,0.2852,0.0070755,-0.008301,0.043102,-0.05984,0.040644,0.035406,-8.096e-05,0.0098362,0.016132,0.003778,-0.011692,0.0049067,-0.035227,0.01387,0.0073568,0.066437,0.022567,0.10435,0.021877,-0.0066729,0.0015131,0.060598,0.13669,-0.011702,-0.021108,-0.058534,-0.039526,-0.051276,-0.0060188,-0.011264,0.009352,0.00089661,0.013504,-0.006715,0.045423,0.015877,0.010694,-0.007811,0.0060144,0.029236,-0.014174,-0.017288,-0.011593,0.014592,-0.077337,-0.007737,-0.0014649,-0.010049,0.038307,0.10305,-0.010316,0.013109,0.096851,0.01886,0.0077646,-0.1201,-0.0017284,-0.0205,0.083789,0.02114,0.010457,-0.012413,0.0087297,-0.055176,-0.10061,-0.01391,-0.0025078,0.056868,-0.042131,-0.0089055,0.0048858,0.014885,\n",
            "0.011619,0.12207,0.1888,-0.0028967,-0.056286,-0.098217,0.16553,0.017025,-0.08861,0.12558,0.023227,0.01717,-0.0022194,0.00701,-0.01552,-0.012067,-0.018791,0.015221,-0.12602,0.0036285,0.097705,0.064448,0.028698,-0.009154,0.049547,0.0067049,-0.055901,0.0029035,-0.0025614,-0.0072915,-0.0068469,0.069458,0.011727,0.0056637,0.054935,0.0021355,-0.017385,0.0018126,0.0053486,-0.0015156,-0.049406,-0.011706,-0.030005,0.0037593,0.0087151,0.072183,-0.075301,0.0050853,-0.019879,0.016214,0.011608,0.0019476,0.012029,-0.0096504,-0.11391,0.019312,0.098823,0.0016333,0.13676,-0.012413,0.017287,-0.086569,-0.0092682,-0.010062,0.012019,-0.013303,0.040755,-0.10737,-0.010371,-0.087416,-0.01834,-0.04344,0.0048213,-0.00088988,0.061488,-0.002331,-0.0081436,-0.01706,0.011657,0.0050984,0.028013,-0.022316,0.050741,0.015024,0.0044468,-0.0077653,-0.030802,0.02098,0.081689,0.0088856,-0.023367,-0.0010509,-0.027234,0.060452,-0.0021788,0.38159,-0.0092223,-0.0076188,0.034188,0.013285,-0.037782,0.026108,0.018499,0.014261,-0.042788,-0.0007253,0.016632,-0.020805,0.069355,0.008136,-0.034432,0.027825,-0.0032839,-0.047177,-0.0030916,-0.015733,-0.13613,-0.025173,-0.029741,-0.34593,0.091136,0.0022708,-0.0093679,-0.0027789,-0.0056529,0.01251,0.021891,-0.059489,-0.0095152,0.017629,-0.0045917,-0.011299,-0.098307,0.067301,0.010211,0.026515,-0.023655,-0.011372,-0.037561,0.11599,0.011695,0.0071945,0.073126,0.004914,-0.020726,-0.0021628,-0.00063624,-0.014502,-0.032929,0.025264,-0.012717,-0.017834,-0.037685,0.0044386,0.020467,-0.011919,-0.043792,-0.075006,-0.001492,-0.013971,0.030512,-0.085651,-0.031812,0.0043901,-0.062415,0.098853,-0.0095703,-0.015507,0.023176,-0.015162,-0.0030812,0.036148,-0.014309,0.028495,0.0036519,0.020452,0.042379,-0.0018721,-0.019438,0.005965,-0.050271,-0.0094808,0.0081593,-0.083367,-0.087048,0.017457,0.0051782,-0.071686,0.032209,-0.0022393,0.043338,-0.013889,-0.090391,-0.016617,-0.012464,-0.001623,0.047376,-0.025133,0.0093134,0.033788,-0.2067,-0.022687,-0.0088298,-0.00015618,0.0049938,0.044625,0.051387,0.01322,-0.030607,-0.0053211,-0.18476,-0.011412,-0.045547,0.048826,-0.0017322,0.0096462,-0.0034247,-0.013068,-0.18036,-0.0041043,0.008544,-0.0073073,-0.13568,0.01988,0.17086,0.053002,0.045869,0.11433,0.025247,-0.036527,-0.0060342,-0.047385,-0.078896,0.051566,-0.0038769,-0.052298,-0.062058,-0.019968,0.0020865,-0.01395,-0.12614,-0.014509,0.00088037,-0.016646,0.044754,0.0027568,0.033811,-0.049822,-7.2071e-05,-0.04058,0.10781,0.015891,0.0022673,-0.035423,-0.072084,-0.081437,-0.027347,0.025745,-0.024224,0.010479,0.024039,-0.0047268,-0.031796,0.038605,0.04699,0.0033828,0.024057,0.020835,-0.013939,-0.019935,0.0086855,-0.014311,-0.025625,0.019473,-0.013507,-0.035843,0.023103,0.031374,0.016839,0.054915,0.060724,0.0039296,0.024437,0.0071327,0.012128,-0.0077529,0.033937,-0.054064,-0.033157,-0.004477,0.00068419,0.019085,0.00040671,-0.008643,-0.026301,0.082214,-0.064734,-0.03387,0.04249,-0.016343,\n",
            "0.012778,-0.028733,0.13043,0.038759,0.024786,-0.021207,0.19696,0.0090658,0.0054581,-0.018461,-0.0089344,0.0021725,0.0039416,0.0049576,0.0059068,-0.020369,-0.0050967,0.022079,-0.17856,0.091875,-0.022818,0.055267,-0.0087011,0.0079706,-0.076784,-0.015924,-0.26002,-0.00913,0.0033028,0.017893,-0.0039055,-0.043339,-0.0045266,-0.010808,-0.029496,-0.02067,0.023574,-0.020956,-0.019297,0.016703,-0.015317,-0.12064,-0.0071294,-0.0027923,-0.021781,0.040667,0.05395,-0.0074223,0.051111,0.0049347,0.011808,-0.0033733,-0.0046763,0.0087807,-0.0037898,0.0010632,-0.086232,0.020944,-0.11423,-0.011871,0.015278,0.13981,-0.013236,-0.010774,0.0086142,-0.01291,0.0068303,0.062664,-0.015469,0.0057044,0.00022082,0.0022888,0.012063,-0.010017,-0.0078774,0.011235,0.0027636,-0.015557,-0.07803,-0.0008964,-0.055186,-0.025049,-0.24876,0.012884,0.0064584,0.0088968,-0.01289,0.0074311,0.036475,-0.0062498,0.029819,-0.00031812,-0.017425,0.25434,-0.0075897,0.1534,-0.0091822,0.013688,0.0040795,-0.011175,-0.010141,-0.027817,-0.0041643,0.0006537,0.087591,0.0026936,-0.00031751,0.0069894,0.14009,-0.0065678,-0.05421,0.01459,-0.021061,-0.0075951,0.013594,0.00052285,0.098425,-0.012796,-0.0272,-0.22792,0.003175,0.0064161,0.0018545,0.0084187,-0.014157,-0.022285,0.015554,0.064432,-0.010709,-0.0054602,0.00063411,-0.0037913,0.01835,0.14319,-0.0087841,0.0052403,-0.01201,0.0081974,0.0098912,-0.013038,0.01196,0.0083407,-0.017528,0.027191,-0.0083445,0.0034216,0.00024532,0.01938,0.0014005,0.0038886,0.003828,0.028709,-0.017825,0.027601,0.018655,-0.0056454,-0.070027,-0.13904,-0.016455,0.0090955,0.0055283,0.12163,-0.03383,0.0040867,0.070879,0.072673,0.026051,0.010377,-0.028387,0.030011,-0.0064937,0.011897,-0.0012707,0.0030322,0.029882,-0.0076437,-0.12373,0.0090836,-0.020652,-0.013806,-0.023623,0.0069233,0.0029134,-0.0073806,-0.18501,-0.036695,0.0027619,0.0095434,-0.014887,-0.0093019,0.005715,0.0078608,0.10714,0.0091791,-0.014838,0.0049424,-0.11971,-0.017673,-0.0071332,-0.016492,-0.12666,0.01057,0.0088838,0.0076706,0.019437,0.084817,-0.010541,0.0090531,-0.022443,0.015582,-0.20091,-0.012035,0.073836,-0.0087169,0.0046083,0.0024788,0.0029987,-0.016772,0.05864,-0.0027581,0.014451,-0.018213,0.014079,-0.0040107,0.092079,0.040935,0.044182,0.22939,0.0060824,-0.011465,-0.020069,0.047927,-0.038428,-0.031165,0.00011533,0.0096237,0.014666,0.0094769,-0.015712,0.0063037,-0.024555,0.010698,-0.024765,-0.043574,-0.0082236,0.11477,-0.0086514,-0.03588,-0.0087864,-0.053483,0.24702,-0.011446,0.017545,0.015831,-0.032273,-0.063274,-0.005713,-0.0010981,0.00067208,0.0046931,0.021608,-0.0073244,-0.0050747,-0.0026333,-0.0074478,0.016758,0.011322,0.025959,-0.029546,0.024151,0.0033449,0.01535,0.025848,-0.0044929,0.0012215,0.009966,0.039071,-0.039375,-0.024023,0.029592,0.068286,0.0012924,0.0054138,-0.015099,0.0011141,-0.0068906,0.0071843,-0.063839,-0.011345,-0.037857,-0.023197,-0.022913,-0.21673,-0.010853,0.0013748,0.08883,-0.10795,-0.011159,-0.054213,-0.0016602,\n"
          ],
          "name": "stdout"
        }
      ]
    },
    {
      "cell_type": "code",
      "metadata": {
        "id": "CO3cqS5k90HH",
        "colab_type": "code",
        "outputId": "f9c61fc6-ab34-49af-fcfe-d57f07e827f9",
        "colab": {
          "base_uri": "https://localhost:8080/",
          "height": 35
        }
      },
      "source": [
        "# Read word embeddings\n",
        "Embeddings = pd.read_csv('EmbeddingComments_fasttext.csv', sep=',', decimal = '.', low_memory = True, index_col = False)\n",
        "Embeddings.shape"
      ],
      "execution_count": 0,
      "outputs": [
        {
          "output_type": "execute_result",
          "data": {
            "text/plain": [
              "(113219, 300)"
            ]
          },
          "metadata": {
            "tags": []
          },
          "execution_count": 9
        }
      ]
    },
    {
      "cell_type": "code",
      "metadata": {
        "id": "Qtg7aYYP96Xf",
        "colab_type": "code",
        "outputId": "d9ceadf4-8e75-421f-c75c-34b0591beda5",
        "colab": {
          "base_uri": "https://localhost:8080/",
          "height": 317
        }
      },
      "source": [
        "# Create embedding dictionary\n",
        "EmbeddingsDict = dict(zip(Vals, Embeddings.values))\n",
        "%matplotlib inline\n",
        "# Count maximum number of words per comment.\n",
        "wordDist = [len(w.split()) for w in df.iloc[:,0]]\n",
        "print('Avg. no of words: ' + str(np.round(np.mean(wordDist), 2)))\n",
        "print('Std. deviation: ' + str(np.round(np.std(wordDist), 2)))\n",
        "print('Max words: ' + str(np.max(wordDist)))\n",
        "# Generate the plot\n",
        "distComments = sns.distplot(wordDist)\n",
        "## I will use 150 words as maximum sequence length"
      ],
      "execution_count": 0,
      "outputs": [
        {
          "output_type": "stream",
          "text": [
            "Avg. no of words: 30.26\n",
            "Std. deviation: 28.62\n",
            "Max words: 1257\n"
          ],
          "name": "stdout"
        },
        {
          "output_type": "display_data",
          "data": {
            "image/png": "[encoded data removed]",
            "text/plain": [
              "<Figure size 432x288 with 1 Axes>"
            ]
          },
          "metadata": {
            "tags": []
          }
        }
      ]
    },
    {
      "cell_type": "code",
      "metadata": {
        "id": "vXLlHcqX-7-J",
        "colab_type": "code",
        "outputId": "1f9ee6f1-e9db-4431-df8c-6579bd3cb4d0",
        "colab": {
          "base_uri": "https://localhost:8080/",
          "height": 52
        }
      },
      "source": [
        "## create input layer: the embedding of each word\n",
        "# Create word index from input\n",
        "sequences = tokenizer.texts_to_sequences(df['text']) # Create the sequences.\n",
        "# Creates the training dataset, adding padding when necessary.\n",
        "data = pad_sequences(sequences, maxlen=150, padding = 'post') \n",
        "# Creates the objective function\n",
        "labels = df['sentiment'] # the sentiment\n",
        "print('Shape of data tensor:', data.shape)\n",
        "print('Shape of label tensor:', labels.shape)"
      ],
      "execution_count": 0,
      "outputs": [
        {
          "output_type": "stream",
          "text": [
            "Shape of data tensor: (204058, 150)\n",
            "Shape of label tensor: (204058,)\n"
          ],
          "name": "stdout"
        }
      ]
    },
    {
      "cell_type": "code",
      "metadata": {
        "id": "nMXCewjUA-q2",
        "colab_type": "code",
        "outputId": "2af3a5ac-ae39-49ef-889d-3ab505b67a13",
        "colab": {
          "base_uri": "https://localhost:8080/",
          "height": 35
        }
      },
      "source": [
        "word_index=tokenizer.word_index\n",
        "embedding_matrix = np.zeros((len(word_index)+1, 300))\n",
        "for word, i in word_index.items():\n",
        "    embedding_vector = EmbeddingsDict.get(word)\n",
        "    if (embedding_vector is not None) and (i<len(word_index)):\n",
        "        # words not found in embedding index will be all-zeros.\n",
        "        embedding_matrix[i] = embedding_vector\n",
        "embedding_matrix.shape"
      ],
      "execution_count": 0,
      "outputs": [
        {
          "output_type": "execute_result",
          "data": {
            "text/plain": [
              "(113220, 300)"
            ]
          },
          "metadata": {
            "tags": []
          },
          "execution_count": 12
        }
      ]
    },
    {
      "cell_type": "code",
      "metadata": {
        "id": "v4CMOQMXBNqF",
        "colab_type": "code",
        "colab": {}
      },
      "source": [
        "np.savetxt(\"a3_fasttext_EmbeddingMatrix.txt\", embedding_matrix)"
      ],
      "execution_count": 0,
      "outputs": []
    },
    {
      "cell_type": "code",
      "metadata": {
        "id": "cD8XgBnDBiuo",
        "colab_type": "code",
        "colab": {}
      },
      "source": [
        "# We will also save the word dictionary as pkl\n",
        "f = open(\"WordDictionary.pkl\",\"wb\")\n",
        "pickle.dump(word_index, f)\n",
        "f.close()"
      ],
      "execution_count": 0,
      "outputs": []
    },
    {
      "cell_type": "code",
      "metadata": {
        "id": "HrUVdxmlCa_T",
        "colab_type": "code",
        "colab": {}
      },
      "source": [
        "!mkdir a3_fasttext_Preprocessed\n",
        "# Save outputs\n",
        "np.savetxt(\"a3_fasttext_Preprocessed/Comment_Padded.txt\", data)\n",
        "np.savetxt(\"a3_fasttext_Preprocessed/Comment_Labels.txt\", labels)"
      ],
      "execution_count": 0,
      "outputs": []
    },
    {
      "cell_type": "code",
      "metadata": {
        "id": "Gel9_DGRDNKS",
        "colab_type": "code",
        "colab": {}
      },
      "source": [
        "!mv a3_fasttext_EmbeddingMatrix.txt a3_fasttext_Preprocessed"
      ],
      "execution_count": 0,
      "outputs": []
    },
    {
      "cell_type": "code",
      "metadata": {
        "id": "pK_lfJViDk5Q",
        "colab_type": "code",
        "colab": {}
      },
      "source": [
        "!mv WordDictionary.pkl a3_fasttext_Preprocessed"
      ],
      "execution_count": 0,
      "outputs": []
    },
    {
      "cell_type": "code",
      "metadata": {
        "id": "KT7TfIFkRHHE",
        "colab_type": "code",
        "outputId": "0d921857-4640-4103-db2e-4a5a50d4d0b9",
        "colab": {
          "base_uri": "https://localhost:8080/",
          "height": 87
        }
      },
      "source": [
        "# Zip all files for download.\n",
        "!zip -r a3_fasttext_Preprocessed.zip a3_fasttext_Preprocessed\n",
        "from google.colab import files"
      ],
      "execution_count": 0,
      "outputs": [
        {
          "output_type": "stream",
          "text": [
            "  adding: a3_fasttext_Preprocessed/ (stored 0%)\n",
            "  adding: a3_fasttext_Preprocessed/Comment_Labels.txt (deflated 99%)\n",
            "  adding: a3_fasttext_Preprocessed/a3_fasttext_EmbeddingMatrix.txt (deflated 75%)\n",
            "  adding: a3_fasttext_Preprocessed/Comment_Padded.txt (deflated 98%)\n"
          ],
          "name": "stdout"
        }
      ]
    },
    {
      "cell_type": "code",
      "metadata": {
        "id": "AP4sJbGTAMN8",
        "colab_type": "code",
        "outputId": "43421fa1-3e66-40f4-af9d-365c3ae30ea8",
        "colab": {
          "base_uri": "https://localhost:8080/",
          "height": 312
        }
      },
      "source": [
        "files.download(\"a3_fasttext_Preprocessed.zip\")"
      ],
      "execution_count": 0,
      "outputs": [
        {
          "output_type": "error",
          "ename": "KeyboardInterrupt",
          "evalue": "ignored",
          "traceback": [
            "\u001b[0;31m---------------------------------------------------------------------------\u001b[0m",
            "\u001b[0;31mKeyboardInterrupt\u001b[0m                         Traceback (most recent call last)",
            "\u001b[0;32m<ipython-input-48-1fecfd727791>\u001b[0m in \u001b[0;36m<module>\u001b[0;34m()\u001b[0m\n\u001b[0;32m----> 1\u001b[0;31m \u001b[0mfiles\u001b[0m\u001b[0;34m.\u001b[0m\u001b[0mdownload\u001b[0m\u001b[0;34m(\u001b[0m\u001b[0;34m\"a3_fasttext_Preprocessed.zip\"\u001b[0m\u001b[0;34m)\u001b[0m\u001b[0;34m\u001b[0m\u001b[0;34m\u001b[0m\u001b[0m\n\u001b[0m",
            "\u001b[0;32m/usr/local/lib/python3.6/dist-packages/google/colab/files.py\u001b[0m in \u001b[0;36mdownload\u001b[0;34m(filename)\u001b[0m\n\u001b[1;32m    176\u001b[0m       \u001b[0;34m'port'\u001b[0m\u001b[0;34m:\u001b[0m \u001b[0mport\u001b[0m\u001b[0;34m,\u001b[0m\u001b[0;34m\u001b[0m\u001b[0;34m\u001b[0m\u001b[0m\n\u001b[1;32m    177\u001b[0m       \u001b[0;34m'path'\u001b[0m\u001b[0;34m:\u001b[0m \u001b[0m_os\u001b[0m\u001b[0;34m.\u001b[0m\u001b[0mpath\u001b[0m\u001b[0;34m.\u001b[0m\u001b[0mabspath\u001b[0m\u001b[0;34m(\u001b[0m\u001b[0mfilename\u001b[0m\u001b[0;34m)\u001b[0m\u001b[0;34m,\u001b[0m\u001b[0;34m\u001b[0m\u001b[0;34m\u001b[0m\u001b[0m\n\u001b[0;32m--> 178\u001b[0;31m       \u001b[0;34m'name'\u001b[0m\u001b[0;34m:\u001b[0m \u001b[0m_os\u001b[0m\u001b[0;34m.\u001b[0m\u001b[0mpath\u001b[0m\u001b[0;34m.\u001b[0m\u001b[0mbasename\u001b[0m\u001b[0;34m(\u001b[0m\u001b[0mfilename\u001b[0m\u001b[0;34m)\u001b[0m\u001b[0;34m,\u001b[0m\u001b[0;34m\u001b[0m\u001b[0;34m\u001b[0m\u001b[0m\n\u001b[0m\u001b[1;32m    179\u001b[0m   })\n",
            "\u001b[0;32m/usr/local/lib/python3.6/dist-packages/google/colab/output/_js.py\u001b[0m in \u001b[0;36meval_js\u001b[0;34m(script, ignore_result)\u001b[0m\n\u001b[1;32m     37\u001b[0m   \u001b[0;32mif\u001b[0m \u001b[0mignore_result\u001b[0m\u001b[0;34m:\u001b[0m\u001b[0;34m\u001b[0m\u001b[0;34m\u001b[0m\u001b[0m\n\u001b[1;32m     38\u001b[0m     \u001b[0;32mreturn\u001b[0m\u001b[0;34m\u001b[0m\u001b[0;34m\u001b[0m\u001b[0m\n\u001b[0;32m---> 39\u001b[0;31m   \u001b[0;32mreturn\u001b[0m \u001b[0m_message\u001b[0m\u001b[0;34m.\u001b[0m\u001b[0mread_reply_from_input\u001b[0m\u001b[0;34m(\u001b[0m\u001b[0mrequest_id\u001b[0m\u001b[0;34m)\u001b[0m\u001b[0;34m\u001b[0m\u001b[0;34m\u001b[0m\u001b[0m\n\u001b[0m\u001b[1;32m     40\u001b[0m \u001b[0;34m\u001b[0m\u001b[0m\n\u001b[1;32m     41\u001b[0m \u001b[0;34m\u001b[0m\u001b[0m\n",
            "\u001b[0;32m/usr/local/lib/python3.6/dist-packages/google/colab/_message.py\u001b[0m in \u001b[0;36mread_reply_from_input\u001b[0;34m(message_id, timeout_sec)\u001b[0m\n\u001b[1;32m     99\u001b[0m     \u001b[0mreply\u001b[0m \u001b[0;34m=\u001b[0m \u001b[0m_read_next_input_message\u001b[0m\u001b[0;34m(\u001b[0m\u001b[0;34m)\u001b[0m\u001b[0;34m\u001b[0m\u001b[0;34m\u001b[0m\u001b[0m\n\u001b[1;32m    100\u001b[0m     \u001b[0;32mif\u001b[0m \u001b[0mreply\u001b[0m \u001b[0;34m==\u001b[0m \u001b[0m_NOT_READY\u001b[0m \u001b[0;32mor\u001b[0m \u001b[0;32mnot\u001b[0m \u001b[0misinstance\u001b[0m\u001b[0;34m(\u001b[0m\u001b[0mreply\u001b[0m\u001b[0;34m,\u001b[0m \u001b[0mdict\u001b[0m\u001b[0;34m)\u001b[0m\u001b[0;34m:\u001b[0m\u001b[0;34m\u001b[0m\u001b[0;34m\u001b[0m\u001b[0m\n\u001b[0;32m--> 101\u001b[0;31m       \u001b[0mtime\u001b[0m\u001b[0;34m.\u001b[0m\u001b[0msleep\u001b[0m\u001b[0;34m(\u001b[0m\u001b[0;36m0.025\u001b[0m\u001b[0;34m)\u001b[0m\u001b[0;34m\u001b[0m\u001b[0;34m\u001b[0m\u001b[0m\n\u001b[0m\u001b[1;32m    102\u001b[0m       \u001b[0;32mcontinue\u001b[0m\u001b[0;34m\u001b[0m\u001b[0;34m\u001b[0m\u001b[0m\n\u001b[1;32m    103\u001b[0m     if (reply.get('type') == 'colab_reply' and\n",
            "\u001b[0;31mKeyboardInterrupt\u001b[0m: "
          ]
        }
      ]
    },
    {
      "cell_type": "markdown",
      "metadata": {
        "id": "mugonSfq48X2",
        "colab_type": "text"
      },
      "source": [
        "## restore the embedding matrix, data and label"
      ]
    },
    {
      "cell_type": "code",
      "metadata": {
        "id": "nrZrfSIt8vFQ",
        "colab_type": "code",
        "outputId": "9d6ac232-d8ed-4838-c970-b4cd5350444c",
        "colab": {
          "base_uri": "https://localhost:8080/",
          "height": 35
        }
      },
      "source": [
        "labels.shape"
      ],
      "execution_count": 0,
      "outputs": [
        {
          "output_type": "execute_result",
          "data": {
            "text/plain": [
              "(204058,)"
            ]
          },
          "metadata": {
            "tags": []
          },
          "execution_count": 33
        }
      ]
    },
    {
      "cell_type": "code",
      "metadata": {
        "id": "tOii3h525mJP",
        "colab_type": "code",
        "outputId": "e4721bb6-3913-4ca5-9e11-fd98e3998069",
        "colab": {
          "base_uri": "https://localhost:8080/",
          "height": 280
        }
      },
      "source": [
        "###  NEED TO DOWNLOAD AND UPLOAD DATA AGAIN \n",
        "# embedding\n",
        "!gdown \"https://drive.google.com/uc?id=1dkKJbreCMckEBOJz4swQtOKJsBIyZJ9W\"\n",
        "# labels\n",
        "!gdown \"https://drive.google.com/uc?id=1_NEpj1PPr8pfVOAjBdWiUcvWeQ5oXk_C\"\n",
        "# data\n",
        "!gdown \"https://drive.google.com/open?id=1S0o81ReH644OdRTJ8c2SzA4-X7sY7S2x\"\n"
      ],
      "execution_count": 0,
      "outputs": [
        {
          "output_type": "stream",
          "text": [
            "Downloading...\n",
            "From: https://drive.google.com/uc?id=1dkKJbreCMckEBOJz4swQtOKJsBIyZJ9W\n",
            "To: /content/a3_fasttext_EmbeddingMatrix.txt\n",
            "425MB [00:03, 128MB/s] \n",
            "Downloading...\n",
            "From: https://drive.google.com/uc?id=1_NEpj1PPr8pfVOAjBdWiUcvWeQ5oXk_C\n",
            "To: /content/Comment_Labels.txt\n",
            "3.27MB [00:00, 104MB/s]\n",
            "/usr/local/lib/python2.7/dist-packages/gdown/parse_url.py:31: UserWarning: You specified Google Drive Link but it is not the correct link to download the file. Maybe you should try: https://drive.google.com/uc?id=1S0o81ReH644OdRTJ8c2SzA4-X7sY7S2x\n",
            "  .format(url='https://drive.google.com/uc?id={}'.format(file_id))\n",
            "Downloading...\n",
            "From: https://drive.google.com/open?id=1S0o81ReH644OdRTJ8c2SzA4-X7sY7S2x\n",
            "To: /content/open?id=1S0o81ReH644OdRTJ8c2SzA4-X7sY7S2x\n",
            "69.3kB [00:00, 4.44MB/s]\n"
          ],
          "name": "stdout"
        }
      ]
    },
    {
      "cell_type": "code",
      "metadata": {
        "id": "rtz_87pw6Pq9",
        "colab_type": "code",
        "colab": {}
      },
      "source": [
        "embedding_matrix=np.genfromtxt(\"a3_fasttext_EmbeddingMatrix.txt\")\n",
        "#data=np.genfromtxt(\"Comment_Padded.txt\")\n",
        "labels=np.genfromtxt(\"Comment_Labels.txt\")"
      ],
      "execution_count": 0,
      "outputs": []
    },
    {
      "cell_type": "code",
      "metadata": {
        "id": "b4cUSYKp9rR2",
        "colab_type": "code",
        "outputId": "d90c486c-1bc1-4ce2-fea8-97c523461c1d",
        "colab": {
          "base_uri": "https://localhost:8080/",
          "height": 35
        }
      },
      "source": [
        "embedding_matrix.shape"
      ],
      "execution_count": 0,
      "outputs": [
        {
          "output_type": "execute_result",
          "data": {
            "text/plain": [
              "(55526, 300)"
            ]
          },
          "metadata": {
            "tags": []
          },
          "execution_count": 5
        }
      ]
    },
    {
      "cell_type": "code",
      "metadata": {
        "id": "6yBQ_4hS7D8Q",
        "colab_type": "code",
        "outputId": "91830560-2678-4c65-fc8c-2409c86d06de",
        "colab": {
          "base_uri": "https://localhost:8080/",
          "height": 35
        }
      },
      "source": [
        "#print(embedding_matrix.shape)\n",
        "print(data.shape)\n",
        "#print(labels.shape)"
      ],
      "execution_count": 0,
      "outputs": [
        {
          "output_type": "stream",
          "text": [
            "(204058, 150)\n"
          ],
          "name": "stdout"
        }
      ]
    },
    {
      "cell_type": "code",
      "metadata": {
        "id": "MPwpAnhXl_Ua",
        "colab_type": "code",
        "outputId": "ae23a8b6-fcfd-48ed-a872-84d67060495b",
        "colab": {
          "base_uri": "https://localhost:8080/",
          "height": 312
        }
      },
      "source": [
        "data[1]"
      ],
      "execution_count": 0,
      "outputs": [
        {
          "output_type": "execute_result",
          "data": {
            "text/plain": [
              "array([   84,   802, 46758,   148,     3,   784,    11,    68,     9,\n",
              "           1,   261,   557,     6,    36,    18,  1374,   262,   371,\n",
              "          11,   571,    57,   571,   653,    62,    10,    49,    34,\n",
              "          44,    15,    46,    17,    26,   296,   356,     0,     0,\n",
              "           0,     0,     0,     0,     0,     0,     0,     0,     0,\n",
              "           0,     0,     0,     0,     0,     0,     0,     0,     0,\n",
              "           0,     0,     0,     0,     0,     0,     0,     0,     0,\n",
              "           0,     0,     0,     0,     0,     0,     0,     0,     0,\n",
              "           0,     0,     0,     0,     0,     0,     0,     0,     0,\n",
              "           0,     0,     0,     0,     0,     0,     0,     0,     0,\n",
              "           0,     0,     0,     0,     0,     0,     0,     0,     0,\n",
              "           0,     0,     0,     0,     0,     0,     0,     0,     0,\n",
              "           0,     0,     0,     0,     0,     0,     0,     0,     0,\n",
              "           0,     0,     0,     0,     0,     0,     0,     0,     0,\n",
              "           0,     0,     0,     0,     0,     0,     0,     0,     0,\n",
              "           0,     0,     0,     0,     0,     0,     0,     0,     0,\n",
              "           0,     0,     0,     0,     0,     0], dtype=int32)"
            ]
          },
          "metadata": {
            "tags": []
          },
          "execution_count": 35
        }
      ]
    },
    {
      "cell_type": "code",
      "metadata": {
        "id": "voZBSwxy0YYY",
        "colab_type": "code",
        "colab": {}
      },
      "source": [
        "confidence = df['confidence']\n",
        "X_train, X_test, y_train, y_test,X_confidence,y_confidence=train_test_split(data, labels, confidence,test_size=0.33,random_state=1,stratify = labels)"
      ],
      "execution_count": 0,
      "outputs": []
    },
    {
      "cell_type": "markdown",
      "metadata": {
        "id": "A8RvdYeC0sJl",
        "colab_type": "text"
      },
      "source": [
        "### build model:sequential convnet\n",
        "* A embedding layer\n",
        "* A 1D convolution of size 3 (so three word sequences)\n",
        "* A second 1D convolution of size 3 (so more complex word sequences)\n",
        "* Dropout to avoid overfitting\n",
        "* Max pooling to get the most important sequences.\n",
        "\n",
        "* A flattening layer.\n",
        "* A dense layer of 128 neurons.\n",
        "* Dropout with p = 0.5\n",
        "* A softmax output"
      ]
    },
    {
      "cell_type": "code",
      "metadata": {
        "id": "un0UjIekTyr1",
        "colab_type": "code",
        "outputId": "0b3578dc-ca5e-4e1b-e852-6aaa608ba33f",
        "colab": {
          "base_uri": "https://localhost:8080/",
          "height": 433
        }
      },
      "source": [
        "seq_model = Sequential()\n",
        "embedding_layer = Embedding(embedding_matrix.shape[0], 300,weights=[embedding_matrix],input_length=150,trainable=False)            \n",
        "\n",
        "seq_model.add(embedding_layer)\n",
        "seq_model.add(Conv1D(filters=128,kernel_size=3,padding='valid',activation='relu',strides=1))\n",
        "#seq_model.add(Conv1D(filters=128,kernel_size=3,padding='valid',activation='relu',strides=1))\n",
        "seq_model.add(Dropout(0.5))\n",
        "seq_model.add(MaxPooling1D(pool_size = 3))\n",
        "#seq_model.add(Conv1D(filters=128,kernel_size=3,padding='valid',activation='relu',strides=1))\n",
        "#seq_model.add(Conv1D(filters=128,kernel_size=3,padding='valid',activation='relu',strides=1))\n",
        "#seq_model.add(Dropout(0.5))\n",
        "#seq_model.add(MaxPooling1D(pool_size = 3))\n",
        "# Turn output matrices into 1D tensor for shallow network.\n",
        "seq_model.add(Flatten())\n",
        "seq_model.add(Dense(128, activation = 'relu'))\n",
        "seq_model.add(Dropout(0.5))\n",
        "seq_model.add(Dense(1, activation = 'sigmoid'))\n",
        "seq_model.summary()\n"
      ],
      "execution_count": 0,
      "outputs": [
        {
          "output_type": "stream",
          "text": [
            "Model: \"sequential_2\"\n",
            "_________________________________________________________________\n",
            "Layer (type)                 Output Shape              Param #   \n",
            "=================================================================\n",
            "embedding_2 (Embedding)      (None, 150, 300)          33966000  \n",
            "_________________________________________________________________\n",
            "conv1d_4 (Conv1D)            (None, 148, 128)          115328    \n",
            "_________________________________________________________________\n",
            "dropout_4 (Dropout)          (None, 148, 128)          0         \n",
            "_________________________________________________________________\n",
            "max_pooling1d_2 (MaxPooling1 (None, 49, 128)           0         \n",
            "_________________________________________________________________\n",
            "flatten_2 (Flatten)          (None, 6272)              0         \n",
            "_________________________________________________________________\n",
            "dense_4 (Dense)              (None, 128)               802944    \n",
            "_________________________________________________________________\n",
            "dropout_5 (Dropout)          (None, 128)               0         \n",
            "_________________________________________________________________\n",
            "dense_5 (Dense)              (None, 1)                 129       \n",
            "=================================================================\n",
            "Total params: 34,884,401\n",
            "Trainable params: 918,401\n",
            "Non-trainable params: 33,966,000\n",
            "_________________________________________________________________\n"
          ],
          "name": "stdout"
        }
      ]
    },
    {
      "cell_type": "code",
      "metadata": {
        "id": "BpiJVN2Uxh9l",
        "colab_type": "code",
        "colab": {}
      },
      "source": [
        "from keras.utils import plot_model\n",
        "plot_model(seq_model, show_shapes=True, show_layer_names=True, to_file='seq_model.png')\n",
        "Image(retina=True, filename='seq_model.png')"
      ],
      "execution_count": 0,
      "outputs": []
    },
    {
      "cell_type": "code",
      "metadata": {
        "id": "J34xcyzd2mFb",
        "colab_type": "code",
        "outputId": "f682404b-540a-4075-af1b-66932c974eb7",
        "colab": {
          "base_uri": "https://localhost:8080/",
          "height": 659
        }
      },
      "source": [
        "# Use Adam as optimizer, with a binary_crossentropy error.\n",
        "seq_model.compile(loss='binary_crossentropy',optimizer='adam',metrics=['acc'])\n",
        "callbacks_list=[keras.callbacks.EarlyStopping(monitor='val_loss',patience=3),keras.callbacks.ModelCheckpoint(filepath='seq_model.h5',monitor='val_loss',save_best_only=True)]\n",
        "history = seq_model.fit(X_train, y_train, validation_split=0.33, epochs=20, batch_size=20,callbacks=callbacks_list)\n",
        "loss = history.history['loss']\n",
        "val_loss = history.history['val_loss']\n",
        "epochs = range(1, len(loss) + 1)\n",
        "plt.plot(epochs, loss, 'bo', label='Training loss')\n",
        "plt.plot(epochs, val_loss, 'b', label='Validation loss')\n",
        "plt.title('Training and validation loss')\n",
        "plt.xlabel('Epochs')\n",
        "plt.ylabel('Loss')\n",
        "plt.legend()\n",
        "plt.show()"
      ],
      "execution_count": 0,
      "outputs": [
        {
          "output_type": "stream",
          "text": [
            "Train on 91601 samples, validate on 45117 samples\n",
            "Epoch 1/20\n",
            "91601/91601 [==============================] - 22s 240us/sample - loss: 0.3737 - acc: 0.8310 - val_loss: 0.3393 - val_acc: 0.8490\n",
            "Epoch 2/20\n",
            "91601/91601 [==============================] - 22s 239us/sample - loss: 0.3330 - acc: 0.8520 - val_loss: 0.3161 - val_acc: 0.8590\n",
            "Epoch 3/20\n",
            "91601/91601 [==============================] - 22s 236us/sample - loss: 0.3186 - acc: 0.8587 - val_loss: 0.3135 - val_acc: 0.8620\n",
            "Epoch 4/20\n",
            "91601/91601 [==============================] - 21s 233us/sample - loss: 0.3086 - acc: 0.8627 - val_loss: 0.3295 - val_acc: 0.8523\n",
            "Epoch 5/20\n",
            "91601/91601 [==============================] - 21s 234us/sample - loss: 0.2989 - acc: 0.8686 - val_loss: 0.3108 - val_acc: 0.8633\n",
            "Epoch 6/20\n",
            "91601/91601 [==============================] - 21s 233us/sample - loss: 0.2900 - acc: 0.8729 - val_loss: 0.3242 - val_acc: 0.8568\n",
            "Epoch 7/20\n",
            "91601/91601 [==============================] - 22s 240us/sample - loss: 0.2807 - acc: 0.8766 - val_loss: 0.3089 - val_acc: 0.8645\n",
            "Epoch 8/20\n",
            "91601/91601 [==============================] - 21s 233us/sample - loss: 0.2747 - acc: 0.8792 - val_loss: 0.3127 - val_acc: 0.8637\n",
            "Epoch 9/20\n",
            "91601/91601 [==============================] - 21s 232us/sample - loss: 0.2675 - acc: 0.8827 - val_loss: 0.3147 - val_acc: 0.8652\n",
            "Epoch 10/20\n",
            "91601/91601 [==============================] - 21s 233us/sample - loss: 0.2605 - acc: 0.8850 - val_loss: 0.3162 - val_acc: 0.8637\n"
          ],
          "name": "stdout"
        },
        {
          "output_type": "display_data",
          "data": {
            "image/png": "[encoded data removed]",
            "text/plain": [
              "<Figure size 432x288 with 1 Axes>"
            ]
          },
          "metadata": {
            "tags": []
          }
        }
      ]
    },
    {
      "cell_type": "code",
      "metadata": {
        "id": "ePHkLZhvyfEX",
        "colab_type": "code",
        "outputId": "4c1070e9-e141-4dea-fc3a-bf0e2cac15fd",
        "colab": {
          "base_uri": "https://localhost:8080/",
          "height": 545
        }
      },
      "source": [
        "sns.set_style(\"darkgrid\")\n",
        "plt.plot(seq_model.history.history['loss'])\n",
        "plt.title('Training Loss')\n",
        "\n",
        "plt.show()\n",
        "\n",
        "sns.set_style(\"darkgrid\")\n",
        "plt.plot(seq_model.history.history['val_loss'])\n",
        "plt.title('Validation Loss')\n",
        "\n",
        "plt.show()"
      ],
      "execution_count": 0,
      "outputs": [
        {
          "output_type": "display_data",
          "data": {
            "image/png": "[encoded data removed]",
            "text/plain": [
              "<Figure size 432x288 with 1 Axes>"
            ]
          },
          "metadata": {
            "tags": []
          }
        },
        {
          "output_type": "display_data",
          "data": {
            "image/png": "[encoded data removed]",
            "text/plain": [
              "<Figure size 432x288 with 1 Axes>"
            ]
          },
          "metadata": {
            "tags": []
          }
        }
      ]
    },
    {
      "cell_type": "code",
      "metadata": {
        "id": "qoucKdGNwWca",
        "colab_type": "code",
        "outputId": "e6ffbf16-0c3b-4d60-8475-83131b0f54ef",
        "colab": {
          "base_uri": "https://localhost:8080/",
          "height": 52
        }
      },
      "source": [
        "## draw roc auc here\n",
        "# Calculate outputs in test set\n",
        "seq_model.load_weights(\"seq_model.h5\")\n",
        "seq_prob_test = seq_model.predict(X_test, verbose = 1)\n",
        "seq_prob_train = seq_model.predict(X_train, verbose = 1)\n"
      ],
      "execution_count": 0,
      "outputs": [
        {
          "output_type": "stream",
          "text": [
            "67340/67340 [==============================] - 3s 47us/sample\n",
            "136718/136718 [==============================] - 6s 46us/sample\n"
          ],
          "name": "stdout"
        }
      ]
    },
    {
      "cell_type": "code",
      "metadata": {
        "id": "JsVZB9Ttq_j9",
        "colab_type": "code",
        "outputId": "c1f967dd-3782-41f5-a786-2db353bcff61",
        "colab": {
          "base_uri": "https://localhost:8080/",
          "height": 69
        }
      },
      "source": [
        "# Compute ROC curve and ROC area\n",
        "fpr, tpr, _ = roc_curve(y_train, seq_prob_train)\n",
        "roc_auc = auc(fpr, tpr)\n",
        "print('\\nAUC train: ', roc_auc)\n",
        "\n",
        "# Compute ROC curve and ROC area\n",
        "fpr, tpr, _ = roc_curve(y_test, seq_prob_test)\n",
        "roc_auc = auc(fpr, tpr)\n",
        "print('AUC test: ', roc_auc)"
      ],
      "execution_count": 0,
      "outputs": [
        {
          "output_type": "stream",
          "text": [
            "\n",
            "AUC train:  0.9504462689574837\n",
            "AUC test:  0.9260517753457541\n"
          ],
          "name": "stdout"
        }
      ]
    },
    {
      "cell_type": "code",
      "metadata": {
        "id": "yFY5SVHxqtPk",
        "colab_type": "code",
        "outputId": "5f18a479-0204-47bb-ce53-5477fa3f4d73",
        "colab": {
          "base_uri": "https://localhost:8080/",
          "height": 295
        }
      },
      "source": [
        "plt.figure()\n",
        "lw = 2\n",
        "plt.plot(fpr, tpr, color='darkorange',\n",
        "         lw=lw, label='ROC curve (area = %0.2f)' % roc_auc)\n",
        "plt.plot([0, 1], [0, 1], color='navy', lw=lw, linestyle='--')\n",
        "plt.xlim([0.0, 1.0])\n",
        "plt.ylim([0.0, 1.05])\n",
        "plt.xlabel('False Positive Rate')\n",
        "plt.ylabel('True Positive Rate')\n",
        "plt.title('Receiver operating characteristic of fasttext embedding with sequential model')\n",
        "plt.legend(loc=\"lower right\")\n",
        "plt.show()"
      ],
      "execution_count": 0,
      "outputs": [
        {
          "output_type": "display_data",
          "data": {
            "image/png": "[encoded data removed]",
            "text/plain": [
              "<Figure size 432x288 with 1 Axes>"
            ]
          },
          "metadata": {
            "tags": []
          }
        }
      ]
    },
    {
      "cell_type": "code",
      "metadata": {
        "id": "u22jaSEtFWH9",
        "colab_type": "code",
        "outputId": "47727c74-367c-4bd0-9756-50ea6ff7371b",
        "colab": {
          "base_uri": "https://localhost:8080/",
          "height": 52
        }
      },
      "source": [
        "from sklearn.metrics import confusion_matrix\n",
        "seq_class_test = seq_model.predict_classes(X_test)\n",
        "conf=confusion_matrix(y_test, seq_class_test)\n",
        "conf"
      ],
      "execution_count": 0,
      "outputs": [
        {
          "output_type": "execute_result",
          "data": {
            "text/plain": [
              "array([[14714,  4884],\n",
              "       [ 4379, 43363]])"
            ]
          },
          "metadata": {
            "tags": []
          },
          "execution_count": 58
        }
      ]
    },
    {
      "cell_type": "code",
      "metadata": {
        "id": "59WtNheryGMc",
        "colab_type": "code",
        "outputId": "ab9ada6a-4163-47dc-f452-1a270399d384",
        "colab": {
          "base_uri": "https://localhost:8080/",
          "height": 35
        }
      },
      "source": [
        "def calc_metrics(conf):\n",
        "  tn=conf[0][0]\n",
        "  tp=conf[1][1]\n",
        "  fn=conf[1][0]\n",
        "  fp=conf[0][1]\n",
        "\n",
        "  acc= (tn+tp)/(tn+tp+fn+fp)\n",
        "  recall = tp/(tp+fn)\n",
        "  sensitivity = tn/(tn+fp)\n",
        "  precision = tp/(tp+fp)\n",
        "  f1 = 2*precision*recall/(precision+recall)\n",
        "\n",
        "  print(\"accuracy:{},recall:{},sensitivity:{},precision:{},f1:{}\".format(acc,recall,sensitivity,precision,f1))\n",
        "calc_metrics(conf)"
      ],
      "execution_count": 0,
      "outputs": [
        {
          "output_type": "stream",
          "text": [
            "accuracy:0.8624443124443124,recall:0.9082778266515856,sensitivity:0.7507908970303092,precision:0.8987709080357328,f1:0.9034993593015865\n"
          ],
          "name": "stdout"
        }
      ]
    },
    {
      "cell_type": "code",
      "metadata": {
        "id": "W0ECtpItF2e3",
        "colab_type": "code",
        "outputId": "1593dfb5-66e5-4682-aba7-74110048050c",
        "colab": {
          "base_uri": "https://localhost:8080/",
          "height": 283
        }
      },
      "source": [
        "conf_mat = pd.DataFrame(confusion_matrix(y_test, seq_class_test))\n",
        "sns.heatmap(conf_mat,annot=True,fmt='d')"
      ],
      "execution_count": 0,
      "outputs": [
        {
          "output_type": "execute_result",
          "data": {
            "text/plain": [
              "<matplotlib.axes._subplots.AxesSubplot at 0x7feab225e4a8>"
            ]
          },
          "metadata": {
            "tags": []
          },
          "execution_count": 56
        },
        {
          "output_type": "display_data",
          "data": {
            "image/png": "[encoded data removed]",
            "text/plain": [
              "<Figure size 432x288 with 2 Axes>"
            ]
          },
          "metadata": {
            "tags": []
          }
        }
      ]
    },
    {
      "cell_type": "markdown",
      "metadata": {
        "id": "XUtw5nHM5aD0",
        "colab_type": "text"
      },
      "source": [
        "## parallel model\n",
        "* An embedding layer, just like before.\n",
        "* A parallel model of 5 layers, each consisting of:\n",
        "* * A Conv1D layer with kernel sizes [2, 3, 5, 8,10], with 128 filters\n",
        "** A max pooling layer of size Embedding Dimension - Filter Size + 1. \n",
        "** A flattening layer to turn this into a vector.\n",
        "* A dense layer of size 128.\n",
        "* Dropout with probability 0.5.\n",
        "* An output layer of size 1."
      ]
    },
    {
      "cell_type": "code",
      "metadata": {
        "id": "_ip3Ky2l7hEh",
        "colab_type": "code",
        "outputId": "c2f7bd8a-8ddd-4ab2-97b2-88e4be74da60",
        "colab": {
          "base_uri": "https://localhost:8080/",
          "height": 989
        }
      },
      "source": [
        "import matplotlib.pyplot as plt\n",
        "from tensorflow.keras.utils import plot_model\n",
        "from IPython.display import Image\n",
        "%matplotlib inline\n",
        "filter_sizes = (2,3,5)\n",
        "graph_in = Input(shape=(150, 300))\n",
        "convs = []\n",
        "avgs = []\n",
        "# since there are more layers,a drop out is added\n",
        "for fsz in filter_sizes:\n",
        "    conv = Conv1D(filters=128,kernel_size=fsz,padding='valid',activation='relu',strides=1)(graph_in) # Note the (graph_in). This means \"put this layer AFTER the graph_in layer.\n",
        "    drop = Dropout(0.4)(conv)\n",
        "    pool = MaxPooling1D(pool_size=150 - fsz + 1)(drop) # Put this layer AFTER the convolution just created.\n",
        "    flattenMax = Flatten()(pool) # Flatten the pooling layer.\n",
        "    convs.append(flattenMax)\n",
        "# Concatenate layers.\n",
        "if len(filter_sizes)>1:\n",
        "    out = Concatenate()(convs)\n",
        "else:\n",
        "    out = convs[0]\n",
        "paral = Model(inputs=graph_in, outputs=out, name=\"parallelModel\")\n",
        "paral.summary()\n",
        "plot_model(paral, show_shapes=True, show_layer_names=True, to_file='paral.png')\n",
        "Image(retina=True, filename='paral.png')"
      ],
      "execution_count": 0,
      "outputs": [
        {
          "output_type": "stream",
          "text": [
            "Model: \"parallelModel\"\n",
            "__________________________________________________________________________________________________\n",
            "Layer (type)                    Output Shape         Param #     Connected to                     \n",
            "==================================================================================================\n",
            "input_2 (InputLayer)            [(None, 150, 300)]   0                                            \n",
            "__________________________________________________________________________________________________\n",
            "conv1d_18 (Conv1D)              (None, 149, 128)     76928       input_2[0][0]                    \n",
            "__________________________________________________________________________________________________\n",
            "conv1d_19 (Conv1D)              (None, 148, 128)     115328      input_2[0][0]                    \n",
            "__________________________________________________________________________________________________\n",
            "conv1d_20 (Conv1D)              (None, 146, 128)     192128      input_2[0][0]                    \n",
            "__________________________________________________________________________________________________\n",
            "dropout_18 (Dropout)            (None, 149, 128)     0           conv1d_18[0][0]                  \n",
            "__________________________________________________________________________________________________\n",
            "dropout_19 (Dropout)            (None, 148, 128)     0           conv1d_19[0][0]                  \n",
            "__________________________________________________________________________________________________\n",
            "dropout_20 (Dropout)            (None, 146, 128)     0           conv1d_20[0][0]                  \n",
            "__________________________________________________________________________________________________\n",
            "max_pooling1d_12 (MaxPooling1D) (None, 1, 128)       0           dropout_18[0][0]                 \n",
            "__________________________________________________________________________________________________\n",
            "max_pooling1d_13 (MaxPooling1D) (None, 1, 128)       0           dropout_19[0][0]                 \n",
            "__________________________________________________________________________________________________\n",
            "max_pooling1d_14 (MaxPooling1D) (None, 1, 128)       0           dropout_20[0][0]                 \n",
            "__________________________________________________________________________________________________\n",
            "flatten_10 (Flatten)            (None, 128)          0           max_pooling1d_12[0][0]           \n",
            "__________________________________________________________________________________________________\n",
            "flatten_11 (Flatten)            (None, 128)          0           max_pooling1d_13[0][0]           \n",
            "__________________________________________________________________________________________________\n",
            "flatten_12 (Flatten)            (None, 128)          0           max_pooling1d_14[0][0]           \n",
            "__________________________________________________________________________________________________\n",
            "concatenate_1 (Concatenate)     (None, 384)          0           flatten_10[0][0]                 \n",
            "                                                                 flatten_11[0][0]                 \n",
            "                                                                 flatten_12[0][0]                 \n",
            "==================================================================================================\n",
            "Total params: 384,384\n",
            "Trainable params: 384,384\n",
            "Non-trainable params: 0\n",
            "__________________________________________________________________________________________________\n"
          ],
          "name": "stdout"
        },
        {
          "output_type": "execute_result",
          "data": {
            "image/png": "[encoded data removed]",
            "text/plain": [
              "<IPython.core.display.Image object>"
            ]
          },
          "metadata": {
            "tags": [],
            "image/png": {
              "width": 787,
              "height": 313
            }
          },
          "execution_count": 66
        }
      ]
    },
    {
      "cell_type": "code",
      "metadata": {
        "id": "-xbinN6e9mGU",
        "colab_type": "code",
        "outputId": "fea09e43-985b-4586-fa2a-9bd134e7e329",
        "colab": {
          "base_uri": "https://localhost:8080/",
          "height": 329
        }
      },
      "source": [
        "## add the middle layers to a traditional sequential model\n",
        "paral_model = Sequential()\n",
        "embedding_layer = Embedding(len(embedding_matrix),           # Words in the embedding.\n",
        "                            300,                           # Embedding dimension\n",
        "                            weights=[embedding_matrix],    # The weights we just calculated\n",
        "                            input_length=150,              # The maximum number of words.\n",
        "                            trainable=False)               # To NOT recalculate weights!\n",
        "\n",
        "paral_model.add(embedding_layer)\n",
        "\n",
        "# Now we add our graph model\n",
        "paral_model.add(paral)\n",
        "\n",
        "# Add a few layers\n",
        "paral_model.add(Dense(128, activation='relu'))\n",
        "paral_model.add(Dropout(0.5))\n",
        "paral_model.add(Dense(1, activation='sigmoid'))\n",
        "\n",
        "# adam = Adam(clipnorm=.1)\n",
        "paral_model.compile(loss='binary_crossentropy',\n",
        "              optimizer='adam',\n",
        "              metrics=['acc'])\n",
        "paral_model.summary()"
      ],
      "execution_count": 0,
      "outputs": [
        {
          "output_type": "stream",
          "text": [
            "Model: \"sequential_6\"\n",
            "_________________________________________________________________\n",
            "Layer (type)                 Output Shape              Param #   \n",
            "=================================================================\n",
            "embedding_6 (Embedding)      (None, 150, 300)          33966000  \n",
            "_________________________________________________________________\n",
            "parallelModel (Model)        (None, 384)               384384    \n",
            "_________________________________________________________________\n",
            "dense_12 (Dense)             (None, 128)               49280     \n",
            "_________________________________________________________________\n",
            "dropout_21 (Dropout)         (None, 128)               0         \n",
            "_________________________________________________________________\n",
            "dense_13 (Dense)             (None, 1)                 129       \n",
            "=================================================================\n",
            "Total params: 34,399,793\n",
            "Trainable params: 433,793\n",
            "Non-trainable params: 33,966,000\n",
            "_________________________________________________________________\n"
          ],
          "name": "stdout"
        }
      ]
    },
    {
      "cell_type": "code",
      "metadata": {
        "id": "Ma_cwJjK-ipu",
        "colab_type": "code",
        "outputId": "f8f822f2-a208-48a7-a87f-951898b58927",
        "colab": {
          "base_uri": "https://localhost:8080/",
          "height": 330
        }
      },
      "source": [
        "plot_model(paral_model, show_shapes=True, show_layer_names=True, to_file='paral_model.png')\n",
        "Image(retina=True, filename='paral_model.png')"
      ],
      "execution_count": 0,
      "outputs": [
        {
          "output_type": "execute_result",
          "data": {
            "image/png": "[encoded data removed]",
            "text/plain": [
              "<IPython.core.display.Image object>"
            ]
          },
          "metadata": {
            "tags": [],
            "image/png": {
              "width": 228,
              "height": 313
            }
          },
          "execution_count": 65
        }
      ]
    },
    {
      "cell_type": "code",
      "metadata": {
        "id": "kHT6m8FB-p6Z",
        "colab_type": "code",
        "outputId": "8b50d95f-f2d1-4ffc-99df-87d792835dcf",
        "colab": {
          "base_uri": "https://localhost:8080/",
          "height": 555
        }
      },
      "source": [
        "callbacks_list=[keras.callbacks.EarlyStopping(monitor='val_loss',patience=3),keras.callbacks.ModelCheckpoint(filepath='paral_model.h5',monitor='val_loss',save_best_only=True)]\n",
        "# Fit the model\n",
        "history = paral_model.fit(X_train, y_train, validation_split=0.33, epochs=20, batch_size=20,callbacks=callbacks_list)\n",
        "loss = history.history['loss']\n",
        "val_loss = history.history['val_loss']\n",
        "epochs = range(1, len(loss) + 1)\n",
        "plt.plot(epochs, loss, 'bo', label='Training loss')\n",
        "plt.plot(epochs, val_loss, 'b', label='Validation loss')\n",
        "plt.title('Training and validation loss')\n",
        "plt.xlabel('Epochs')\n",
        "plt.ylabel('Loss')\n",
        "plt.legend()\n",
        "plt.show()"
      ],
      "execution_count": 0,
      "outputs": [
        {
          "output_type": "stream",
          "text": [
            "Train on 91601 samples, validate on 45117 samples\n",
            "Epoch 1/20\n",
            "91601/91601 [==============================] - 36s 392us/sample - loss: 0.3535 - acc: 0.8391 - val_loss: 0.3228 - val_acc: 0.8606\n",
            "Epoch 2/20\n",
            "91601/91601 [==============================] - 34s 373us/sample - loss: 0.3118 - acc: 0.8613 - val_loss: 0.3034 - val_acc: 0.8648\n",
            "Epoch 3/20\n",
            "91601/91601 [==============================] - 34s 373us/sample - loss: 0.2924 - acc: 0.8712 - val_loss: 0.3010 - val_acc: 0.8633\n",
            "Epoch 4/20\n",
            "91601/91601 [==============================] - 34s 376us/sample - loss: 0.2741 - acc: 0.8790 - val_loss: 0.2933 - val_acc: 0.8698\n",
            "Epoch 5/20\n",
            "91601/91601 [==============================] - 34s 369us/sample - loss: 0.2581 - acc: 0.8871 - val_loss: 0.2983 - val_acc: 0.8662\n",
            "Epoch 6/20\n",
            "91601/91601 [==============================] - 34s 369us/sample - loss: 0.2411 - acc: 0.8940 - val_loss: 0.3139 - val_acc: 0.8623\n",
            "Epoch 7/20\n",
            "91601/91601 [==============================] - 34s 368us/sample - loss: 0.2277 - acc: 0.9017 - val_loss: 0.3075 - val_acc: 0.8627\n"
          ],
          "name": "stdout"
        },
        {
          "output_type": "display_data",
          "data": {
            "image/png": "[encoded data removed]",
            "text/plain": [
              "<Figure size 432x288 with 1 Axes>"
            ]
          },
          "metadata": {
            "tags": []
          }
        }
      ]
    },
    {
      "cell_type": "code",
      "metadata": {
        "id": "GWt-eUjSPVwQ",
        "colab_type": "code",
        "outputId": "c19af1bf-b0a4-42fb-ce08-c3280155c34e",
        "colab": {
          "base_uri": "https://localhost:8080/",
          "height": 580
        }
      },
      "source": [
        "sns.set_style(\"darkgrid\")\n",
        "plt.plot(paral_model.history.history['loss'])\n",
        "plt.plot(seq_model.history.history['loss'])\n",
        "plt.title('Training Loss')\n",
        "plt.legend()\n",
        "plt.show()\n",
        "\n",
        "sns.set_style(\"darkgrid\")\n",
        "plt.plot(paral_model.history.history['val_loss'])\n",
        "plt.plot(seq_model.history.history['val_loss'])\n",
        "plt.title('Validation Loss')\n",
        "plt.legend()\n",
        "plt.show()"
      ],
      "execution_count": 0,
      "outputs": [
        {
          "output_type": "stream",
          "text": [
            "No handles with labels found to put in legend.\n"
          ],
          "name": "stderr"
        },
        {
          "output_type": "display_data",
          "data": {
            "image/png": "[encoded data removed]",
            "text/plain": [
              "<Figure size 432x288 with 1 Axes>"
            ]
          },
          "metadata": {
            "tags": []
          }
        },
        {
          "output_type": "stream",
          "text": [
            "No handles with labels found to put in legend.\n"
          ],
          "name": "stderr"
        },
        {
          "output_type": "display_data",
          "data": {
            "image/png": "[encoded data removed]",
            "text/plain": [
              "<Figure size 432x288 with 1 Axes>"
            ]
          },
          "metadata": {
            "tags": []
          }
        }
      ]
    },
    {
      "cell_type": "code",
      "metadata": {
        "id": "cC6wsxG2PZgt",
        "colab_type": "code",
        "outputId": "eeb24b61-ea0a-4714-a344-2603fb9bfafb",
        "colab": {
          "base_uri": "https://localhost:8080/",
          "height": 69
        }
      },
      "source": [
        "## draw roc auc here\n",
        "# Calculate outputs in test set\n",
        "paral_model.load_weights('paral_model.h5')\n",
        "paral_prob_test = paral_model.predict(X_test, verbose = 1)\n",
        "paral_prob_train = paral_model.predict(X_train, verbose = 1)\n",
        "paral_class_test = paral_model.predict_classes(X_test,verbose = 1)"
      ],
      "execution_count": 0,
      "outputs": [
        {
          "output_type": "stream",
          "text": [
            "67340/67340 [==============================] - 6s 88us/sample\n",
            "136718/136718 [==============================] - 12s 87us/sample\n",
            "67340/67340 [==============================] - 6s 85us/sample\n"
          ],
          "name": "stdout"
        }
      ]
    },
    {
      "cell_type": "code",
      "metadata": {
        "id": "wI50xX7vrVrj",
        "colab_type": "code",
        "outputId": "b8dd166f-f075-44e3-ba30-386caa97f2ae",
        "colab": {
          "base_uri": "https://localhost:8080/",
          "height": 69
        }
      },
      "source": [
        "# Compute ROC curve and ROC area\n",
        "fpr, tpr, _ = roc_curve(y_train, paral_prob_train)\n",
        "roc_auc = auc(fpr, tpr)\n",
        "print('\\nAUC train: ', roc_auc)\n",
        "\n",
        "# Compute ROC curve and ROC area\n",
        "fpr, tpr, _ = roc_curve(y_test, paral_prob_test)\n",
        "roc_auc = auc(fpr, tpr)\n",
        "print('AUC test: ', roc_auc)"
      ],
      "execution_count": 0,
      "outputs": [
        {
          "output_type": "stream",
          "text": [
            "\n",
            "AUC train:  0.9553627887182262\n",
            "AUC test:  0.9337086459579409\n"
          ],
          "name": "stdout"
        }
      ]
    },
    {
      "cell_type": "code",
      "metadata": {
        "id": "1Tf89EZCrUFy",
        "colab_type": "code",
        "outputId": "f5484116-d1e2-4b1e-b399-e562b4507b5b",
        "colab": {
          "base_uri": "https://localhost:8080/",
          "height": 295
        }
      },
      "source": [
        "plt.figure()\n",
        "lw = 2\n",
        "plt.plot(fpr, tpr, color='darkorange',\n",
        "         lw=lw, label='ROC curve (area = %0.2f)' % roc_auc)\n",
        "plt.plot([0, 1], [0, 1], color='navy', lw=lw, linestyle='--')\n",
        "plt.xlim([0.0, 1.0])\n",
        "plt.ylim([0.0, 1.05])\n",
        "plt.xlabel('False Positive Rate')\n",
        "plt.ylabel('True Positive Rate')\n",
        "plt.title('Receiver operating characteristic of fasttext embedding with parallel model')\n",
        "plt.legend(loc=\"lower right\")\n",
        "plt.show()"
      ],
      "execution_count": 0,
      "outputs": [
        {
          "output_type": "display_data",
          "data": {
            "image/png": "[encoded data removed]",
            "text/plain": [
              "<Figure size 432x288 with 1 Axes>"
            ]
          },
          "metadata": {
            "tags": []
          }
        }
      ]
    },
    {
      "cell_type": "code",
      "metadata": {
        "id": "pCtZWFz0vjbI",
        "colab_type": "code",
        "outputId": "48ef2b49-b3cf-4cd2-f879-7fffb3382c98",
        "colab": {
          "base_uri": "https://localhost:8080/",
          "height": 35
        }
      },
      "source": [
        "paral_class_test.shape"
      ],
      "execution_count": 0,
      "outputs": [
        {
          "output_type": "execute_result",
          "data": {
            "text/plain": [
              "(43230, 1)"
            ]
          },
          "metadata": {
            "tags": []
          },
          "execution_count": 42
        }
      ]
    },
    {
      "cell_type": "code",
      "metadata": {
        "id": "2FOIBfk1JfHH",
        "colab_type": "code",
        "outputId": "e4310b2c-9eb1-4670-a4e5-e3465022e5dc",
        "colab": {
          "base_uri": "https://localhost:8080/",
          "height": 300
        }
      },
      "source": [
        "from sklearn.metrics import confusion_matrix\n",
        "calc_metrics(confusion_matrix(y_test,paral_class_test))\n",
        "conf_mat = pd.DataFrame(confusion_matrix(y_test,paral_class_test))\n",
        "sns.heatmap(conf_mat,annot=True,fmt='d')"
      ],
      "execution_count": 0,
      "outputs": [
        {
          "output_type": "stream",
          "text": [
            "accuracy:0.8688892188892189,recall:0.9147082233672658,sensitivity:0.7572711501173589,precision:0.9017696739422223,f1:0.9081928688038766\n"
          ],
          "name": "stdout"
        },
        {
          "output_type": "execute_result",
          "data": {
            "text/plain": [
              "<matplotlib.axes._subplots.AxesSubplot at 0x7fea0b1e5240>"
            ]
          },
          "metadata": {
            "tags": []
          },
          "execution_count": 75
        },
        {
          "output_type": "display_data",
          "data": {
            "image/png": "[encoded data removed]",
            "text/plain": [
              "<Figure size 432x288 with 2 Axes>"
            ]
          },
          "metadata": {
            "tags": []
          }
        }
      ]
    },
    {
      "cell_type": "code",
      "metadata": {
        "id": "78kZMJJqyEjq",
        "colab_type": "code",
        "colab": {}
      },
      "source": [
        "## see how words are different in top 20 from positive and negative sentiments. \n",
        "# perhaps remove most frequent words appear in both of them. \n",
        "tokenizer = Tokenizer()\n",
        "tokenizer.fit_on_texts(df[df.sentiment == 0]['clean'])# get tokens from negative comments\n",
        "neg_dict = pd.DataFrame(tokenizer.word_counts,columns=tokenizer.word_counts.keys(),index=[0])\n",
        "neg_dict = neg_dict.T.reset_index()\n",
        "neg_dict.columns=['word','count']"
      ],
      "execution_count": 0,
      "outputs": []
    },
    {
      "cell_type": "code",
      "metadata": {
        "id": "yDs-HczNVbSK",
        "colab_type": "code",
        "outputId": "9db3ece7-402b-413a-8309-d9f8ed4c9254",
        "colab": {
          "base_uri": "https://localhost:8080/",
          "height": 1000
        }
      },
      "source": [
        "neg_dict.sort_index(by='count',ascending=False)[:50].reset_index()"
      ],
      "execution_count": 0,
      "outputs": [
        {
          "output_type": "stream",
          "text": [
            "/usr/local/lib/python3.6/dist-packages/ipykernel_launcher.py:1: FutureWarning: by argument to sort_index is deprecated, please use .sort_values(by=...)\n",
            "  \"\"\"Entry point for launching an IPython kernel.\n"
          ],
          "name": "stderr"
        },
        {
          "output_type": "execute_result",
          "data": {
            "text/html": [
              "<div>\n",
              "<style scoped>\n",
              "    .dataframe tbody tr th:only-of-type {\n",
              "        vertical-align: middle;\n",
              "    }\n",
              "\n",
              "    .dataframe tbody tr th {\n",
              "        vertical-align: top;\n",
              "    }\n",
              "\n",
              "    .dataframe thead th {\n",
              "        text-align: right;\n",
              "    }\n",
              "</style>\n",
              "<table border=\"1\" class=\"dataframe\">\n",
              "  <thead>\n",
              "    <tr style=\"text-align: right;\">\n",
              "      <th></th>\n",
              "      <th>index</th>\n",
              "      <th>word</th>\n",
              "      <th>count</th>\n",
              "    </tr>\n",
              "  </thead>\n",
              "  <tbody>\n",
              "    <tr>\n",
              "      <th>0</th>\n",
              "      <td>19</td>\n",
              "      <td>received</td>\n",
              "      <td>9996</td>\n",
              "    </tr>\n",
              "    <tr>\n",
              "      <th>1</th>\n",
              "      <td>74</td>\n",
              "      <td>get</td>\n",
              "      <td>8544</td>\n",
              "    </tr>\n",
              "    <tr>\n",
              "      <th>2</th>\n",
              "      <td>50</td>\n",
              "      <td>still</td>\n",
              "      <td>8279</td>\n",
              "    </tr>\n",
              "    <tr>\n",
              "      <th>3</th>\n",
              "      <td>23</td>\n",
              "      <td>please</td>\n",
              "      <td>7644</td>\n",
              "    </tr>\n",
              "    <tr>\n",
              "      <th>4</th>\n",
              "      <td>46</td>\n",
              "      <td>one</td>\n",
              "      <td>6040</td>\n",
              "    </tr>\n",
              "    <tr>\n",
              "      <th>5</th>\n",
              "      <td>0</td>\n",
              "      <td>update</td>\n",
              "      <td>5971</td>\n",
              "    </tr>\n",
              "    <tr>\n",
              "      <th>6</th>\n",
              "      <td>223</td>\n",
              "      <td>refund</td>\n",
              "      <td>5958</td>\n",
              "    </tr>\n",
              "    <tr>\n",
              "      <th>7</th>\n",
              "      <td>162</td>\n",
              "      <td>would</td>\n",
              "      <td>5833</td>\n",
              "    </tr>\n",
              "    <tr>\n",
              "      <th>8</th>\n",
              "      <td>121</td>\n",
              "      <td>im</td>\n",
              "      <td>5492</td>\n",
              "    </tr>\n",
              "    <tr>\n",
              "      <th>9</th>\n",
              "      <td>163</td>\n",
              "      <td>like</td>\n",
              "      <td>5365</td>\n",
              "    </tr>\n",
              "    <tr>\n",
              "      <th>10</th>\n",
              "      <td>624</td>\n",
              "      <td>email</td>\n",
              "      <td>5184</td>\n",
              "    </tr>\n",
              "    <tr>\n",
              "      <th>11</th>\n",
              "      <td>69</td>\n",
              "      <td>dont</td>\n",
              "      <td>5089</td>\n",
              "    </tr>\n",
              "    <tr>\n",
              "      <th>12</th>\n",
              "      <td>137</td>\n",
              "      <td>product</td>\n",
              "      <td>4919</td>\n",
              "    </tr>\n",
              "    <tr>\n",
              "      <th>13</th>\n",
              "      <td>37</td>\n",
              "      <td>us</td>\n",
              "      <td>4649</td>\n",
              "    </tr>\n",
              "    <tr>\n",
              "      <th>14</th>\n",
              "      <td>86</td>\n",
              "      <td>back</td>\n",
              "      <td>4531</td>\n",
              "    </tr>\n",
              "    <tr>\n",
              "      <th>15</th>\n",
              "      <td>941</td>\n",
              "      <td>order</td>\n",
              "      <td>4323</td>\n",
              "    </tr>\n",
              "    <tr>\n",
              "      <th>16</th>\n",
              "      <td>72</td>\n",
              "      <td>money</td>\n",
              "      <td>4122</td>\n",
              "    </tr>\n",
              "    <tr>\n",
              "      <th>17</th>\n",
              "      <td>11</td>\n",
              "      <td>sent</td>\n",
              "      <td>4064</td>\n",
              "    </tr>\n",
              "    <tr>\n",
              "      <th>18</th>\n",
              "      <td>24</td>\n",
              "      <td>got</td>\n",
              "      <td>4023</td>\n",
              "    </tr>\n",
              "    <tr>\n",
              "      <th>19</th>\n",
              "      <td>49</td>\n",
              "      <td>time</td>\n",
              "      <td>3923</td>\n",
              "    </tr>\n",
              "    <tr>\n",
              "      <th>20</th>\n",
              "      <td>18</td>\n",
              "      <td>havent</td>\n",
              "      <td>3803</td>\n",
              "    </tr>\n",
              "    <tr>\n",
              "      <th>21</th>\n",
              "      <td>12</td>\n",
              "      <td>yet</td>\n",
              "      <td>3794</td>\n",
              "    </tr>\n",
              "    <tr>\n",
              "      <th>22</th>\n",
              "      <td>38</td>\n",
              "      <td>know</td>\n",
              "      <td>3747</td>\n",
              "    </tr>\n",
              "    <tr>\n",
              "      <th>23</th>\n",
              "      <td>13</td>\n",
              "      <td>hi</td>\n",
              "      <td>3721</td>\n",
              "    </tr>\n",
              "    <tr>\n",
              "      <th>24</th>\n",
              "      <td>266</td>\n",
              "      <td>shipping</td>\n",
              "      <td>3704</td>\n",
              "    </tr>\n",
              "    <tr>\n",
              "      <th>25</th>\n",
              "      <td>196</td>\n",
              "      <td>kickstarter</td>\n",
              "      <td>3664</td>\n",
              "    </tr>\n",
              "    <tr>\n",
              "      <th>26</th>\n",
              "      <td>631</td>\n",
              "      <td>tracking</td>\n",
              "      <td>3574</td>\n",
              "    </tr>\n",
              "    <tr>\n",
              "      <th>27</th>\n",
              "      <td>55</td>\n",
              "      <td>also</td>\n",
              "      <td>3503</td>\n",
              "    </tr>\n",
              "    <tr>\n",
              "      <th>28</th>\n",
              "      <td>98</td>\n",
              "      <td>project</td>\n",
              "      <td>3488</td>\n",
              "    </tr>\n",
              "    <tr>\n",
              "      <th>29</th>\n",
              "      <td>77</td>\n",
              "      <td>even</td>\n",
              "      <td>3485</td>\n",
              "    </tr>\n",
              "    <tr>\n",
              "      <th>30</th>\n",
              "      <td>52</td>\n",
              "      <td>backers</td>\n",
              "      <td>3381</td>\n",
              "    </tr>\n",
              "    <tr>\n",
              "      <th>31</th>\n",
              "      <td>351</td>\n",
              "      <td>never</td>\n",
              "      <td>3339</td>\n",
              "    </tr>\n",
              "    <tr>\n",
              "      <th>32</th>\n",
              "      <td>53</td>\n",
              "      <td>since</td>\n",
              "      <td>3187</td>\n",
              "    </tr>\n",
              "    <tr>\n",
              "      <th>33</th>\n",
              "      <td>78</td>\n",
              "      <td>send</td>\n",
              "      <td>3152</td>\n",
              "    </tr>\n",
              "    <tr>\n",
              "      <th>34</th>\n",
              "      <td>610</td>\n",
              "      <td>want</td>\n",
              "      <td>3060</td>\n",
              "    </tr>\n",
              "    <tr>\n",
              "      <th>35</th>\n",
              "      <td>15</td>\n",
              "      <td>receive</td>\n",
              "      <td>3030</td>\n",
              "    </tr>\n",
              "    <tr>\n",
              "      <th>36</th>\n",
              "      <td>60</td>\n",
              "      <td>work</td>\n",
              "      <td>2980</td>\n",
              "    </tr>\n",
              "    <tr>\n",
              "      <th>37</th>\n",
              "      <td>166</td>\n",
              "      <td>going</td>\n",
              "      <td>2967</td>\n",
              "    </tr>\n",
              "    <tr>\n",
              "      <th>38</th>\n",
              "      <td>632</td>\n",
              "      <td>number</td>\n",
              "      <td>2926</td>\n",
              "    </tr>\n",
              "    <tr>\n",
              "      <th>39</th>\n",
              "      <td>521</td>\n",
              "      <td>ive</td>\n",
              "      <td>2924</td>\n",
              "    </tr>\n",
              "    <tr>\n",
              "      <th>40</th>\n",
              "      <td>430</td>\n",
              "      <td>use</td>\n",
              "      <td>2902</td>\n",
              "    </tr>\n",
              "    <tr>\n",
              "      <th>41</th>\n",
              "      <td>66</td>\n",
              "      <td>nothing</td>\n",
              "      <td>2865</td>\n",
              "    </tr>\n",
              "    <tr>\n",
              "      <th>42</th>\n",
              "      <td>158</td>\n",
              "      <td>really</td>\n",
              "      <td>2841</td>\n",
              "    </tr>\n",
              "    <tr>\n",
              "      <th>43</th>\n",
              "      <td>290</td>\n",
              "      <td>see</td>\n",
              "      <td>2840</td>\n",
              "    </tr>\n",
              "    <tr>\n",
              "      <th>44</th>\n",
              "      <td>458</td>\n",
              "      <td>last</td>\n",
              "      <td>2712</td>\n",
              "    </tr>\n",
              "    <tr>\n",
              "      <th>45</th>\n",
              "      <td>230</td>\n",
              "      <td>anything</td>\n",
              "      <td>2705</td>\n",
              "    </tr>\n",
              "    <tr>\n",
              "      <th>46</th>\n",
              "      <td>106</td>\n",
              "      <td>could</td>\n",
              "      <td>2577</td>\n",
              "    </tr>\n",
              "    <tr>\n",
              "      <th>47</th>\n",
              "      <td>464</td>\n",
              "      <td>way</td>\n",
              "      <td>2523</td>\n",
              "    </tr>\n",
              "    <tr>\n",
              "      <th>48</th>\n",
              "      <td>372</td>\n",
              "      <td>cant</td>\n",
              "      <td>2512</td>\n",
              "    </tr>\n",
              "    <tr>\n",
              "      <th>49</th>\n",
              "      <td>709</td>\n",
              "      <td>waiting</td>\n",
              "      <td>2490</td>\n",
              "    </tr>\n",
              "  </tbody>\n",
              "</table>\n",
              "</div>"
            ],
            "text/plain": [
              "    index         word  count\n",
              "0      19     received   9996\n",
              "1      74          get   8544\n",
              "2      50        still   8279\n",
              "3      23       please   7644\n",
              "4      46          one   6040\n",
              "5       0       update   5971\n",
              "6     223       refund   5958\n",
              "7     162        would   5833\n",
              "8     121           im   5492\n",
              "9     163         like   5365\n",
              "10    624        email   5184\n",
              "11     69         dont   5089\n",
              "12    137      product   4919\n",
              "13     37           us   4649\n",
              "14     86         back   4531\n",
              "15    941        order   4323\n",
              "16     72        money   4122\n",
              "17     11         sent   4064\n",
              "18     24          got   4023\n",
              "19     49         time   3923\n",
              "20     18       havent   3803\n",
              "21     12          yet   3794\n",
              "22     38         know   3747\n",
              "23     13           hi   3721\n",
              "24    266     shipping   3704\n",
              "25    196  kickstarter   3664\n",
              "26    631     tracking   3574\n",
              "27     55         also   3503\n",
              "28     98      project   3488\n",
              "29     77         even   3485\n",
              "30     52      backers   3381\n",
              "31    351        never   3339\n",
              "32     53        since   3187\n",
              "33     78         send   3152\n",
              "34    610         want   3060\n",
              "35     15      receive   3030\n",
              "36     60         work   2980\n",
              "37    166        going   2967\n",
              "38    632       number   2926\n",
              "39    521          ive   2924\n",
              "40    430          use   2902\n",
              "41     66      nothing   2865\n",
              "42    158       really   2841\n",
              "43    290          see   2840\n",
              "44    458         last   2712\n",
              "45    230     anything   2705\n",
              "46    106        could   2577\n",
              "47    464          way   2523\n",
              "48    372         cant   2512\n",
              "49    709      waiting   2490"
            ]
          },
          "metadata": {
            "tags": []
          },
          "execution_count": 76
        }
      ]
    },
    {
      "cell_type": "code",
      "metadata": {
        "id": "LWgfjUgiSXHi",
        "colab_type": "code",
        "outputId": "16ad43a9-b93d-4cc5-c7ba-16e0df40eabb",
        "colab": {
          "base_uri": "https://localhost:8080/",
          "height": 1000
        }
      },
      "source": [
        "neg_dict.sort_index(by='count',ascending=False)[50:100].reset_index()"
      ],
      "execution_count": 0,
      "outputs": [
        {
          "output_type": "stream",
          "text": [
            "/usr/local/lib/python3.6/dist-packages/ipykernel_launcher.py:1: FutureWarning: by argument to sort_index is deprecated, please use .sort_values(by=...)\n",
            "  \"\"\"Entry point for launching an IPython kernel.\n"
          ],
          "name": "stderr"
        },
        {
          "output_type": "execute_result",
          "data": {
            "text/html": [
              "<div>\n",
              "<style scoped>\n",
              "    .dataframe tbody tr th:only-of-type {\n",
              "        vertical-align: middle;\n",
              "    }\n",
              "\n",
              "    .dataframe tbody tr th {\n",
              "        vertical-align: top;\n",
              "    }\n",
              "\n",
              "    .dataframe thead th {\n",
              "        text-align: right;\n",
              "    }\n",
              "</style>\n",
              "<table border=\"1\" class=\"dataframe\">\n",
              "  <thead>\n",
              "    <tr style=\"text-align: right;\">\n",
              "      <th></th>\n",
              "      <th>index</th>\n",
              "      <th>word</th>\n",
              "      <th>count</th>\n",
              "    </tr>\n",
              "  </thead>\n",
              "  <tbody>\n",
              "    <tr>\n",
              "      <th>0</th>\n",
              "      <td>14</td>\n",
              "      <td>didnt</td>\n",
              "      <td>2481</td>\n",
              "    </tr>\n",
              "    <tr>\n",
              "      <th>1</th>\n",
              "      <td>217</td>\n",
              "      <td>well</td>\n",
              "      <td>2418</td>\n",
              "    </tr>\n",
              "    <tr>\n",
              "      <th>2</th>\n",
              "      <td>4110</td>\n",
              "      <td>app</td>\n",
              "      <td>2391</td>\n",
              "    </tr>\n",
              "    <tr>\n",
              "      <th>3</th>\n",
              "      <td>391</td>\n",
              "      <td>months</td>\n",
              "      <td>2380</td>\n",
              "    </tr>\n",
              "    <tr>\n",
              "      <th>4</th>\n",
              "      <td>146</td>\n",
              "      <td>mine</td>\n",
              "      <td>2355</td>\n",
              "    </tr>\n",
              "    <tr>\n",
              "      <th>5</th>\n",
              "      <td>312</td>\n",
              "      <td>new</td>\n",
              "      <td>2339</td>\n",
              "    </tr>\n",
              "    <tr>\n",
              "      <th>6</th>\n",
              "      <td>707</td>\n",
              "      <td>need</td>\n",
              "      <td>2319</td>\n",
              "    </tr>\n",
              "    <tr>\n",
              "      <th>7</th>\n",
              "      <td>550</td>\n",
              "      <td>delivery</td>\n",
              "      <td>2314</td>\n",
              "    </tr>\n",
              "    <tr>\n",
              "      <th>8</th>\n",
              "      <td>1178</td>\n",
              "      <td>updates</td>\n",
              "      <td>2281</td>\n",
              "    </tr>\n",
              "    <tr>\n",
              "      <th>9</th>\n",
              "      <td>219</td>\n",
              "      <td>people</td>\n",
              "      <td>2249</td>\n",
              "    </tr>\n",
              "    <tr>\n",
              "      <th>10</th>\n",
              "      <td>157</td>\n",
              "      <td>ago</td>\n",
              "      <td>2233</td>\n",
              "    </tr>\n",
              "    <tr>\n",
              "      <th>11</th>\n",
              "      <td>563</td>\n",
              "      <td>think</td>\n",
              "      <td>2193</td>\n",
              "    </tr>\n",
              "    <tr>\n",
              "      <th>12</th>\n",
              "      <td>643</td>\n",
              "      <td>make</td>\n",
              "      <td>2140</td>\n",
              "    </tr>\n",
              "    <tr>\n",
              "      <th>13</th>\n",
              "      <td>105</td>\n",
              "      <td>sorry</td>\n",
              "      <td>2125</td>\n",
              "    </tr>\n",
              "    <tr>\n",
              "      <th>14</th>\n",
              "      <td>221</td>\n",
              "      <td>doesnt</td>\n",
              "      <td>2118</td>\n",
              "    </tr>\n",
              "    <tr>\n",
              "      <th>15</th>\n",
              "      <td>504</td>\n",
              "      <td>address</td>\n",
              "      <td>2099</td>\n",
              "    </tr>\n",
              "    <tr>\n",
              "      <th>16</th>\n",
              "      <td>1231</td>\n",
              "      <td>two</td>\n",
              "      <td>2085</td>\n",
              "    </tr>\n",
              "    <tr>\n",
              "      <th>17</th>\n",
              "      <td>113</td>\n",
              "      <td>first</td>\n",
              "      <td>2078</td>\n",
              "    </tr>\n",
              "    <tr>\n",
              "      <th>18</th>\n",
              "      <td>364</td>\n",
              "      <td>response</td>\n",
              "      <td>2066</td>\n",
              "    </tr>\n",
              "    <tr>\n",
              "      <th>19</th>\n",
              "      <td>236</td>\n",
              "      <td>campaign</td>\n",
              "      <td>2061</td>\n",
              "    </tr>\n",
              "    <tr>\n",
              "      <th>20</th>\n",
              "      <td>179</td>\n",
              "      <td>another</td>\n",
              "      <td>2028</td>\n",
              "    </tr>\n",
              "    <tr>\n",
              "      <th>21</th>\n",
              "      <td>22</td>\n",
              "      <td>survey</td>\n",
              "      <td>1981</td>\n",
              "    </tr>\n",
              "    <tr>\n",
              "      <th>22</th>\n",
              "      <td>353</td>\n",
              "      <td>guys</td>\n",
              "      <td>1978</td>\n",
              "    </tr>\n",
              "    <tr>\n",
              "      <th>23</th>\n",
              "      <td>2</td>\n",
              "      <td>shipped</td>\n",
              "      <td>1954</td>\n",
              "    </tr>\n",
              "    <tr>\n",
              "      <th>24</th>\n",
              "      <td>496</td>\n",
              "      <td>anyone</td>\n",
              "      <td>1895</td>\n",
              "    </tr>\n",
              "    <tr>\n",
              "      <th>25</th>\n",
              "      <td>932</td>\n",
              "      <td>already</td>\n",
              "      <td>1877</td>\n",
              "    </tr>\n",
              "    <tr>\n",
              "      <th>26</th>\n",
              "      <td>130</td>\n",
              "      <td>getting</td>\n",
              "      <td>1875</td>\n",
              "    </tr>\n",
              "    <tr>\n",
              "      <th>27</th>\n",
              "      <td>457</td>\n",
              "      <td>message</td>\n",
              "      <td>1855</td>\n",
              "    </tr>\n",
              "    <tr>\n",
              "      <th>28</th>\n",
              "      <td>3369</td>\n",
              "      <td>indiegogo</td>\n",
              "      <td>1812</td>\n",
              "    </tr>\n",
              "    <tr>\n",
              "      <th>29</th>\n",
              "      <td>164</td>\n",
              "      <td>much</td>\n",
              "      <td>1808</td>\n",
              "    </tr>\n",
              "    <tr>\n",
              "      <th>30</th>\n",
              "      <td>39</td>\n",
              "      <td>thanks</td>\n",
              "      <td>1804</td>\n",
              "    </tr>\n",
              "    <tr>\n",
              "      <th>31</th>\n",
              "      <td>387</td>\n",
              "      <td>long</td>\n",
              "      <td>1780</td>\n",
              "    </tr>\n",
              "    <tr>\n",
              "      <th>32</th>\n",
              "      <td>125</td>\n",
              "      <td>backer</td>\n",
              "      <td>1753</td>\n",
              "    </tr>\n",
              "    <tr>\n",
              "      <th>33</th>\n",
              "      <td>352</td>\n",
              "      <td>support</td>\n",
              "      <td>1752</td>\n",
              "    </tr>\n",
              "    <tr>\n",
              "      <th>34</th>\n",
              "      <td>976</td>\n",
              "      <td>working</td>\n",
              "      <td>1712</td>\n",
              "    </tr>\n",
              "    <tr>\n",
              "      <th>35</th>\n",
              "      <td>674</td>\n",
              "      <td>may</td>\n",
              "      <td>1690</td>\n",
              "    </tr>\n",
              "    <tr>\n",
              "      <th>36</th>\n",
              "      <td>229</td>\n",
              "      <td>issue</td>\n",
              "      <td>1690</td>\n",
              "    </tr>\n",
              "    <tr>\n",
              "      <th>37</th>\n",
              "      <td>625</td>\n",
              "      <td>reply</td>\n",
              "      <td>1688</td>\n",
              "    </tr>\n",
              "    <tr>\n",
              "      <th>38</th>\n",
              "      <td>160</td>\n",
              "      <td>something</td>\n",
              "      <td>1671</td>\n",
              "    </tr>\n",
              "    <tr>\n",
              "      <th>39</th>\n",
              "      <td>222</td>\n",
              "      <td>go</td>\n",
              "      <td>1632</td>\n",
              "    </tr>\n",
              "    <tr>\n",
              "      <th>40</th>\n",
              "      <td>100</td>\n",
              "      <td>give</td>\n",
              "      <td>1630</td>\n",
              "    </tr>\n",
              "    <tr>\n",
              "      <th>41</th>\n",
              "      <td>400</td>\n",
              "      <td>company</td>\n",
              "      <td>1619</td>\n",
              "    </tr>\n",
              "    <tr>\n",
              "      <th>42</th>\n",
              "      <td>156</td>\n",
              "      <td>days</td>\n",
              "      <td>1606</td>\n",
              "    </tr>\n",
              "    <tr>\n",
              "      <th>43</th>\n",
              "      <td>851</td>\n",
              "      <td>help</td>\n",
              "      <td>1591</td>\n",
              "    </tr>\n",
              "    <tr>\n",
              "      <th>44</th>\n",
              "      <td>102</td>\n",
              "      <td>many</td>\n",
              "      <td>1586</td>\n",
              "    </tr>\n",
              "    <tr>\n",
              "      <th>45</th>\n",
              "      <td>330</td>\n",
              "      <td>year</td>\n",
              "      <td>1584</td>\n",
              "    </tr>\n",
              "    <tr>\n",
              "      <th>46</th>\n",
              "      <td>293</td>\n",
              "      <td>problem</td>\n",
              "      <td>1575</td>\n",
              "    </tr>\n",
              "    <tr>\n",
              "      <th>47</th>\n",
              "      <td>118</td>\n",
              "      <td>sure</td>\n",
              "      <td>1561</td>\n",
              "    </tr>\n",
              "    <tr>\n",
              "      <th>48</th>\n",
              "      <td>36</td>\n",
              "      <td>let</td>\n",
              "      <td>1540</td>\n",
              "    </tr>\n",
              "    <tr>\n",
              "      <th>49</th>\n",
              "      <td>708</td>\n",
              "      <td>information</td>\n",
              "      <td>1535</td>\n",
              "    </tr>\n",
              "  </tbody>\n",
              "</table>\n",
              "</div>"
            ],
            "text/plain": [
              "    index         word  count\n",
              "0      14        didnt   2481\n",
              "1     217         well   2418\n",
              "2    4110          app   2391\n",
              "3     391       months   2380\n",
              "4     146         mine   2355\n",
              "5     312          new   2339\n",
              "6     707         need   2319\n",
              "7     550     delivery   2314\n",
              "8    1178      updates   2281\n",
              "9     219       people   2249\n",
              "10    157          ago   2233\n",
              "11    563        think   2193\n",
              "12    643         make   2140\n",
              "13    105        sorry   2125\n",
              "14    221       doesnt   2118\n",
              "15    504      address   2099\n",
              "16   1231          two   2085\n",
              "17    113        first   2078\n",
              "18    364     response   2066\n",
              "19    236     campaign   2061\n",
              "20    179      another   2028\n",
              "21     22       survey   1981\n",
              "22    353         guys   1978\n",
              "23      2      shipped   1954\n",
              "24    496       anyone   1895\n",
              "25    932      already   1877\n",
              "26    130      getting   1875\n",
              "27    457      message   1855\n",
              "28   3369    indiegogo   1812\n",
              "29    164         much   1808\n",
              "30     39       thanks   1804\n",
              "31    387         long   1780\n",
              "32    125       backer   1753\n",
              "33    352      support   1752\n",
              "34    976      working   1712\n",
              "35    674          may   1690\n",
              "36    229        issue   1690\n",
              "37    625        reply   1688\n",
              "38    160    something   1671\n",
              "39    222           go   1632\n",
              "40    100         give   1630\n",
              "41    400      company   1619\n",
              "42    156         days   1606\n",
              "43    851         help   1591\n",
              "44    102         many   1586\n",
              "45    330         year   1584\n",
              "46    293      problem   1575\n",
              "47    118         sure   1561\n",
              "48     36          let   1540\n",
              "49    708  information   1535"
            ]
          },
          "metadata": {
            "tags": []
          },
          "execution_count": 77
        }
      ]
    },
    {
      "cell_type": "code",
      "metadata": {
        "id": "TtSXPro7Som8",
        "colab_type": "code",
        "colab": {}
      },
      "source": [
        "tokenizer = Tokenizer()\n",
        "tokenizer.fit_on_texts(df[df.sentiment == 1]['clean'])# get tokens from negative comments\n",
        "pos_dict = pd.DataFrame(tokenizer.word_counts,columns=tokenizer.word_counts.keys(),index=[0])\n",
        "pos_dict = pos_dict.T.reset_index()\n",
        "pos_dict.columns=['word','count']"
      ],
      "execution_count": 0,
      "outputs": []
    },
    {
      "cell_type": "code",
      "metadata": {
        "id": "-Q2HpiBTWAE0",
        "colab_type": "code",
        "outputId": "5a5abe8e-dd34-4279-f3cf-d131605df7fc",
        "colab": {
          "base_uri": "https://localhost:8080/",
          "height": 1000
        }
      },
      "source": [
        "pos_dict.sort_index(by='count',ascending=False)[:50].reset_index()"
      ],
      "execution_count": 0,
      "outputs": [
        {
          "output_type": "stream",
          "text": [
            "/usr/local/lib/python3.6/dist-packages/ipykernel_launcher.py:1: FutureWarning: by argument to sort_index is deprecated, please use .sort_values(by=...)\n",
            "  \"\"\"Entry point for launching an IPython kernel.\n"
          ],
          "name": "stderr"
        },
        {
          "output_type": "execute_result",
          "data": {
            "text/html": [
              "<div>\n",
              "<style scoped>\n",
              "    .dataframe tbody tr th:only-of-type {\n",
              "        vertical-align: middle;\n",
              "    }\n",
              "\n",
              "    .dataframe tbody tr th {\n",
              "        vertical-align: top;\n",
              "    }\n",
              "\n",
              "    .dataframe thead th {\n",
              "        text-align: right;\n",
              "    }\n",
              "</style>\n",
              "<table border=\"1\" class=\"dataframe\">\n",
              "  <thead>\n",
              "    <tr style=\"text-align: right;\">\n",
              "      <th></th>\n",
              "      <th>index</th>\n",
              "      <th>word</th>\n",
              "      <th>count</th>\n",
              "    </tr>\n",
              "  </thead>\n",
              "  <tbody>\n",
              "    <tr>\n",
              "      <th>0</th>\n",
              "      <td>127</td>\n",
              "      <td>thanks</td>\n",
              "      <td>22894</td>\n",
              "    </tr>\n",
              "    <tr>\n",
              "      <th>1</th>\n",
              "      <td>25</td>\n",
              "      <td>get</td>\n",
              "      <td>15790</td>\n",
              "    </tr>\n",
              "    <tr>\n",
              "      <th>2</th>\n",
              "      <td>10</td>\n",
              "      <td>would</td>\n",
              "      <td>15222</td>\n",
              "    </tr>\n",
              "    <tr>\n",
              "      <th>3</th>\n",
              "      <td>53</td>\n",
              "      <td>hi</td>\n",
              "      <td>13934</td>\n",
              "    </tr>\n",
              "    <tr>\n",
              "      <th>4</th>\n",
              "      <td>118</td>\n",
              "      <td>thank</td>\n",
              "      <td>13863</td>\n",
              "    </tr>\n",
              "    <tr>\n",
              "      <th>5</th>\n",
              "      <td>15</td>\n",
              "      <td>update</td>\n",
              "      <td>13525</td>\n",
              "    </tr>\n",
              "    <tr>\n",
              "      <th>6</th>\n",
              "      <td>106</td>\n",
              "      <td>please</td>\n",
              "      <td>13063</td>\n",
              "    </tr>\n",
              "    <tr>\n",
              "      <th>7</th>\n",
              "      <td>154</td>\n",
              "      <td>im</td>\n",
              "      <td>12955</td>\n",
              "    </tr>\n",
              "    <tr>\n",
              "      <th>8</th>\n",
              "      <td>80</td>\n",
              "      <td>like</td>\n",
              "      <td>12607</td>\n",
              "    </tr>\n",
              "    <tr>\n",
              "      <th>9</th>\n",
              "      <td>398</td>\n",
              "      <td>one</td>\n",
              "      <td>12556</td>\n",
              "    </tr>\n",
              "    <tr>\n",
              "      <th>10</th>\n",
              "      <td>142</td>\n",
              "      <td>great</td>\n",
              "      <td>12177</td>\n",
              "    </tr>\n",
              "    <tr>\n",
              "      <th>11</th>\n",
              "      <td>150</td>\n",
              "      <td>us</td>\n",
              "      <td>11270</td>\n",
              "    </tr>\n",
              "    <tr>\n",
              "      <th>12</th>\n",
              "      <td>101</td>\n",
              "      <td>shipping</td>\n",
              "      <td>10494</td>\n",
              "    </tr>\n",
              "    <tr>\n",
              "      <th>13</th>\n",
              "      <td>129</td>\n",
              "      <td>received</td>\n",
              "      <td>10419</td>\n",
              "    </tr>\n",
              "    <tr>\n",
              "      <th>14</th>\n",
              "      <td>84</td>\n",
              "      <td>well</td>\n",
              "      <td>9816</td>\n",
              "    </tr>\n",
              "    <tr>\n",
              "      <th>15</th>\n",
              "      <td>91</td>\n",
              "      <td>know</td>\n",
              "      <td>9149</td>\n",
              "    </tr>\n",
              "    <tr>\n",
              "      <th>16</th>\n",
              "      <td>32</td>\n",
              "      <td>got</td>\n",
              "      <td>9051</td>\n",
              "    </tr>\n",
              "    <tr>\n",
              "      <th>17</th>\n",
              "      <td>4</td>\n",
              "      <td>good</td>\n",
              "      <td>9022</td>\n",
              "    </tr>\n",
              "    <tr>\n",
              "      <th>18</th>\n",
              "      <td>111</td>\n",
              "      <td>time</td>\n",
              "      <td>8701</td>\n",
              "    </tr>\n",
              "    <tr>\n",
              "      <th>19</th>\n",
              "      <td>18</td>\n",
              "      <td>still</td>\n",
              "      <td>8592</td>\n",
              "    </tr>\n",
              "    <tr>\n",
              "      <th>20</th>\n",
              "      <td>259</td>\n",
              "      <td>see</td>\n",
              "      <td>8213</td>\n",
              "    </tr>\n",
              "    <tr>\n",
              "      <th>21</th>\n",
              "      <td>59</td>\n",
              "      <td>also</td>\n",
              "      <td>8130</td>\n",
              "    </tr>\n",
              "    <tr>\n",
              "      <th>22</th>\n",
              "      <td>113</td>\n",
              "      <td>project</td>\n",
              "      <td>7906</td>\n",
              "    </tr>\n",
              "    <tr>\n",
              "      <th>23</th>\n",
              "      <td>23</td>\n",
              "      <td>product</td>\n",
              "      <td>7895</td>\n",
              "    </tr>\n",
              "    <tr>\n",
              "      <th>24</th>\n",
              "      <td>169</td>\n",
              "      <td>really</td>\n",
              "      <td>7670</td>\n",
              "    </tr>\n",
              "    <tr>\n",
              "      <th>25</th>\n",
              "      <td>39</td>\n",
              "      <td>much</td>\n",
              "      <td>7588</td>\n",
              "    </tr>\n",
              "    <tr>\n",
              "      <th>26</th>\n",
              "      <td>167</td>\n",
              "      <td>love</td>\n",
              "      <td>7523</td>\n",
              "    </tr>\n",
              "    <tr>\n",
              "      <th>27</th>\n",
              "      <td>207</td>\n",
              "      <td>order</td>\n",
              "      <td>6967</td>\n",
              "    </tr>\n",
              "    <tr>\n",
              "      <th>28</th>\n",
              "      <td>115</td>\n",
              "      <td>new</td>\n",
              "      <td>6767</td>\n",
              "    </tr>\n",
              "    <tr>\n",
              "      <th>29</th>\n",
              "      <td>753</td>\n",
              "      <td>work</td>\n",
              "      <td>6692</td>\n",
              "    </tr>\n",
              "    <tr>\n",
              "      <th>30</th>\n",
              "      <td>126</td>\n",
              "      <td>email</td>\n",
              "      <td>6690</td>\n",
              "    </tr>\n",
              "    <tr>\n",
              "      <th>31</th>\n",
              "      <td>728</td>\n",
              "      <td>make</td>\n",
              "      <td>6491</td>\n",
              "    </tr>\n",
              "    <tr>\n",
              "      <th>32</th>\n",
              "      <td>63</td>\n",
              "      <td>use</td>\n",
              "      <td>6476</td>\n",
              "    </tr>\n",
              "    <tr>\n",
              "      <th>33</th>\n",
              "      <td>278</td>\n",
              "      <td>could</td>\n",
              "      <td>6358</td>\n",
              "    </tr>\n",
              "    <tr>\n",
              "      <th>34</th>\n",
              "      <td>560</td>\n",
              "      <td>support</td>\n",
              "      <td>6201</td>\n",
              "    </tr>\n",
              "    <tr>\n",
              "      <th>35</th>\n",
              "      <td>236</td>\n",
              "      <td>hope</td>\n",
              "      <td>6153</td>\n",
              "    </tr>\n",
              "    <tr>\n",
              "      <th>36</th>\n",
              "      <td>89</td>\n",
              "      <td>guys</td>\n",
              "      <td>5978</td>\n",
              "    </tr>\n",
              "    <tr>\n",
              "      <th>37</th>\n",
              "      <td>1</td>\n",
              "      <td>wait</td>\n",
              "      <td>5856</td>\n",
              "    </tr>\n",
              "    <tr>\n",
              "      <th>38</th>\n",
              "      <td>287</td>\n",
              "      <td>backers</td>\n",
              "      <td>5828</td>\n",
              "    </tr>\n",
              "    <tr>\n",
              "      <th>39</th>\n",
              "      <td>619</td>\n",
              "      <td>best</td>\n",
              "      <td>5716</td>\n",
              "    </tr>\n",
              "    <tr>\n",
              "      <th>40</th>\n",
              "      <td>203</td>\n",
              "      <td>today</td>\n",
              "      <td>5647</td>\n",
              "    </tr>\n",
              "    <tr>\n",
              "      <th>41</th>\n",
              "      <td>383</td>\n",
              "      <td>need</td>\n",
              "      <td>5643</td>\n",
              "    </tr>\n",
              "    <tr>\n",
              "      <th>42</th>\n",
              "      <td>67</td>\n",
              "      <td>way</td>\n",
              "      <td>5639</td>\n",
              "    </tr>\n",
              "    <tr>\n",
              "      <th>43</th>\n",
              "      <td>130</td>\n",
              "      <td>mine</td>\n",
              "      <td>5625</td>\n",
              "    </tr>\n",
              "    <tr>\n",
              "      <th>44</th>\n",
              "      <td>389</td>\n",
              "      <td>cant</td>\n",
              "      <td>5423</td>\n",
              "    </tr>\n",
              "    <tr>\n",
              "      <th>45</th>\n",
              "      <td>114</td>\n",
              "      <td>going</td>\n",
              "      <td>5388</td>\n",
              "    </tr>\n",
              "    <tr>\n",
              "      <th>46</th>\n",
              "      <td>522</td>\n",
              "      <td>want</td>\n",
              "      <td>5356</td>\n",
              "    </tr>\n",
              "    <tr>\n",
              "      <th>47</th>\n",
              "      <td>427</td>\n",
              "      <td>dont</td>\n",
              "      <td>5232</td>\n",
              "    </tr>\n",
              "    <tr>\n",
              "      <th>48</th>\n",
              "      <td>285</td>\n",
              "      <td>kickstarter</td>\n",
              "      <td>5123</td>\n",
              "    </tr>\n",
              "    <tr>\n",
              "      <th>49</th>\n",
              "      <td>452</td>\n",
              "      <td>first</td>\n",
              "      <td>5066</td>\n",
              "    </tr>\n",
              "  </tbody>\n",
              "</table>\n",
              "</div>"
            ],
            "text/plain": [
              "    index         word  count\n",
              "0     127       thanks  22894\n",
              "1      25          get  15790\n",
              "2      10        would  15222\n",
              "3      53           hi  13934\n",
              "4     118        thank  13863\n",
              "5      15       update  13525\n",
              "6     106       please  13063\n",
              "7     154           im  12955\n",
              "8      80         like  12607\n",
              "9     398          one  12556\n",
              "10    142        great  12177\n",
              "11    150           us  11270\n",
              "12    101     shipping  10494\n",
              "13    129     received  10419\n",
              "14     84         well   9816\n",
              "15     91         know   9149\n",
              "16     32          got   9051\n",
              "17      4         good   9022\n",
              "18    111         time   8701\n",
              "19     18        still   8592\n",
              "20    259          see   8213\n",
              "21     59         also   8130\n",
              "22    113      project   7906\n",
              "23     23      product   7895\n",
              "24    169       really   7670\n",
              "25     39         much   7588\n",
              "26    167         love   7523\n",
              "27    207        order   6967\n",
              "28    115          new   6767\n",
              "29    753         work   6692\n",
              "30    126        email   6690\n",
              "31    728         make   6491\n",
              "32     63          use   6476\n",
              "33    278        could   6358\n",
              "34    560      support   6201\n",
              "35    236         hope   6153\n",
              "36     89         guys   5978\n",
              "37      1         wait   5856\n",
              "38    287      backers   5828\n",
              "39    619         best   5716\n",
              "40    203        today   5647\n",
              "41    383         need   5643\n",
              "42     67          way   5639\n",
              "43    130         mine   5625\n",
              "44    389         cant   5423\n",
              "45    114        going   5388\n",
              "46    522         want   5356\n",
              "47    427         dont   5232\n",
              "48    285  kickstarter   5123\n",
              "49    452        first   5066"
            ]
          },
          "metadata": {
            "tags": []
          },
          "execution_count": 79
        }
      ]
    },
    {
      "cell_type": "code",
      "metadata": {
        "id": "shSQBzXNSuAE",
        "colab_type": "code",
        "outputId": "b2b7e467-944b-4fa2-bf7a-9126ccf3c0eb",
        "colab": {
          "base_uri": "https://localhost:8080/",
          "height": 1000
        }
      },
      "source": [
        "pos_dict.sort_index(by='count',ascending=False)[50:100].reset_index()"
      ],
      "execution_count": 0,
      "outputs": [
        {
          "output_type": "stream",
          "text": [
            "/usr/local/lib/python3.6/dist-packages/ipykernel_launcher.py:1: FutureWarning: by argument to sort_index is deprecated, please use .sort_values(by=...)\n",
            "  \"\"\"Entry point for launching an IPython kernel.\n"
          ],
          "name": "stderr"
        },
        {
          "output_type": "execute_result",
          "data": {
            "text/html": [
              "<div>\n",
              "<style scoped>\n",
              "    .dataframe tbody tr th:only-of-type {\n",
              "        vertical-align: middle;\n",
              "    }\n",
              "\n",
              "    .dataframe tbody tr th {\n",
              "        vertical-align: top;\n",
              "    }\n",
              "\n",
              "    .dataframe thead th {\n",
              "        text-align: right;\n",
              "    }\n",
              "</style>\n",
              "<table border=\"1\" class=\"dataframe\">\n",
              "  <thead>\n",
              "    <tr style=\"text-align: right;\">\n",
              "      <th></th>\n",
              "      <th>index</th>\n",
              "      <th>word</th>\n",
              "      <th>count</th>\n",
              "    </tr>\n",
              "  </thead>\n",
              "  <tbody>\n",
              "    <tr>\n",
              "      <th>0</th>\n",
              "      <td>218</td>\n",
              "      <td>send</td>\n",
              "      <td>5063</td>\n",
              "    </tr>\n",
              "    <tr>\n",
              "      <th>1</th>\n",
              "      <td>973</td>\n",
              "      <td>ive</td>\n",
              "      <td>4952</td>\n",
              "    </tr>\n",
              "    <tr>\n",
              "      <th>2</th>\n",
              "      <td>41</td>\n",
              "      <td>looking</td>\n",
              "      <td>4936</td>\n",
              "    </tr>\n",
              "    <tr>\n",
              "      <th>3</th>\n",
              "      <td>583</td>\n",
              "      <td>back</td>\n",
              "      <td>4916</td>\n",
              "    </tr>\n",
              "    <tr>\n",
              "      <th>4</th>\n",
              "      <td>487</td>\n",
              "      <td>yet</td>\n",
              "      <td>4850</td>\n",
              "    </tr>\n",
              "    <tr>\n",
              "      <th>5</th>\n",
              "      <td>366</td>\n",
              "      <td>campaign</td>\n",
              "      <td>4803</td>\n",
              "    </tr>\n",
              "    <tr>\n",
              "      <th>6</th>\n",
              "      <td>840</td>\n",
              "      <td>think</td>\n",
              "      <td>4659</td>\n",
              "    </tr>\n",
              "    <tr>\n",
              "      <th>7</th>\n",
              "      <td>170</td>\n",
              "      <td>happy</td>\n",
              "      <td>4656</td>\n",
              "    </tr>\n",
              "    <tr>\n",
              "      <th>8</th>\n",
              "      <td>7</td>\n",
              "      <td>team</td>\n",
              "      <td>4654</td>\n",
              "    </tr>\n",
              "    <tr>\n",
              "      <th>9</th>\n",
              "      <td>94</td>\n",
              "      <td>last</td>\n",
              "      <td>4555</td>\n",
              "    </tr>\n",
              "    <tr>\n",
              "      <th>10</th>\n",
              "      <td>663</td>\n",
              "      <td>keep</td>\n",
              "      <td>4466</td>\n",
              "    </tr>\n",
              "    <tr>\n",
              "      <th>11</th>\n",
              "      <td>42</td>\n",
              "      <td>forward</td>\n",
              "      <td>4455</td>\n",
              "    </tr>\n",
              "    <tr>\n",
              "      <th>12</th>\n",
              "      <td>249</td>\n",
              "      <td>help</td>\n",
              "      <td>4417</td>\n",
              "    </tr>\n",
              "    <tr>\n",
              "      <th>13</th>\n",
              "      <td>573</td>\n",
              "      <td>next</td>\n",
              "      <td>4392</td>\n",
              "    </tr>\n",
              "    <tr>\n",
              "      <th>14</th>\n",
              "      <td>788</td>\n",
              "      <td>soon</td>\n",
              "      <td>4349</td>\n",
              "    </tr>\n",
              "    <tr>\n",
              "      <th>15</th>\n",
              "      <td>536</td>\n",
              "      <td>sure</td>\n",
              "      <td>4288</td>\n",
              "    </tr>\n",
              "    <tr>\n",
              "      <th>16</th>\n",
              "      <td>786</td>\n",
              "      <td>week</td>\n",
              "      <td>4121</td>\n",
              "    </tr>\n",
              "    <tr>\n",
              "      <th>17</th>\n",
              "      <td>116</td>\n",
              "      <td>updates</td>\n",
              "      <td>4062</td>\n",
              "    </tr>\n",
              "    <tr>\n",
              "      <th>18</th>\n",
              "      <td>171</td>\n",
              "      <td>go</td>\n",
              "      <td>4052</td>\n",
              "    </tr>\n",
              "    <tr>\n",
              "      <th>19</th>\n",
              "      <td>390</td>\n",
              "      <td>receive</td>\n",
              "      <td>3972</td>\n",
              "    </tr>\n",
              "    <tr>\n",
              "      <th>20</th>\n",
              "      <td>521</td>\n",
              "      <td>look</td>\n",
              "      <td>3960</td>\n",
              "    </tr>\n",
              "    <tr>\n",
              "      <th>21</th>\n",
              "      <td>407</td>\n",
              "      <td>hello</td>\n",
              "      <td>3844</td>\n",
              "    </tr>\n",
              "    <tr>\n",
              "      <th>22</th>\n",
              "      <td>99</td>\n",
              "      <td>two</td>\n",
              "      <td>3832</td>\n",
              "    </tr>\n",
              "    <tr>\n",
              "      <th>23</th>\n",
              "      <td>22</td>\n",
              "      <td>delivery</td>\n",
              "      <td>3804</td>\n",
              "    </tr>\n",
              "    <tr>\n",
              "      <th>24</th>\n",
              "      <td>93</td>\n",
              "      <td>shipped</td>\n",
              "      <td>3770</td>\n",
              "    </tr>\n",
              "    <tr>\n",
              "      <th>25</th>\n",
              "      <td>744</td>\n",
              "      <td>let</td>\n",
              "      <td>3754</td>\n",
              "    </tr>\n",
              "    <tr>\n",
              "      <th>26</th>\n",
              "      <td>125</td>\n",
              "      <td>sent</td>\n",
              "      <td>3738</td>\n",
              "    </tr>\n",
              "    <tr>\n",
              "      <th>27</th>\n",
              "      <td>271</td>\n",
              "      <td>since</td>\n",
              "      <td>3728</td>\n",
              "    </tr>\n",
              "    <tr>\n",
              "      <th>28</th>\n",
              "      <td>54</td>\n",
              "      <td>getting</td>\n",
              "      <td>3723</td>\n",
              "    </tr>\n",
              "    <tr>\n",
              "      <th>29</th>\n",
              "      <td>90</td>\n",
              "      <td>may</td>\n",
              "      <td>3703</td>\n",
              "    </tr>\n",
              "    <tr>\n",
              "      <th>30</th>\n",
              "      <td>1389</td>\n",
              "      <td>people</td>\n",
              "      <td>3665</td>\n",
              "    </tr>\n",
              "    <tr>\n",
              "      <th>31</th>\n",
              "      <td>43</td>\n",
              "      <td>many</td>\n",
              "      <td>3651</td>\n",
              "    </tr>\n",
              "    <tr>\n",
              "      <th>32</th>\n",
              "      <td>204</td>\n",
              "      <td>looks</td>\n",
              "      <td>3604</td>\n",
              "    </tr>\n",
              "    <tr>\n",
              "      <th>33</th>\n",
              "      <td>262</td>\n",
              "      <td>ship</td>\n",
              "      <td>3598</td>\n",
              "    </tr>\n",
              "    <tr>\n",
              "      <th>34</th>\n",
              "      <td>372</td>\n",
              "      <td>waiting</td>\n",
              "      <td>3569</td>\n",
              "    </tr>\n",
              "    <tr>\n",
              "      <th>35</th>\n",
              "      <td>566</td>\n",
              "      <td>working</td>\n",
              "      <td>3538</td>\n",
              "    </tr>\n",
              "    <tr>\n",
              "      <th>36</th>\n",
              "      <td>24</td>\n",
              "      <td>nice</td>\n",
              "      <td>3493</td>\n",
              "    </tr>\n",
              "    <tr>\n",
              "      <th>37</th>\n",
              "      <td>405</td>\n",
              "      <td>even</td>\n",
              "      <td>3483</td>\n",
              "    </tr>\n",
              "    <tr>\n",
              "      <th>38</th>\n",
              "      <td>319</td>\n",
              "      <td>able</td>\n",
              "      <td>3466</td>\n",
              "    </tr>\n",
              "    <tr>\n",
              "      <th>39</th>\n",
              "      <td>282</td>\n",
              "      <td>already</td>\n",
              "      <td>3430</td>\n",
              "    </tr>\n",
              "    <tr>\n",
              "      <th>40</th>\n",
              "      <td>269</td>\n",
              "      <td>right</td>\n",
              "      <td>3408</td>\n",
              "    </tr>\n",
              "    <tr>\n",
              "      <th>41</th>\n",
              "      <td>1545</td>\n",
              "      <td>using</td>\n",
              "      <td>3405</td>\n",
              "    </tr>\n",
              "    <tr>\n",
              "      <th>42</th>\n",
              "      <td>288</td>\n",
              "      <td>pledge</td>\n",
              "      <td>3282</td>\n",
              "    </tr>\n",
              "    <tr>\n",
              "      <th>43</th>\n",
              "      <td>799</td>\n",
              "      <td>number</td>\n",
              "      <td>3258</td>\n",
              "    </tr>\n",
              "    <tr>\n",
              "      <th>44</th>\n",
              "      <td>378</td>\n",
              "      <td>awesome</td>\n",
              "      <td>3249</td>\n",
              "    </tr>\n",
              "    <tr>\n",
              "      <th>45</th>\n",
              "      <td>660</td>\n",
              "      <td>possible</td>\n",
              "      <td>3229</td>\n",
              "    </tr>\n",
              "    <tr>\n",
              "      <th>46</th>\n",
              "      <td>123</td>\n",
              "      <td>hey</td>\n",
              "      <td>3220</td>\n",
              "    </tr>\n",
              "    <tr>\n",
              "      <th>47</th>\n",
              "      <td>612</td>\n",
              "      <td>tracking</td>\n",
              "      <td>3183</td>\n",
              "    </tr>\n",
              "    <tr>\n",
              "      <th>48</th>\n",
              "      <td>224</td>\n",
              "      <td>idea</td>\n",
              "      <td>3162</td>\n",
              "    </tr>\n",
              "    <tr>\n",
              "      <th>49</th>\n",
              "      <td>119</td>\n",
              "      <td>excited</td>\n",
              "      <td>3162</td>\n",
              "    </tr>\n",
              "  </tbody>\n",
              "</table>\n",
              "</div>"
            ],
            "text/plain": [
              "    index      word  count\n",
              "0     218      send   5063\n",
              "1     973       ive   4952\n",
              "2      41   looking   4936\n",
              "3     583      back   4916\n",
              "4     487       yet   4850\n",
              "5     366  campaign   4803\n",
              "6     840     think   4659\n",
              "7     170     happy   4656\n",
              "8       7      team   4654\n",
              "9      94      last   4555\n",
              "10    663      keep   4466\n",
              "11     42   forward   4455\n",
              "12    249      help   4417\n",
              "13    573      next   4392\n",
              "14    788      soon   4349\n",
              "15    536      sure   4288\n",
              "16    786      week   4121\n",
              "17    116   updates   4062\n",
              "18    171        go   4052\n",
              "19    390   receive   3972\n",
              "20    521      look   3960\n",
              "21    407     hello   3844\n",
              "22     99       two   3832\n",
              "23     22  delivery   3804\n",
              "24     93   shipped   3770\n",
              "25    744       let   3754\n",
              "26    125      sent   3738\n",
              "27    271     since   3728\n",
              "28     54   getting   3723\n",
              "29     90       may   3703\n",
              "30   1389    people   3665\n",
              "31     43      many   3651\n",
              "32    204     looks   3604\n",
              "33    262      ship   3598\n",
              "34    372   waiting   3569\n",
              "35    566   working   3538\n",
              "36     24      nice   3493\n",
              "37    405      even   3483\n",
              "38    319      able   3466\n",
              "39    282   already   3430\n",
              "40    269     right   3408\n",
              "41   1545     using   3405\n",
              "42    288    pledge   3282\n",
              "43    799    number   3258\n",
              "44    378   awesome   3249\n",
              "45    660  possible   3229\n",
              "46    123       hey   3220\n",
              "47    612  tracking   3183\n",
              "48    224      idea   3162\n",
              "49    119   excited   3162"
            ]
          },
          "metadata": {
            "tags": []
          },
          "execution_count": 80
        }
      ]
    },
    {
      "cell_type": "code",
      "metadata": {
        "id": "nXLy7tIz4J9y",
        "colab_type": "code",
        "outputId": "9b1f5031-efb2-4600-dbed-05f1c803df71",
        "colab": {
          "base_uri": "https://localhost:8080/",
          "height": 451
        }
      },
      "source": [
        "## try glove\n",
        "!wget 'http://nlp.stanford.edu/data/glove.6B.zip'\n",
        "!unzip glove.6B.zip"
      ],
      "execution_count": 0,
      "outputs": [
        {
          "output_type": "stream",
          "text": [
            "--2019-12-15 23:22:24--  http://nlp.stanford.edu/data/glove.6B.zip\n",
            "Resolving nlp.stanford.edu (nlp.stanford.edu)... 171.64.67.140\n",
            "Connecting to nlp.stanford.edu (nlp.stanford.edu)|171.64.67.140|:80... connected.\n",
            "HTTP request sent, awaiting response... 302 Found\n",
            "Location: https://nlp.stanford.edu/data/glove.6B.zip [following]\n",
            "--2019-12-15 23:22:24--  https://nlp.stanford.edu/data/glove.6B.zip\n",
            "Connecting to nlp.stanford.edu (nlp.stanford.edu)|171.64.67.140|:443... connected.\n",
            "HTTP request sent, awaiting response... 301 Moved Permanently\n",
            "Location: http://downloads.cs.stanford.edu/nlp/data/glove.6B.zip [following]\n",
            "--2019-12-15 23:22:24--  http://downloads.cs.stanford.edu/nlp/data/glove.6B.zip\n",
            "Resolving downloads.cs.stanford.edu (downloads.cs.stanford.edu)... 171.64.64.22\n",
            "Connecting to downloads.cs.stanford.edu (downloads.cs.stanford.edu)|171.64.64.22|:80... connected.\n",
            "HTTP request sent, awaiting response... 200 OK\n",
            "Length: 862182613 (822M) [application/zip]\n",
            "Saving to: ‘glove.6B.zip’\n",
            "\n",
            "glove.6B.zip        100%[===================>] 822.24M  2.08MB/s    in 6m 28s  \n",
            "\n",
            "2019-12-15 23:28:52 (2.12 MB/s) - ‘glove.6B.zip’ saved [862182613/862182613]\n",
            "\n",
            "Archive:  glove.6B.zip\n",
            "  inflating: glove.6B.50d.txt        \n",
            "  inflating: glove.6B.100d.txt       \n",
            "  inflating: glove.6B.200d.txt       \n",
            "  inflating: glove.6B.300d.txt       \n"
          ],
          "name": "stdout"
        }
      ]
    },
    {
      "cell_type": "code",
      "metadata": {
        "id": "VP2wUxRW6I1W",
        "colab_type": "code",
        "colab": {}
      },
      "source": [
        "embeddings_index = {}\n",
        "f=open('glove.6B.300d.txt')\n",
        "for line in f:\n",
        "  values = line.split()\n",
        "  word = values[0]\n",
        "  coefs = np.asarray(values[1:], dtype='float32')\n",
        "  embeddings_index[word] = coefs\n",
        "f.close()"
      ],
      "execution_count": 0,
      "outputs": []
    },
    {
      "cell_type": "code",
      "metadata": {
        "id": "w9eGT6V15Wl4",
        "colab_type": "code",
        "outputId": "f52524ae-ba46-4693-a07b-cb5bf69eb8a9",
        "colab": {
          "base_uri": "https://localhost:8080/",
          "height": 243
        }
      },
      "source": [
        "tokenizer = Tokenizer()\n",
        "tokenizer.fit_on_texts(df['clean'])\n",
        "word_index = tokenizer.word_index\n",
        "sequences = tokenizer.texts_to_sequences(df['clean'])\n",
        "data = pad_sequences(sequences, maxlen=150, padding = 'post') \n",
        "glove_embedding=np.zeros((len(word_index)+1,300))\n",
        "for word, i in word_index.items():\n",
        "    embedding_vector = embeddings_index.get(word)\n",
        "    if embedding_vector is not None:\n",
        "        # words not found in embedding index will be all-zeros.\n",
        "        glove_embedding[i] = embedding_vector\n",
        "glove_embedding"
      ],
      "execution_count": 0,
      "outputs": [
        {
          "output_type": "execute_result",
          "data": {
            "text/plain": [
              "array([[ 0.        ,  0.        ,  0.        , ...,  0.        ,\n",
              "         0.        ,  0.        ],\n",
              "       [ 0.04656   ,  0.21318001, -0.0074364 , ...,  0.0090611 ,\n",
              "        -0.20988999,  0.053913  ],\n",
              "       [-0.25756001, -0.057132  , -0.67189997, ..., -0.16043   ,\n",
              "         0.046744  , -0.070621  ],\n",
              "       ...,\n",
              "       [ 0.        ,  0.        ,  0.        , ...,  0.        ,\n",
              "         0.        ,  0.        ],\n",
              "       [ 0.        ,  0.        ,  0.        , ...,  0.        ,\n",
              "         0.        ,  0.        ],\n",
              "       [ 0.        ,  0.        ,  0.        , ...,  0.        ,\n",
              "         0.        ,  0.        ]])"
            ]
          },
          "metadata": {
            "tags": []
          },
          "execution_count": 78
        }
      ]
    },
    {
      "cell_type": "code",
      "metadata": {
        "id": "Cp40QBnV7LFl",
        "colab_type": "code",
        "outputId": "95cd9277-78c7-438a-e892-7789852efa7b",
        "colab": {
          "base_uri": "https://localhost:8080/",
          "height": 35
        }
      },
      "source": [
        "glove_embedding.shape"
      ],
      "execution_count": 0,
      "outputs": [
        {
          "output_type": "execute_result",
          "data": {
            "text/plain": [
              "(113220, 300)"
            ]
          },
          "metadata": {
            "tags": []
          },
          "execution_count": 79
        }
      ]
    },
    {
      "cell_type": "code",
      "metadata": {
        "colab_type": "code",
        "id": "2qq9arHz76j_",
        "colab": {}
      },
      "source": [
        "glove_seq_model = Sequential()\n",
        "embedding_layer = Embedding(glove_embedding.shape[0], 300,weights=[glove_embedding],input_length=150,trainable=False)            \n",
        "\n",
        "glove_seq_model.add(embedding_layer)\n",
        "glove_seq_model.add(Conv1D(filters=128,kernel_size=3,padding='valid',activation='relu',strides=1))\n",
        "glove_seq_model.add(Conv1D(filters=128,kernel_size=3,padding='valid',activation='relu',strides=1))\n",
        "glove_seq_model.add(Dropout(0.5))\n",
        "glove_seq_model.add(MaxPooling1D(pool_size = 3))\n",
        "glove_seq_model.add(Conv1D(filters=128,kernel_size=3,padding='valid',activation='relu',strides=1))\n",
        "glove_seq_model.add(Conv1D(filters=128,kernel_size=3,padding='valid',activation='relu',strides=1))\n",
        "glove_seq_model.add(Dropout(0.5))\n",
        "glove_seq_model.add(MaxPooling1D(pool_size = 3))\n",
        "# Turn output matrices into 1D tensor for shallow network.\n",
        "glove_seq_model.add(Flatten())\n",
        "glove_seq_model.add(Dense(128, activation = 'relu'))\n",
        "glove_seq_model.add(Dropout(0.5))\n",
        "glove_seq_model.add(Dense(1, activation = 'sigmoid'))\n",
        "glove_seq_model.compile(loss='binary_crossentropy',optimizer='adam',metrics=['acc'])\n",
        "callbacks_list=[keras.callbacks.EarlyStopping(monitor='val_loss',patience=3),keras.callbacks.ModelCheckpoint(filepath='glove_seq_model.h5',monitor='val_loss',save_best_only=True)]\n"
      ],
      "execution_count": 0,
      "outputs": []
    },
    {
      "cell_type": "code",
      "metadata": {
        "id": "MShc-rKL8YcT",
        "colab_type": "code",
        "outputId": "0584bfb0-4820-43e2-dc4c-7a1cc3c709de",
        "colab": {
          "base_uri": "https://localhost:8080/",
          "height": 555
        }
      },
      "source": [
        "# Fit the model\n",
        "history = glove_seq_model.fit(X_train, y_train, validation_split=0.33, epochs=20, batch_size=20,callbacks=callbacks_list)\n",
        "loss = history.history['loss']\n",
        "val_loss = history.history['val_loss']\n",
        "epochs = range(1, len(loss) + 1)\n",
        "plt.plot(epochs, loss, 'bo', label='Training loss')\n",
        "plt.plot(epochs, val_loss, 'b', label='Validation loss')\n",
        "plt.title('Training and validation loss')\n",
        "plt.xlabel('Epochs')\n",
        "plt.ylabel('Loss')\n",
        "plt.legend()\n",
        "plt.show()"
      ],
      "execution_count": 0,
      "outputs": [
        {
          "output_type": "stream",
          "text": [
            "Train on 91601 samples, validate on 45117 samples\n",
            "Epoch 1/20\n",
            "91601/91601 [==============================] - 31s 341us/sample - loss: 0.4074 - acc: 0.8132 - val_loss: 0.3826 - val_acc: 0.8410\n",
            "Epoch 2/20\n",
            "91601/91601 [==============================] - 30s 332us/sample - loss: 0.3515 - acc: 0.8439 - val_loss: 0.3611 - val_acc: 0.8507\n",
            "Epoch 3/20\n",
            "91601/91601 [==============================] - 30s 328us/sample - loss: 0.3297 - acc: 0.8548 - val_loss: 0.3519 - val_acc: 0.8513\n",
            "Epoch 4/20\n",
            "91601/91601 [==============================] - 30s 327us/sample - loss: 0.3159 - acc: 0.8617 - val_loss: 0.3342 - val_acc: 0.8524\n",
            "Epoch 5/20\n",
            "91601/91601 [==============================] - 30s 324us/sample - loss: 0.3021 - acc: 0.8693 - val_loss: 0.4107 - val_acc: 0.8175\n",
            "Epoch 6/20\n",
            "91601/91601 [==============================] - 30s 325us/sample - loss: 0.2895 - acc: 0.8748 - val_loss: 0.3342 - val_acc: 0.8514\n",
            "Epoch 7/20\n",
            "91601/91601 [==============================] - 30s 325us/sample - loss: 0.2775 - acc: 0.8823 - val_loss: 0.3474 - val_acc: 0.8501\n"
          ],
          "name": "stdout"
        },
        {
          "output_type": "display_data",
          "data": {
            "image/png": "[encoded data removed]",
            "text/plain": [
              "<Figure size 432x288 with 1 Axes>"
            ]
          },
          "metadata": {
            "tags": []
          }
        }
      ]
    },
    {
      "cell_type": "code",
      "metadata": {
        "colab_type": "code",
        "outputId": "c2697f47-2abf-49b1-9356-c8985ad62d68",
        "id": "nn0M3PQ69xoh",
        "colab": {
          "base_uri": "https://localhost:8080/",
          "height": 52
        }
      },
      "source": [
        "## draw roc auc here\n",
        "# Calculate outputs in test set\n",
        "glove_seq_model.load_weights(\"glove_seq_model.h5\")\n",
        "glove_seq_prob_test = glove_seq_model.predict(X_test, verbose = 1)\n",
        "glove_seq_prob_train = glove_seq_model.predict(X_train, verbose = 1)\n"
      ],
      "execution_count": 0,
      "outputs": [
        {
          "output_type": "stream",
          "text": [
            "67340/67340 [==============================] - 4s 63us/sample\n",
            "136718/136718 [==============================] - 8s 61us/sample\n"
          ],
          "name": "stdout"
        }
      ]
    },
    {
      "cell_type": "code",
      "metadata": {
        "colab_type": "code",
        "outputId": "3ba62ee7-fa0c-4b77-ab87-f1de550bf4f4",
        "id": "Q7jj_uUA92Vf",
        "colab": {
          "base_uri": "https://localhost:8080/",
          "height": 69
        }
      },
      "source": [
        "# Compute ROC curve and ROC area\n",
        "fpr, tpr, _ = roc_curve(y_train, glove_seq_prob_train)\n",
        "roc_auc = auc(fpr, tpr)\n",
        "print('\\nAUC train: ', roc_auc)\n",
        "\n",
        "# Compute ROC curve and ROC area\n",
        "fpr, tpr, _ = roc_curve(y_test, glove_seq_prob_test)\n",
        "roc_auc = auc(fpr, tpr)\n",
        "print('AUC test: ', roc_auc)"
      ],
      "execution_count": 0,
      "outputs": [
        {
          "output_type": "stream",
          "text": [
            "\n",
            "AUC train:  0.9379772180889938\n",
            "AUC test:  0.9161920585503787\n"
          ],
          "name": "stdout"
        }
      ]
    },
    {
      "cell_type": "code",
      "metadata": {
        "colab_type": "code",
        "outputId": "166ab5f1-3465-4c26-f4f6-6cd413c7d90a",
        "id": "WiJMYcGN98H7",
        "colab": {
          "base_uri": "https://localhost:8080/",
          "height": 295
        }
      },
      "source": [
        "plt.figure()\n",
        "lw = 2\n",
        "plt.plot(fpr, tpr, color='darkorange',\n",
        "         lw=lw, label='ROC curve (area = %0.2f)' % roc_auc)\n",
        "plt.plot([0, 1], [0, 1], color='navy', lw=lw, linestyle='--')\n",
        "plt.xlim([0.0, 1.0])\n",
        "plt.ylim([0.0, 1.05])\n",
        "plt.xlabel('False Positive Rate')\n",
        "plt.ylabel('True Positive Rate')\n",
        "plt.title('Receiver operating characteristic of glove embedding with sequential model')\n",
        "plt.legend(loc=\"lower right\")\n",
        "plt.show()"
      ],
      "execution_count": 0,
      "outputs": [
        {
          "output_type": "display_data",
          "data": {
            "image/png": "[encoded data removed]",
            "text/plain": [
              "<Figure size 432x288 with 1 Axes>"
            ]
          },
          "metadata": {
            "tags": []
          }
        }
      ]
    },
    {
      "cell_type": "code",
      "metadata": {
        "id": "I2syszIe7Soy",
        "colab_type": "code",
        "outputId": "7d0e6b4c-4053-40cf-d706-cbec9f7f5571",
        "colab": {
          "base_uri": "https://localhost:8080/",
          "height": 300
        }
      },
      "source": [
        "glove_seq_class_test=glove_seq_model.predict_classes(X_test)\n",
        "conf_mat = pd.DataFrame(confusion_matrix(y_test, glove_seq_class_test))\n",
        "calc_metrics(confusion_matrix(y_test, glove_seq_class_test))\n",
        "sns.heatmap(conf_mat,annot=True,fmt='d')"
      ],
      "execution_count": 0,
      "outputs": [
        {
          "output_type": "stream",
          "text": [
            "accuracy:0.8514256014256014,recall:0.915713627414017,sensitivity:0.6948157975303603,precision:0.8796555262681341,f1:0.8973224823226363\n"
          ],
          "name": "stdout"
        },
        {
          "output_type": "execute_result",
          "data": {
            "text/plain": [
              "<matplotlib.axes._subplots.AxesSubplot at 0x7fea0b13bf60>"
            ]
          },
          "metadata": {
            "tags": []
          },
          "execution_count": 85
        },
        {
          "output_type": "display_data",
          "data": {
            "image/png": "[encoded data removed]",
            "text/plain": [
              "<Figure size 432x288 with 2 Axes>"
            ]
          },
          "metadata": {
            "tags": []
          }
        }
      ]
    },
    {
      "cell_type": "code",
      "metadata": {
        "colab_type": "code",
        "id": "WRdT24kb-6UA",
        "colab": {}
      },
      "source": [
        "glove_paral_model = Sequential()\n",
        "embedding_layer = Embedding(len(glove_embedding),300,weights=[glove_embedding],input_length=150,trainable=False)               \n",
        "\n",
        "glove_paral_model.add(embedding_layer)\n",
        "\n",
        "# Now we add our graph model\n",
        "glove_paral_model.add(paral)\n",
        "\n",
        "# Add a few layers\n",
        "glove_paral_model.add(Dense(128, activation='relu'))\n",
        "glove_paral_model.add(Dropout(0.5))\n",
        "glove_paral_model.add(Dense(1, activation='sigmoid'))\n",
        "\n",
        "glove_paral_model.compile(loss='binary_crossentropy',optimizer='adam',metrics=['acc'])"
      ],
      "execution_count": 0,
      "outputs": []
    },
    {
      "cell_type": "code",
      "metadata": {
        "id": "MEZUfAe-A3SN",
        "colab_type": "code",
        "outputId": "2f974659-2237-4c90-a096-191e369aef44",
        "colab": {
          "base_uri": "https://localhost:8080/",
          "height": 555
        }
      },
      "source": [
        "# Fit the model\n",
        "callbacks_list=[keras.callbacks.EarlyStopping(monitor='val_loss',patience=3),keras.callbacks.ModelCheckpoint(filepath='glove_paral_model.h5',monitor='val_loss',save_best_only=True)]\n",
        "# Fit the model\n",
        "history = glove_paral_model.fit(X_train, y_train, validation_split=0.33, epochs=20, batch_size=20,callbacks=callbacks_list)\n",
        "loss = history.history['loss']\n",
        "val_loss = history.history['val_loss']\n",
        "epochs = range(1, len(loss) + 1)\n",
        "plt.plot(epochs, loss, 'bo', label='Training loss')\n",
        "plt.plot(epochs, val_loss, 'b', label='Validation loss')\n",
        "plt.title('Training and validation loss')\n",
        "plt.xlabel('Epochs')\n",
        "plt.ylabel('Loss')\n",
        "plt.legend()\n",
        "plt.show()"
      ],
      "execution_count": 0,
      "outputs": [
        {
          "output_type": "stream",
          "text": [
            "Train on 91601 samples, validate on 45117 samples\n",
            "Epoch 1/20\n",
            "91601/91601 [==============================] - 36s 388us/sample - loss: 0.4345 - acc: 0.7915 - val_loss: 0.3671 - val_acc: 0.8430\n",
            "Epoch 2/20\n",
            "91601/91601 [==============================] - 35s 377us/sample - loss: 0.3569 - acc: 0.8382 - val_loss: 0.3456 - val_acc: 0.8430\n",
            "Epoch 3/20\n",
            "91601/91601 [==============================] - 34s 376us/sample - loss: 0.3322 - acc: 0.8519 - val_loss: 0.3375 - val_acc: 0.8508\n",
            "Epoch 4/20\n",
            "91601/91601 [==============================] - 34s 373us/sample - loss: 0.3057 - acc: 0.8643 - val_loss: 0.3297 - val_acc: 0.8526\n",
            "Epoch 5/20\n",
            "91601/91601 [==============================] - 34s 370us/sample - loss: 0.2850 - acc: 0.8739 - val_loss: 0.3387 - val_acc: 0.8498\n",
            "Epoch 6/20\n",
            "91601/91601 [==============================] - 34s 368us/sample - loss: 0.2667 - acc: 0.8836 - val_loss: 0.3365 - val_acc: 0.8508\n",
            "Epoch 7/20\n",
            "91601/91601 [==============================] - 34s 371us/sample - loss: 0.2492 - acc: 0.8920 - val_loss: 0.3364 - val_acc: 0.8474\n"
          ],
          "name": "stdout"
        },
        {
          "output_type": "display_data",
          "data": {
            "image/png": "[encoded data removed]",
            "text/plain": [
              "<Figure size 432x288 with 1 Axes>"
            ]
          },
          "metadata": {
            "tags": []
          }
        }
      ]
    },
    {
      "cell_type": "code",
      "metadata": {
        "colab_type": "code",
        "outputId": "78579d15-d9b6-407f-cc55-e3fadbb9b86e",
        "id": "AyH4r-Y-CIw3",
        "colab": {
          "base_uri": "https://localhost:8080/",
          "height": 545
        }
      },
      "source": [
        "sns.set_style(\"darkgrid\")\n",
        "plt.plot(paral_model.history.history['loss'],label='fasttext_paral')\n",
        "plt.plot(seq_model.history.history['loss'],label='fasttext_seq')\n",
        "plt.plot(glove_paral_model.history.history['loss'],label='glove_paral')\n",
        "plt.plot(glove_seq_model.history.history['loss'],label='glove_seq')\n",
        "plt.title('Training Loss')\n",
        "plt.legend()\n",
        "plt.show()\n",
        "\n",
        "sns.set_style(\"darkgrid\")\n",
        "plt.plot(paral_model.history.history['val_loss'],label='fasttext_paral')\n",
        "plt.plot(seq_model.history.history['val_loss'],label='fasttext_seq')\n",
        "plt.plot(glove_paral_model.history.history['val_loss'],label='glove_paral')\n",
        "plt.plot(glove_seq_model.history.history['val_loss'],label='glove_seq')\n",
        "plt.title('Validation Loss')\n",
        "plt.legend()\n",
        "plt.show()"
      ],
      "execution_count": 0,
      "outputs": [
        {
          "output_type": "display_data",
          "data": {
            "image/png": "[encoded data removed]",
            "text/plain": [
              "<Figure size 432x288 with 1 Axes>"
            ]
          },
          "metadata": {
            "tags": []
          }
        },
        {
          "output_type": "display_data",
          "data": {
            "image/png": "[encoded data removed]",
            "text/plain": [
              "<Figure size 432x288 with 1 Axes>"
            ]
          },
          "metadata": {
            "tags": []
          }
        }
      ]
    },
    {
      "cell_type": "code",
      "metadata": {
        "colab_type": "code",
        "outputId": "b0949ab7-c3ad-452f-9b29-96d00575b76a",
        "id": "yPDYFhwUCRuj",
        "colab": {
          "base_uri": "https://localhost:8080/",
          "height": 52
        }
      },
      "source": [
        "## draw roc auc here\n",
        "# Calculate outputs in test set\n",
        "glove_paral_model.load_weights(\"glove_paral_model.h5\")\n",
        "glove_paral_prob_test = glove_paral_model.predict(X_test, verbose = 1)\n",
        "glove_paral_prob_train = glove_paral_model.predict(X_train, verbose = 1)\n"
      ],
      "execution_count": 0,
      "outputs": [
        {
          "output_type": "stream",
          "text": [
            "67340/67340 [==============================] - 6s 90us/sample\n",
            "136718/136718 [==============================] - 12s 88us/sample\n"
          ],
          "name": "stdout"
        }
      ]
    },
    {
      "cell_type": "code",
      "metadata": {
        "colab_type": "code",
        "outputId": "b208316d-6a8c-4221-80c1-44ba23f23d64",
        "id": "qcYEjbu7CX7U",
        "colab": {
          "base_uri": "https://localhost:8080/",
          "height": 69
        }
      },
      "source": [
        "# Compute ROC curve and ROC area\n",
        "fpr, tpr, _ = roc_curve(y_train, glove_seq_prob_train)\n",
        "roc_auc = auc(fpr, tpr)\n",
        "print('\\nAUC train: ', roc_auc)\n",
        "\n",
        "# Compute ROC curve and ROC area\n",
        "fpr, tpr, _ = roc_curve(y_test, glove_seq_prob_test)\n",
        "roc_auc = auc(fpr, tpr)\n",
        "print('AUC test: ', roc_auc)"
      ],
      "execution_count": 0,
      "outputs": [
        {
          "output_type": "stream",
          "text": [
            "\n",
            "AUC train:  0.9379772180889938\n",
            "AUC test:  0.9161920585503787\n"
          ],
          "name": "stdout"
        }
      ]
    },
    {
      "cell_type": "code",
      "metadata": {
        "colab_type": "code",
        "outputId": "4229973e-2263-4f68-83c3-f0799a0deb9e",
        "id": "FMB6CIyJC7Vz",
        "colab": {
          "base_uri": "https://localhost:8080/",
          "height": 295
        }
      },
      "source": [
        "plt.figure()\n",
        "lw = 2\n",
        "plt.plot(fpr, tpr, color='darkorange',\n",
        "         lw=lw, label='ROC curve (area = %0.2f)' % roc_auc)\n",
        "plt.plot([0, 1], [0, 1], color='navy', lw=lw, linestyle='--')\n",
        "plt.xlim([0.0, 1.0])\n",
        "plt.ylim([0.0, 1.05])\n",
        "plt.xlabel('False Positive Rate')\n",
        "plt.ylabel('True Positive Rate')\n",
        "plt.title('Receiver operating characteristic of glove embedding with parallel model')\n",
        "plt.legend(loc=\"lower right\")\n",
        "plt.show()"
      ],
      "execution_count": 0,
      "outputs": [
        {
          "output_type": "display_data",
          "data": {
            "image/png": "[encoded data removed]",
            "text/plain": [
              "<Figure size 432x288 with 1 Axes>"
            ]
          },
          "metadata": {
            "tags": []
          }
        }
      ]
    },
    {
      "cell_type": "code",
      "metadata": {
        "colab_type": "code",
        "outputId": "51702f07-9c31-417f-e74c-77fd769bd9c5",
        "id": "6CCgnod_C_se",
        "colab": {
          "base_uri": "https://localhost:8080/",
          "height": 300
        }
      },
      "source": [
        "glove_paral_class_test=glove_paral_model.predict_classes(X_test)\n",
        "calc_metrics(confusion_matrix(y_test, glove_paral_class_test))\n",
        "conf_mat = pd.DataFrame(confusion_matrix(y_test, glove_paral_class_test))\n",
        "sns.heatmap(conf_mat,annot=True,fmt='d')"
      ],
      "execution_count": 0,
      "outputs": [
        {
          "output_type": "stream",
          "text": [
            "accuracy:0.8494356994356994,recall:0.8885677181517322,sensitivity:0.7541075619961221,precision:0.8979911517537732,f1:0.8932545823989556\n"
          ],
          "name": "stdout"
        },
        {
          "output_type": "execute_result",
          "data": {
            "text/plain": [
              "<matplotlib.axes._subplots.AxesSubplot at 0x7fe9f5a8ac88>"
            ]
          },
          "metadata": {
            "tags": []
          },
          "execution_count": 93
        },
        {
          "output_type": "display_data",
          "data": {
            "image/png": "[encoded data removed]",
            "text/plain": [
              "<Figure size 432x288 with 2 Axes>"
            ]
          },
          "metadata": {
            "tags": []
          }
        }
      ]
    }
  ]
}